{
 "cells": [
  {
   "cell_type": "code",
   "execution_count": 44,
   "metadata": {},
   "outputs": [],
   "source": [
    "#https://www.geeksforgeeks.org/python-arima-model-for-time-series-forecasting/ \n",
    "# Importing required libraries \n",
    "import numpy as np \n",
    "import pandas as pd \n",
    "import matplotlib\n",
    "import matplotlib.pyplot as plt \n",
    "from statsmodels.tsa.seasonal import seasonal_decompose "
   ]
  },
  {
   "cell_type": "code",
   "execution_count": 45,
   "metadata": {},
   "outputs": [
    {
     "name": "stdout",
     "output_type": "stream",
     "text": [
      "8064\n"
     ]
    }
   ],
   "source": [
    "# Read the dataset \n",
    "tem = pd.read_csv('../../Datos/LQI/20m/raw_data_run1--19.csv', \n",
    "                       index_col ='Date', \n",
    "                       parse_dates = True) \n",
    "  \n",
    "\n",
    "cantidad=len(tem)\n",
    "print(cantidad)"
   ]
  },
  {
   "cell_type": "code",
   "execution_count": 46,
   "metadata": {},
   "outputs": [
    {
     "data": {
      "text/html": [
       "<div>\n",
       "<style scoped>\n",
       "    .dataframe tbody tr th:only-of-type {\n",
       "        vertical-align: middle;\n",
       "    }\n",
       "\n",
       "    .dataframe tbody tr th {\n",
       "        vertical-align: top;\n",
       "    }\n",
       "\n",
       "    .dataframe thead th {\n",
       "        text-align: right;\n",
       "    }\n",
       "</style>\n",
       "<table border=\"1\" class=\"dataframe\">\n",
       "  <thead>\n",
       "    <tr style=\"text-align: right;\">\n",
       "      <th></th>\n",
       "      <th>LQI</th>\n",
       "    </tr>\n",
       "    <tr>\n",
       "      <th>Date</th>\n",
       "      <th></th>\n",
       "    </tr>\n",
       "  </thead>\n",
       "  <tbody>\n",
       "    <tr>\n",
       "      <th>1</th>\n",
       "      <td>1</td>\n",
       "    </tr>\n",
       "    <tr>\n",
       "      <th>2</th>\n",
       "      <td>1</td>\n",
       "    </tr>\n",
       "    <tr>\n",
       "      <th>3</th>\n",
       "      <td>91</td>\n",
       "    </tr>\n",
       "    <tr>\n",
       "      <th>4</th>\n",
       "      <td>1</td>\n",
       "    </tr>\n",
       "    <tr>\n",
       "      <th>5</th>\n",
       "      <td>1</td>\n",
       "    </tr>\n",
       "    <tr>\n",
       "      <th>6</th>\n",
       "      <td>96</td>\n",
       "    </tr>\n",
       "    <tr>\n",
       "      <th>7</th>\n",
       "      <td>104</td>\n",
       "    </tr>\n",
       "    <tr>\n",
       "      <th>8</th>\n",
       "      <td>104</td>\n",
       "    </tr>\n",
       "    <tr>\n",
       "      <th>9</th>\n",
       "      <td>104</td>\n",
       "    </tr>\n",
       "    <tr>\n",
       "      <th>10</th>\n",
       "      <td>102</td>\n",
       "    </tr>\n",
       "  </tbody>\n",
       "</table>\n",
       "</div>"
      ],
      "text/plain": [
       "      LQI\n",
       "Date     \n",
       "1       1\n",
       "2       1\n",
       "3      91\n",
       "4       1\n",
       "5       1\n",
       "6      96\n",
       "7     104\n",
       "8     104\n",
       "9     104\n",
       "10    102"
      ]
     },
     "execution_count": 46,
     "metadata": {},
     "output_type": "execute_result"
    }
   ],
   "source": [
    "# Print the first ten rows of the dataset \n",
    "tem.head(10) "
   ]
  },
  {
   "cell_type": "code",
   "execution_count": 47,
   "metadata": {},
   "outputs": [
    {
     "data": {
      "text/plain": [
       "<AxesSubplot:xlabel='Date'>"
      ]
     },
     "execution_count": 47,
     "metadata": {},
     "output_type": "execute_result"
    },
    {
     "data": {
      "image/png": "[encoded data removed]",
      "text/plain": [
       "<Figure size 1440x288 with 1 Axes>"
      ]
     },
     "metadata": {
      "needs_background": "light"
     },
     "output_type": "display_data"
    }
   ],
   "source": [
    "tem.plot(figsize=(20,4))"
   ]
  },
  {
   "cell_type": "code",
   "execution_count": 48,
   "metadata": {},
   "outputs": [],
   "source": [
    "# Import the library \n",
    "#from pmdarima import auto_arima \n",
    "  \n",
    "# Ignore harmless warnings \n",
    "#import warnings \n",
    "#warnings.filterwarnings(\"ignore\") \n",
    "  \n",
    "# Fit auto_arima function \n",
    "#stepwise_fit = auto_arima(tem['LQI'], start_p = 2, start_q = 2, \n",
    "#                          max_p = 3, max_q = 3, m = 12, \n",
    " #                         start_P = 0, seasonal = True, \n",
    "  #                        d = None, D = 1, trace = True, \n",
    "   #                       error_action ='ignore',   # we don't want to know if an order does not work \n",
    "    #                      suppress_warnings = True,  # we don't want convergence warnings \n",
    "     #                     stepwise = True)           # set to stepwise \n",
    "  \n",
    "# To print the summary \n",
    "#stepwise_fit.summary() "
   ]
  },
  {
   "cell_type": "code",
   "execution_count": 49,
   "metadata": {},
   "outputs": [],
   "source": [
    "#Walk Forward Validation implementation\n",
    "# Split data into train / test sets \n",
    "\n",
    "#wfv 55-65-75\n",
    "PrimerEntrenamiento = int((cantidad/100)*55)\n",
    "SegundoEntrenamiento = int((cantidad/100)*65)\n",
    "Test = int((cantidad/100)*75)"
   ]
  },
  {
   "cell_type": "code",
   "execution_count": 50,
   "metadata": {},
   "outputs": [
    {
     "name": "stderr",
     "output_type": "stream",
     "text": [
      "C:\\Users\\ACER\\miniconda3\\lib\\site-packages\\statsmodels\\tsa\\base\\tsa_model.py:213: ValueWarning: An unsupported index was provided and will be ignored when e.g. forecasting.\n",
      "  warnings.warn('An unsupported index was provided and will be'\n",
      "C:\\Users\\ACER\\miniconda3\\lib\\site-packages\\statsmodels\\tsa\\base\\tsa_model.py:213: ValueWarning: An unsupported index was provided and will be ignored when e.g. forecasting.\n",
      "  warnings.warn('An unsupported index was provided and will be'\n"
     ]
    },
    {
     "data": {
      "text/html": [
       "<table class=\"simpletable\">\n",
       "<caption>SARIMAX Results</caption>\n",
       "<tr>\n",
       "  <th>Dep. Variable:</th>                 <td>LQI</td>              <th>  No. Observations:  </th>    <td>4435</td>   \n",
       "</tr>\n",
       "<tr>\n",
       "  <th>Model:</th>           <td>SARIMAX(0, 0, 2)x(1, 1, 2, 12)</td> <th>  Log Likelihood     </th> <td>-19025.196</td>\n",
       "</tr>\n",
       "<tr>\n",
       "  <th>Date:</th>                   <td>Tue, 27 Jul 2021</td>        <th>  AIC                </th>  <td>38062.392</td>\n",
       "</tr>\n",
       "<tr>\n",
       "  <th>Time:</th>                       <td>16:29:29</td>            <th>  BIC                </th>  <td>38100.759</td>\n",
       "</tr>\n",
       "<tr>\n",
       "  <th>Sample:</th>                         <td>0</td>               <th>  HQIC               </th>  <td>38075.923</td>\n",
       "</tr>\n",
       "<tr>\n",
       "  <th></th>                             <td> - 4435</td>            <th>                     </th>      <td> </td>    \n",
       "</tr>\n",
       "<tr>\n",
       "  <th>Covariance Type:</th>               <td>opg</td>              <th>                     </th>      <td> </td>    \n",
       "</tr>\n",
       "</table>\n",
       "<table class=\"simpletable\">\n",
       "<tr>\n",
       "      <td></td>        <th>coef</th>     <th>std err</th>      <th>z</th>      <th>P>|z|</th>  <th>[0.025</th>    <th>0.975]</th>  \n",
       "</tr>\n",
       "<tr>\n",
       "  <th>ma.L1</th>    <td>    0.2287</td> <td>    0.006</td> <td>   38.467</td> <td> 0.000</td> <td>    0.217</td> <td>    0.240</td>\n",
       "</tr>\n",
       "<tr>\n",
       "  <th>ma.L2</th>    <td>    0.2084</td> <td>    0.006</td> <td>   34.219</td> <td> 0.000</td> <td>    0.196</td> <td>    0.220</td>\n",
       "</tr>\n",
       "<tr>\n",
       "  <th>ar.S.L12</th> <td>   -0.7970</td> <td>    0.048</td> <td>  -16.560</td> <td> 0.000</td> <td>   -0.891</td> <td>   -0.703</td>\n",
       "</tr>\n",
       "<tr>\n",
       "  <th>ma.S.L12</th> <td>   -0.0159</td> <td>    0.046</td> <td>   -0.345</td> <td> 0.730</td> <td>   -0.106</td> <td>    0.074</td>\n",
       "</tr>\n",
       "<tr>\n",
       "  <th>ma.S.L24</th> <td>   -0.7075</td> <td>    0.037</td> <td>  -19.072</td> <td> 0.000</td> <td>   -0.780</td> <td>   -0.635</td>\n",
       "</tr>\n",
       "<tr>\n",
       "  <th>sigma2</th>   <td>  317.8695</td> <td>    2.391</td> <td>  132.918</td> <td> 0.000</td> <td>  313.182</td> <td>  322.557</td>\n",
       "</tr>\n",
       "</table>\n",
       "<table class=\"simpletable\">\n",
       "<tr>\n",
       "  <th>Ljung-Box (Q):</th>          <td>2171.06</td> <th>  Jarque-Bera (JB):  </th> <td>48918.84</td>\n",
       "</tr>\n",
       "<tr>\n",
       "  <th>Prob(Q):</th>                 <td>0.00</td>   <th>  Prob(JB):          </th>   <td>0.00</td>  \n",
       "</tr>\n",
       "<tr>\n",
       "  <th>Heteroskedasticity (H):</th>  <td>0.00</td>   <th>  Skew:              </th>   <td>-2.18</td> \n",
       "</tr>\n",
       "<tr>\n",
       "  <th>Prob(H) (two-sided):</th>     <td>0.00</td>   <th>  Kurtosis:          </th>   <td>18.70</td> \n",
       "</tr>\n",
       "</table><br/><br/>Warnings:<br/>[1] Covariance matrix calculated using the outer product of gradients (complex-step)."
      ],
      "text/plain": [
       "<class 'statsmodels.iolib.summary.Summary'>\n",
       "\"\"\"\n",
       "                                     SARIMAX Results                                      \n",
       "==========================================================================================\n",
       "Dep. Variable:                                LQI   No. Observations:                 4435\n",
       "Model:             SARIMAX(0, 0, 2)x(1, 1, 2, 12)   Log Likelihood              -19025.196\n",
       "Date:                            Tue, 27 Jul 2021   AIC                          38062.392\n",
       "Time:                                    16:29:29   BIC                          38100.759\n",
       "Sample:                                         0   HQIC                         38075.923\n",
       "                                           - 4435                                         \n",
       "Covariance Type:                              opg                                         \n",
       "==============================================================================\n",
       "                 coef    std err          z      P>|z|      [0.025      0.975]\n",
       "------------------------------------------------------------------------------\n",
       "ma.L1          0.2287      0.006     38.467      0.000       0.217       0.240\n",
       "ma.L2          0.2084      0.006     34.219      0.000       0.196       0.220\n",
       "ar.S.L12      -0.7970      0.048    -16.560      0.000      -0.891      -0.703\n",
       "ma.S.L12      -0.0159      0.046     -0.345      0.730      -0.106       0.074\n",
       "ma.S.L24      -0.7075      0.037    -19.072      0.000      -0.780      -0.635\n",
       "sigma2       317.8695      2.391    132.918      0.000     313.182     322.557\n",
       "===================================================================================\n",
       "Ljung-Box (Q):                     2171.06   Jarque-Bera (JB):             48918.84\n",
       "Prob(Q):                              0.00   Prob(JB):                         0.00\n",
       "Heteroskedasticity (H):               0.00   Skew:                            -2.18\n",
       "Prob(H) (two-sided):                  0.00   Kurtosis:                        18.70\n",
       "===================================================================================\n",
       "\n",
       "Warnings:\n",
       "[1] Covariance matrix calculated using the outer product of gradients (complex-step).\n",
       "\"\"\""
      ]
     },
     "execution_count": 50,
     "metadata": {},
     "output_type": "execute_result"
    }
   ],
   "source": [
    "#PRIMER ENTRENAMIENTO\n",
    "train1 = tem.iloc[:PrimerEntrenamiento] \n",
    "  \n",
    "# Fit a SARIMAX(0, 0, 2)x(1, 1, 2, 12) on the training set \n",
    "from statsmodels.tsa.statespace.sarimax import SARIMAX \n",
    "  \n",
    "model = SARIMAX(train1['LQI'],  \n",
    "                order = (0, 0, 2),  \n",
    "                seasonal_order =(1, 1, 2, 12)) \n",
    "  \n",
    "result = model.fit() \n",
    "result.summary() "
   ]
  },
  {
   "cell_type": "code",
   "execution_count": 51,
   "metadata": {},
   "outputs": [
    {
     "name": "stderr",
     "output_type": "stream",
     "text": [
      "C:\\Users\\ACER\\miniconda3\\lib\\site-packages\\statsmodels\\tsa\\base\\tsa_model.py:580: ValueWarning: No supported index is available. Prediction results will be given with an integer index beginning at `start`.\n",
      "  warnings.warn('No supported index is available.'\n"
     ]
    },
    {
     "data": {
      "text/plain": [
       "<AxesSubplot:xlabel='Date'>"
      ]
     },
     "execution_count": 51,
     "metadata": {},
     "output_type": "execute_result"
    },
    {
     "data": {
      "image/png": "[encoded data removed]",
      "text/plain": [
       "<Figure size 1440x288 with 1 Axes>"
      ]
     },
     "metadata": {
      "needs_background": "light"
     },
     "output_type": "display_data"
    }
   ],
   "source": [
    "#Primera predicción\n",
    "start = PrimerEntrenamiento \n",
    "end = SegundoEntrenamiento - 1\n",
    "  \n",
    "\n",
    "predictions1 = result.predict(start, end, \n",
    "                             typ = 'levels').rename(\"Predictions\") \n",
    "  \n",
    "# plot predictions and actual values \n",
    "predictions1.plot(legend = True, figsize=(20,4)) \n",
    "tem['LQI'].plot(legend = True)"
   ]
  },
  {
   "cell_type": "code",
   "execution_count": 52,
   "metadata": {},
   "outputs": [],
   "source": [
    "#Convertir a dataframe las predicciones\n",
    "predictions1=predictions1.to_frame()"
   ]
  },
  {
   "cell_type": "code",
   "execution_count": 53,
   "metadata": {},
   "outputs": [],
   "source": [
    "#renombrar la columna para poder concatenar\n",
    "predictions1=predictions1.rename(columns={'Predictions':'LQI'})"
   ]
  },
  {
   "cell_type": "code",
   "execution_count": 54,
   "metadata": {},
   "outputs": [
    {
     "name": "stderr",
     "output_type": "stream",
     "text": [
      "C:\\Users\\ACER\\miniconda3\\lib\\site-packages\\statsmodels\\tsa\\base\\tsa_model.py:213: ValueWarning: An unsupported index was provided and will be ignored when e.g. forecasting.\n",
      "  warnings.warn('An unsupported index was provided and will be'\n",
      "C:\\Users\\ACER\\miniconda3\\lib\\site-packages\\statsmodels\\tsa\\base\\tsa_model.py:213: ValueWarning: An unsupported index was provided and will be ignored when e.g. forecasting.\n",
      "  warnings.warn('An unsupported index was provided and will be'\n"
     ]
    },
    {
     "data": {
      "text/html": [
       "<table class=\"simpletable\">\n",
       "<caption>SARIMAX Results</caption>\n",
       "<tr>\n",
       "  <th>Dep. Variable:</th>                 <td>LQI</td>              <th>  No. Observations:  </th>    <td>5241</td>   \n",
       "</tr>\n",
       "<tr>\n",
       "  <th>Model:</th>           <td>SARIMAX(0, 0, 2)x(1, 1, 2, 12)</td> <th>  Log Likelihood     </th> <td>-22053.094</td>\n",
       "</tr>\n",
       "<tr>\n",
       "  <th>Date:</th>                   <td>Tue, 27 Jul 2021</td>        <th>  AIC                </th>  <td>44118.188</td>\n",
       "</tr>\n",
       "<tr>\n",
       "  <th>Time:</th>                       <td>16:29:58</td>            <th>  BIC                </th>  <td>44157.559</td>\n",
       "</tr>\n",
       "<tr>\n",
       "  <th>Sample:</th>                         <td>0</td>               <th>  HQIC               </th>  <td>44131.956</td>\n",
       "</tr>\n",
       "<tr>\n",
       "  <th></th>                             <td> - 5241</td>            <th>                     </th>      <td> </td>    \n",
       "</tr>\n",
       "<tr>\n",
       "  <th>Covariance Type:</th>               <td>opg</td>              <th>                     </th>      <td> </td>    \n",
       "</tr>\n",
       "</table>\n",
       "<table class=\"simpletable\">\n",
       "<tr>\n",
       "      <td></td>        <th>coef</th>     <th>std err</th>      <th>z</th>      <th>P>|z|</th>  <th>[0.025</th>    <th>0.975]</th>  \n",
       "</tr>\n",
       "<tr>\n",
       "  <th>ma.L1</th>    <td>    0.2290</td> <td>    0.005</td> <td>   45.530</td> <td> 0.000</td> <td>    0.219</td> <td>    0.239</td>\n",
       "</tr>\n",
       "<tr>\n",
       "  <th>ma.L2</th>    <td>    0.2086</td> <td>    0.005</td> <td>   40.496</td> <td> 0.000</td> <td>    0.199</td> <td>    0.219</td>\n",
       "</tr>\n",
       "<tr>\n",
       "  <th>ar.S.L12</th> <td>   -0.7966</td> <td>    0.041</td> <td>  -19.603</td> <td> 0.000</td> <td>   -0.876</td> <td>   -0.717</td>\n",
       "</tr>\n",
       "<tr>\n",
       "  <th>ma.S.L12</th> <td>   -0.0169</td> <td>    0.039</td> <td>   -0.433</td> <td> 0.665</td> <td>   -0.093</td> <td>    0.059</td>\n",
       "</tr>\n",
       "<tr>\n",
       "  <th>ma.S.L24</th> <td>   -0.7078</td> <td>    0.031</td> <td>  -22.583</td> <td> 0.000</td> <td>   -0.769</td> <td>   -0.646</td>\n",
       "</tr>\n",
       "<tr>\n",
       "  <th>sigma2</th>   <td>  268.8503</td> <td>    1.703</td> <td>  157.863</td> <td> 0.000</td> <td>  265.512</td> <td>  272.188</td>\n",
       "</tr>\n",
       "</table>\n",
       "<table class=\"simpletable\">\n",
       "<tr>\n",
       "  <th>Ljung-Box (Q):</th>          <td>2580.55</td> <th>  Jarque-Bera (JB):  </th> <td>83841.77</td>\n",
       "</tr>\n",
       "<tr>\n",
       "  <th>Prob(Q):</th>                 <td>0.00</td>   <th>  Prob(JB):          </th>   <td>0.00</td>  \n",
       "</tr>\n",
       "<tr>\n",
       "  <th>Heteroskedasticity (H):</th>  <td>0.00</td>   <th>  Skew:              </th>   <td>-2.36</td> \n",
       "</tr>\n",
       "<tr>\n",
       "  <th>Prob(H) (two-sided):</th>     <td>0.00</td>   <th>  Kurtosis:          </th>   <td>22.04</td> \n",
       "</tr>\n",
       "</table><br/><br/>Warnings:<br/>[1] Covariance matrix calculated using the outer product of gradients (complex-step)."
      ],
      "text/plain": [
       "<class 'statsmodels.iolib.summary.Summary'>\n",
       "\"\"\"\n",
       "                                     SARIMAX Results                                      \n",
       "==========================================================================================\n",
       "Dep. Variable:                                LQI   No. Observations:                 5241\n",
       "Model:             SARIMAX(0, 0, 2)x(1, 1, 2, 12)   Log Likelihood              -22053.094\n",
       "Date:                            Tue, 27 Jul 2021   AIC                          44118.188\n",
       "Time:                                    16:29:58   BIC                          44157.559\n",
       "Sample:                                         0   HQIC                         44131.956\n",
       "                                           - 5241                                         \n",
       "Covariance Type:                              opg                                         \n",
       "==============================================================================\n",
       "                 coef    std err          z      P>|z|      [0.025      0.975]\n",
       "------------------------------------------------------------------------------\n",
       "ma.L1          0.2290      0.005     45.530      0.000       0.219       0.239\n",
       "ma.L2          0.2086      0.005     40.496      0.000       0.199       0.219\n",
       "ar.S.L12      -0.7966      0.041    -19.603      0.000      -0.876      -0.717\n",
       "ma.S.L12      -0.0169      0.039     -0.433      0.665      -0.093       0.059\n",
       "ma.S.L24      -0.7078      0.031    -22.583      0.000      -0.769      -0.646\n",
       "sigma2       268.8503      1.703    157.863      0.000     265.512     272.188\n",
       "===================================================================================\n",
       "Ljung-Box (Q):                     2580.55   Jarque-Bera (JB):             83841.77\n",
       "Prob(Q):                              0.00   Prob(JB):                         0.00\n",
       "Heteroskedasticity (H):               0.00   Skew:                            -2.36\n",
       "Prob(H) (two-sided):                  0.00   Kurtosis:                        22.04\n",
       "===================================================================================\n",
       "\n",
       "Warnings:\n",
       "[1] Covariance matrix calculated using the outer product of gradients (complex-step).\n",
       "\"\"\""
      ]
     },
     "execution_count": 54,
     "metadata": {},
     "output_type": "execute_result"
    }
   ],
   "source": [
    "#SEGUNDO ENTRENAMIENTO\n",
    "#SE UNEN train1 y predictions1\n",
    "train2 = pd.concat([train1,predictions1])\n",
    "  \n",
    "# Fit a SARIMAX(0, 0, 2)x(1, 1, 2, 12) on the training set \n",
    "from statsmodels.tsa.statespace.sarimax import SARIMAX \n",
    "  \n",
    "model = SARIMAX(train2['LQI'],  \n",
    "                order = (0, 0, 2),  \n",
    "                seasonal_order =(1, 1, 2, 12)) \n",
    "  \n",
    "result = model.fit() \n",
    "result.summary() "
   ]
  },
  {
   "cell_type": "code",
   "execution_count": 55,
   "metadata": {},
   "outputs": [
    {
     "name": "stderr",
     "output_type": "stream",
     "text": [
      "C:\\Users\\ACER\\miniconda3\\lib\\site-packages\\statsmodels\\tsa\\base\\tsa_model.py:580: ValueWarning: No supported index is available. Prediction results will be given with an integer index beginning at `start`.\n",
      "  warnings.warn('No supported index is available.'\n"
     ]
    },
    {
     "data": {
      "text/plain": [
       "<AxesSubplot:xlabel='Date'>"
      ]
     },
     "execution_count": 55,
     "metadata": {},
     "output_type": "execute_result"
    },
    {
     "data": {
      "image/png": "[encoded data removed]",
      "text/plain": [
       "<Figure size 1440x288 with 1 Axes>"
      ]
     },
     "metadata": {
      "needs_background": "light"
     },
     "output_type": "display_data"
    }
   ],
   "source": [
    "#Segunda predicción\n",
    "start = SegundoEntrenamiento\n",
    "end = Test - 1\n",
    "  \n",
    "\n",
    "predictions2 = result.predict(start, end, \n",
    "                             typ = 'levels').rename(\"Predictions\") \n",
    "  \n",
    "# plot predictions and actual values \n",
    "predictions2.plot(legend = True, figsize=(20,4)) \n",
    "tem['LQI'].plot(legend = True)"
   ]
  },
  {
   "cell_type": "code",
   "execution_count": 56,
   "metadata": {},
   "outputs": [],
   "source": [
    "#Convertir a dataframe las predicciones\n",
    "predictions2=predictions2.to_frame()"
   ]
  },
  {
   "cell_type": "code",
   "execution_count": 57,
   "metadata": {},
   "outputs": [],
   "source": [
    "#renombrar la columna para poder concatenar\n",
    "predictions2=predictions2.rename(columns={'Predictions':'LQI'})"
   ]
  },
  {
   "cell_type": "code",
   "execution_count": 58,
   "metadata": {},
   "outputs": [
    {
     "name": "stderr",
     "output_type": "stream",
     "text": [
      "C:\\Users\\ACER\\miniconda3\\lib\\site-packages\\statsmodels\\tsa\\base\\tsa_model.py:213: ValueWarning: An unsupported index was provided and will be ignored when e.g. forecasting.\n",
      "  warnings.warn('An unsupported index was provided and will be'\n",
      "C:\\Users\\ACER\\miniconda3\\lib\\site-packages\\statsmodels\\tsa\\base\\tsa_model.py:213: ValueWarning: An unsupported index was provided and will be ignored when e.g. forecasting.\n",
      "  warnings.warn('An unsupported index was provided and will be'\n"
     ]
    },
    {
     "data": {
      "text/html": [
       "<table class=\"simpletable\">\n",
       "<caption>SARIMAX Results</caption>\n",
       "<tr>\n",
       "  <th>Dep. Variable:</th>                 <td>LQI</td>              <th>  No. Observations:  </th>    <td>6048</td>   \n",
       "</tr>\n",
       "<tr>\n",
       "  <th>Model:</th>           <td>SARIMAX(0, 0, 2)x(1, 1, 2, 12)</td> <th>  Log Likelihood     </th> <td>-25022.266</td>\n",
       "</tr>\n",
       "<tr>\n",
       "  <th>Date:</th>                   <td>Tue, 27 Jul 2021</td>        <th>  AIC                </th>  <td>50056.531</td>\n",
       "</tr>\n",
       "<tr>\n",
       "  <th>Time:</th>                       <td>16:30:28</td>            <th>  BIC                </th>  <td>50096.764</td>\n",
       "</tr>\n",
       "<tr>\n",
       "  <th>Sample:</th>                         <td>0</td>               <th>  HQIC               </th>  <td>50070.499</td>\n",
       "</tr>\n",
       "<tr>\n",
       "  <th></th>                             <td> - 6048</td>            <th>                     </th>      <td> </td>    \n",
       "</tr>\n",
       "<tr>\n",
       "  <th>Covariance Type:</th>               <td>opg</td>              <th>                     </th>      <td> </td>    \n",
       "</tr>\n",
       "</table>\n",
       "<table class=\"simpletable\">\n",
       "<tr>\n",
       "      <td></td>        <th>coef</th>     <th>std err</th>      <th>z</th>      <th>P>|z|</th>  <th>[0.025</th>    <th>0.975]</th>  \n",
       "</tr>\n",
       "<tr>\n",
       "  <th>ma.L1</th>    <td>    0.2292</td> <td>    0.004</td> <td>   52.600</td> <td> 0.000</td> <td>    0.221</td> <td>    0.238</td>\n",
       "</tr>\n",
       "<tr>\n",
       "  <th>ma.L2</th>    <td>    0.2088</td> <td>    0.004</td> <td>   46.784</td> <td> 0.000</td> <td>    0.200</td> <td>    0.218</td>\n",
       "</tr>\n",
       "<tr>\n",
       "  <th>ar.S.L12</th> <td>   -0.7969</td> <td>    0.035</td> <td>  -22.695</td> <td> 0.000</td> <td>   -0.866</td> <td>   -0.728</td>\n",
       "</tr>\n",
       "<tr>\n",
       "  <th>ma.S.L12</th> <td>   -0.0171</td> <td>    0.034</td> <td>   -0.508</td> <td> 0.611</td> <td>   -0.083</td> <td>    0.049</td>\n",
       "</tr>\n",
       "<tr>\n",
       "  <th>ma.S.L24</th> <td>   -0.7085</td> <td>    0.027</td> <td>  -26.149</td> <td> 0.000</td> <td>   -0.762</td> <td>   -0.655</td>\n",
       "</tr>\n",
       "<tr>\n",
       "  <th>sigma2</th>   <td>  232.8901</td> <td>    1.274</td> <td>  182.839</td> <td> 0.000</td> <td>  230.394</td> <td>  235.387</td>\n",
       "</tr>\n",
       "</table>\n",
       "<table class=\"simpletable\">\n",
       "<tr>\n",
       "  <th>Ljung-Box (Q):</th>          <td>2990.60</td> <th>  Jarque-Bera (JB):  </th> <td>132474.36</td>\n",
       "</tr>\n",
       "<tr>\n",
       "  <th>Prob(Q):</th>                 <td>0.00</td>   <th>  Prob(JB):          </th>   <td>0.00</td>   \n",
       "</tr>\n",
       "<tr>\n",
       "  <th>Heteroskedasticity (H):</th>  <td>0.00</td>   <th>  Skew:              </th>   <td>-2.52</td>  \n",
       "</tr>\n",
       "<tr>\n",
       "  <th>Prob(H) (two-sided):</th>     <td>0.00</td>   <th>  Kurtosis:          </th>   <td>25.39</td>  \n",
       "</tr>\n",
       "</table><br/><br/>Warnings:<br/>[1] Covariance matrix calculated using the outer product of gradients (complex-step)."
      ],
      "text/plain": [
       "<class 'statsmodels.iolib.summary.Summary'>\n",
       "\"\"\"\n",
       "                                     SARIMAX Results                                      \n",
       "==========================================================================================\n",
       "Dep. Variable:                                LQI   No. Observations:                 6048\n",
       "Model:             SARIMAX(0, 0, 2)x(1, 1, 2, 12)   Log Likelihood              -25022.266\n",
       "Date:                            Tue, 27 Jul 2021   AIC                          50056.531\n",
       "Time:                                    16:30:28   BIC                          50096.764\n",
       "Sample:                                         0   HQIC                         50070.499\n",
       "                                           - 6048                                         \n",
       "Covariance Type:                              opg                                         \n",
       "==============================================================================\n",
       "                 coef    std err          z      P>|z|      [0.025      0.975]\n",
       "------------------------------------------------------------------------------\n",
       "ma.L1          0.2292      0.004     52.600      0.000       0.221       0.238\n",
       "ma.L2          0.2088      0.004     46.784      0.000       0.200       0.218\n",
       "ar.S.L12      -0.7969      0.035    -22.695      0.000      -0.866      -0.728\n",
       "ma.S.L12      -0.0171      0.034     -0.508      0.611      -0.083       0.049\n",
       "ma.S.L24      -0.7085      0.027    -26.149      0.000      -0.762      -0.655\n",
       "sigma2       232.8901      1.274    182.839      0.000     230.394     235.387\n",
       "===================================================================================\n",
       "Ljung-Box (Q):                     2990.60   Jarque-Bera (JB):            132474.36\n",
       "Prob(Q):                              0.00   Prob(JB):                         0.00\n",
       "Heteroskedasticity (H):               0.00   Skew:                            -2.52\n",
       "Prob(H) (two-sided):                  0.00   Kurtosis:                        25.39\n",
       "===================================================================================\n",
       "\n",
       "Warnings:\n",
       "[1] Covariance matrix calculated using the outer product of gradients (complex-step).\n",
       "\"\"\""
      ]
     },
     "execution_count": 58,
     "metadata": {},
     "output_type": "execute_result"
    }
   ],
   "source": [
    "#TERCER ENTRENAMIENTO\n",
    "#SE UNEN train2 y predictions2\n",
    "train3 = pd.concat([train2,predictions2])\n",
    "test = tem.iloc[Test-1:cantidad-1]\n",
    "  \n",
    "# Fit a SARIMAX(0, 0, 2)x(1, 1, 2, 12) on the training set \n",
    "from statsmodels.tsa.statespace.sarimax import SARIMAX \n",
    "  \n",
    "model = SARIMAX(train3['LQI'],  \n",
    "                order = (0, 0, 2),  \n",
    "                seasonal_order =(1, 1, 2, 12)) \n",
    "  \n",
    "result = model.fit() \n",
    "result.summary() "
   ]
  },
  {
   "cell_type": "code",
   "execution_count": 59,
   "metadata": {},
   "outputs": [
    {
     "name": "stderr",
     "output_type": "stream",
     "text": [
      "C:\\Users\\ACER\\miniconda3\\lib\\site-packages\\statsmodels\\tsa\\base\\tsa_model.py:580: ValueWarning: No supported index is available. Prediction results will be given with an integer index beginning at `start`.\n",
      "  warnings.warn('No supported index is available.'\n"
     ]
    },
    {
     "data": {
      "text/plain": [
       "<AxesSubplot:xlabel='Date'>"
      ]
     },
     "execution_count": 59,
     "metadata": {},
     "output_type": "execute_result"
    },
    {
     "data": {
      "image/png": "[encoded data removed]",
      "text/plain": [
       "<Figure size 1440x288 with 1 Axes>"
      ]
     },
     "metadata": {
      "needs_background": "light"
     },
     "output_type": "display_data"
    }
   ],
   "source": [
    "#Tercera predicción\n",
    "start = Test\n",
    "end = cantidad - 1\n",
    "  \n",
    "\n",
    "predictions3 = result.predict(start, end, \n",
    "                             typ = 'levels').rename(\"Predictions\") \n",
    "  \n",
    "# plot predictions and actual values \n",
    "predictions3.plot(legend = True, figsize=(20,4)) \n",
    "tem['LQI'].plot(legend = True)"
   ]
  },
  {
   "cell_type": "code",
   "execution_count": 60,
   "metadata": {},
   "outputs": [
    {
     "name": "stdout",
     "output_type": "stream",
     "text": [
      "MSE: \n",
      "10.744279712072075\n",
      "\n",
      "RMSE: \n",
      "3.2778468103424347\n",
      "\n",
      "MAPE (Porcentaje): \n",
      "2.3497942811299923\n"
     ]
    }
   ],
   "source": [
    "# Load specific evaluation tools \n",
    "from sklearn.metrics import mean_squared_error \n",
    "from statsmodels.tools.eval_measures import rmse \n",
    "  \n",
    "    \n",
    "# Calculate mean squared error \n",
    "mse = mean_squared_error(test[\"LQI\"], predictions3)\n",
    "print(\"MSE: \")\n",
    "print(mse)\n",
    "\n",
    "# Calculate root mean squared error \n",
    "rmse = rmse(test[\"LQI\"], predictions3)\n",
    "print(\"\\nRMSE: \")\n",
    "print(rmse)\n",
    "\n",
    "# Calculate MAPE\n",
    "def mapes(actual, pred): \n",
    "    actual, pred = np.array(actual), np.array(pred)\n",
    "    return np.mean(np.abs((actual - pred) / actual)) * 100\n",
    "\n",
    "mape =  mapes(test[\"LQI\"], predictions3)\n",
    "print(\"\\nMAPE (Porcentaje): \")\n",
    "print(mape)"
   ]
  },
  {
   "cell_type": "code",
   "execution_count": 61,
   "metadata": {},
   "outputs": [
    {
     "name": "stderr",
     "output_type": "stream",
     "text": [
      "C:\\Users\\ACER\\miniconda3\\lib\\site-packages\\statsmodels\\tsa\\base\\tsa_model.py:213: ValueWarning: An unsupported index was provided and will be ignored when e.g. forecasting.\n",
      "  warnings.warn('An unsupported index was provided and will be'\n",
      "C:\\Users\\ACER\\miniconda3\\lib\\site-packages\\statsmodels\\tsa\\base\\tsa_model.py:213: ValueWarning: An unsupported index was provided and will be ignored when e.g. forecasting.\n",
      "  warnings.warn('An unsupported index was provided and will be'\n",
      "C:\\Users\\ACER\\miniconda3\\lib\\site-packages\\statsmodels\\tsa\\base\\tsa_model.py:580: ValueWarning: No supported index is available. Prediction results will be given with an integer index beginning at `start`.\n",
      "  warnings.warn('No supported index is available.'\n"
     ]
    },
    {
     "data": {
      "text/plain": [
       "<AxesSubplot:xlabel='Date'>"
      ]
     },
     "execution_count": 61,
     "metadata": {},
     "output_type": "execute_result"
    },
    {
     "data": {
      "image/png": "[encoded data removed]",
      "text/plain": [
       "<Figure size 1440x360 with 1 Axes>"
      ]
     },
     "metadata": {
      "needs_background": "light"
     },
     "output_type": "display_data"
    }
   ],
   "source": [
    "##############################################################################################\n",
    "#SI QUIERO PREDECIR\n",
    "# Train the model on the full dataset \n",
    "model = model = SARIMAX(tem['LQI'],  \n",
    "                        order = (0, 0, 2),  \n",
    "                        seasonal_order =(1, 1, 2, 12)) \n",
    "\n",
    "  \n",
    "# Forecast for the next 3 years \n",
    "forecast = result.predict(start = end,  \n",
    "                          end = end+1000,  \n",
    "                          typ = 'levels').rename('Forecast') \n",
    "  \n",
    "# Plot the forecast values \n",
    "tem['LQI'].plot(figsize = (20, 5), legend = True) \n",
    "forecast.plot(legend = True) "
   ]
  },
  {
   "cell_type": "code",
   "execution_count": null,
   "metadata": {},
   "outputs": [],
   "source": []
  }
 ],
 "metadata": {
  "kernelspec": {
   "display_name": "Python 3",
   "language": "python",
   "name": "python3"
  },
  "language_info": {
   "codemirror_mode": {
    "name": "ipython",
    "version": 3
   },
   "file_extension": ".py",
   "mimetype": "text/x-python",
   "name": "python",
   "nbconvert_exporter": "python",
   "pygments_lexer": "ipython3",
   "version": "3.8.3"
  }
 },
 "nbformat": 4,
 "nbformat_minor": 4
}
