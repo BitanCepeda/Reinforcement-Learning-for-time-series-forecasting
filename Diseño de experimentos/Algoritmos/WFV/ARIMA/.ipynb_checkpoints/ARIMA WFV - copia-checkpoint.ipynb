{
 "cells": [
  {
   "cell_type": "code",
   "execution_count": 1,
   "metadata": {},
   "outputs": [],
   "source": [
    "#https://www.geeksforgeeks.org/python-arima-model-for-time-series-forecasting/ \n",
    "# Importing required libraries \n",
    "import numpy as np \n",
    "import pandas as pd \n",
    "import matplotlib\n",
    "import matplotlib.pyplot as plt \n",
    "from statsmodels.tsa.seasonal import seasonal_decompose "
   ]
  },
  {
   "cell_type": "code",
   "execution_count": 2,
   "metadata": {},
   "outputs": [
    {
     "name": "stdout",
     "output_type": "stream",
     "text": [
      "8064\n"
     ]
    }
   ],
   "source": [
    "# Read the dataset \n",
    "tem = pd.read_csv('../../Datos/LQI/10m/raw_data_run3--1.csv', \n",
    "                       index_col ='Date', \n",
    "                       parse_dates = True) \n",
    "  \n",
    "\n",
    "cantidad=len(tem)\n",
    "print(cantidad)"
   ]
  },
  {
   "cell_type": "code",
   "execution_count": 3,
   "metadata": {},
   "outputs": [
    {
     "data": {
      "text/html": [
       "<div>\n",
       "<style scoped>\n",
       "    .dataframe tbody tr th:only-of-type {\n",
       "        vertical-align: middle;\n",
       "    }\n",
       "\n",
       "    .dataframe tbody tr th {\n",
       "        vertical-align: top;\n",
       "    }\n",
       "\n",
       "    .dataframe thead th {\n",
       "        text-align: right;\n",
       "    }\n",
       "</style>\n",
       "<table border=\"1\" class=\"dataframe\">\n",
       "  <thead>\n",
       "    <tr style=\"text-align: right;\">\n",
       "      <th></th>\n",
       "      <th>LQI</th>\n",
       "    </tr>\n",
       "    <tr>\n",
       "      <th>Date</th>\n",
       "      <th></th>\n",
       "    </tr>\n",
       "  </thead>\n",
       "  <tbody>\n",
       "    <tr>\n",
       "      <th>1</th>\n",
       "      <td>-43</td>\n",
       "    </tr>\n",
       "    <tr>\n",
       "      <th>2</th>\n",
       "      <td>-35</td>\n",
       "    </tr>\n",
       "    <tr>\n",
       "      <th>3</th>\n",
       "      <td>-35</td>\n",
       "    </tr>\n",
       "    <tr>\n",
       "      <th>4</th>\n",
       "      <td>-35</td>\n",
       "    </tr>\n",
       "    <tr>\n",
       "      <th>5</th>\n",
       "      <td>-37</td>\n",
       "    </tr>\n",
       "    <tr>\n",
       "      <th>6</th>\n",
       "      <td>-33</td>\n",
       "    </tr>\n",
       "    <tr>\n",
       "      <th>7</th>\n",
       "      <td>-32</td>\n",
       "    </tr>\n",
       "    <tr>\n",
       "      <th>8</th>\n",
       "      <td>-31</td>\n",
       "    </tr>\n",
       "    <tr>\n",
       "      <th>9</th>\n",
       "      <td>-31</td>\n",
       "    </tr>\n",
       "    <tr>\n",
       "      <th>10</th>\n",
       "      <td>-31</td>\n",
       "    </tr>\n",
       "  </tbody>\n",
       "</table>\n",
       "</div>"
      ],
      "text/plain": [
       "      LQI\n",
       "Date     \n",
       "1     -43\n",
       "2     -35\n",
       "3     -35\n",
       "4     -35\n",
       "5     -37\n",
       "6     -33\n",
       "7     -32\n",
       "8     -31\n",
       "9     -31\n",
       "10    -31"
      ]
     },
     "execution_count": 3,
     "metadata": {},
     "output_type": "execute_result"
    }
   ],
   "source": [
    "# Print the first ten rows of the dataset \n",
    "tem.head(10) "
   ]
  },
  {
   "cell_type": "code",
   "execution_count": 4,
   "metadata": {},
   "outputs": [
    {
     "data": {
      "text/plain": [
       "<AxesSubplot:xlabel='Date'>"
      ]
     },
     "execution_count": 4,
     "metadata": {},
     "output_type": "execute_result"
    },
    {
     "data": {
      "image/png": "[encoded data removed]",
      "text/plain": [
       "<Figure size 1440x288 with 1 Axes>"
      ]
     },
     "metadata": {
      "needs_background": "light"
     },
     "output_type": "display_data"
    }
   ],
   "source": [
    "tem.plot(figsize=(20,4))"
   ]
  },
  {
   "cell_type": "code",
   "execution_count": null,
   "metadata": {},
   "outputs": [
    {
     "name": "stdout",
     "output_type": "stream",
     "text": [
      "Performing stepwise search to minimize aic\n",
      " ARIMA(2,0,2)(0,1,1)[12] intercept   : AIC=inf, Time=96.76 sec\n",
      " ARIMA(0,0,0)(0,1,0)[12] intercept   : AIC=40150.794, Time=0.36 sec\n",
      " ARIMA(1,0,0)(1,1,0)[12] intercept   : AIC=38157.498, Time=6.29 sec\n",
      " ARIMA(0,0,1)(0,1,1)[12] intercept   : AIC=36402.335, Time=8.39 sec\n",
      " ARIMA(0,0,0)(0,1,0)[12]             : AIC=40150.013, Time=0.25 sec\n",
      " ARIMA(0,0,1)(0,1,0)[12] intercept   : AIC=40144.918, Time=1.43 sec\n",
      " ARIMA(0,0,1)(1,1,1)[12] intercept   : AIC=36394.561, Time=11.19 sec\n",
      " ARIMA(0,0,1)(1,1,0)[12] intercept   : AIC=38159.726, Time=5.95 sec\n",
      " ARIMA(0,0,1)(2,1,1)[12] intercept   : AIC=36396.181, Time=39.86 sec\n",
      " ARIMA(0,0,1)(1,1,2)[12] intercept   : AIC=36392.735, Time=79.43 sec\n",
      " ARIMA(0,0,1)(0,1,2)[12] intercept   : AIC=36394.746, Time=37.32 sec\n",
      " ARIMA(0,0,1)(2,1,2)[12] intercept   : AIC=inf, Time=97.81 sec\n",
      " ARIMA(0,0,0)(1,1,2)[12] intercept   : AIC=36512.761, Time=62.63 sec\n",
      " ARIMA(1,0,1)(1,1,2)[12] intercept   : AIC=inf, Time=126.27 sec\n",
      " ARIMA(0,0,2)(1,1,2)[12] intercept   : AIC=36338.901, Time=97.88 sec\n",
      " ARIMA(0,0,2)(0,1,2)[12] intercept   : AIC=36341.234, Time=47.96 sec\n",
      " ARIMA(0,0,2)(1,1,1)[12] intercept   : AIC=36340.969, Time=16.54 sec\n",
      " ARIMA(0,0,2)(2,1,2)[12] intercept   : AIC=inf, Time=135.03 sec\n",
      " ARIMA(0,0,2)(0,1,1)[12] intercept   : AIC=36349.860, Time=11.26 sec\n",
      " ARIMA(0,0,2)(2,1,1)[12] intercept   : AIC=36342.272, Time=46.33 sec\n",
      " ARIMA(1,0,2)(1,1,2)[12] intercept   : AIC=inf, Time=163.61 sec\n",
      " ARIMA(0,0,3)(1,1,2)[12] intercept   : AIC=inf, Time=108.65 sec\n"
     ]
    }
   ],
   "source": [
    "# Import the library \n",
    "from pmdarima import auto_arima \n",
    "  \n",
    "# Ignore harmless warnings \n",
    "import warnings \n",
    "warnings.filterwarnings(\"ignore\") \n",
    "  \n",
    "# Fit auto_arima function \n",
    "stepwise_fit = auto_arima(tem['LQI'], start_p = 2, start_q = 2, \n",
    "                          max_p = 3, max_q = 3, m = 12, \n",
    "                          start_P = 0, seasonal = True, \n",
    "                          d = None, D = 1, trace = True, \n",
    "                          error_action ='ignore',   # we don't want to know if an order does not work \n",
    "                          suppress_warnings = True,  # we don't want convergence warnings \n",
    "                          stepwise = True)           # set to stepwise \n",
    "  \n",
    "# To print the summary \n",
    "stepwise_fit.summary() "
   ]
  },
  {
   "cell_type": "code",
   "execution_count": 5,
   "metadata": {},
   "outputs": [],
   "source": [
    "#Walk Forward Validation implementation\n",
    "# Split data into train / test sets \n",
    "\n",
    "#Se halla el 50% de los datos reales, y se predice del 50-75%\n",
    "PrimerEntrenamiento = int((cantidad/100)*50)\n",
    "Test = int((cantidad/100)*75)"
   ]
  },
  {
   "cell_type": "code",
   "execution_count": 6,
   "metadata": {},
   "outputs": [
    {
     "name": "stderr",
     "output_type": "stream",
     "text": [
      "C:\\Users\\ACER\\miniconda3\\lib\\site-packages\\statsmodels\\tsa\\base\\tsa_model.py:213: ValueWarning: An unsupported index was provided and will be ignored when e.g. forecasting.\n",
      "  warnings.warn('An unsupported index was provided and will be'\n",
      "C:\\Users\\ACER\\miniconda3\\lib\\site-packages\\statsmodels\\tsa\\base\\tsa_model.py:213: ValueWarning: An unsupported index was provided and will be ignored when e.g. forecasting.\n",
      "  warnings.warn('An unsupported index was provided and will be'\n"
     ]
    },
    {
     "data": {
      "text/html": [
       "<table class=\"simpletable\">\n",
       "<caption>SARIMAX Results</caption>\n",
       "<tr>\n",
       "  <th>Dep. Variable:</th>                 <td>LQI</td>              <th>  No. Observations:  </th>    <td>4032</td>   \n",
       "</tr>\n",
       "<tr>\n",
       "  <th>Model:</th>           <td>SARIMAX(0, 0, 2)x(1, 1, 2, 12)</td> <th>  Log Likelihood     </th> <td>-10348.272</td>\n",
       "</tr>\n",
       "<tr>\n",
       "  <th>Date:</th>                   <td>Sun, 11 Jul 2021</td>        <th>  AIC                </th>  <td>20708.544</td>\n",
       "</tr>\n",
       "<tr>\n",
       "  <th>Time:</th>                       <td>13:33:01</td>            <th>  BIC                </th>  <td>20746.338</td>\n",
       "</tr>\n",
       "<tr>\n",
       "  <th>Sample:</th>                         <td>0</td>               <th>  HQIC               </th>  <td>20721.938</td>\n",
       "</tr>\n",
       "<tr>\n",
       "  <th></th>                             <td> - 4032</td>            <th>                     </th>      <td> </td>    \n",
       "</tr>\n",
       "<tr>\n",
       "  <th>Covariance Type:</th>               <td>opg</td>              <th>                     </th>      <td> </td>    \n",
       "</tr>\n",
       "</table>\n",
       "<table class=\"simpletable\">\n",
       "<tr>\n",
       "      <td></td>        <th>coef</th>     <th>std err</th>      <th>z</th>      <th>P>|z|</th>  <th>[0.025</th>    <th>0.975]</th>  \n",
       "</tr>\n",
       "<tr>\n",
       "  <th>ma.L1</th>    <td>    0.1056</td> <td>    0.008</td> <td>   13.020</td> <td> 0.000</td> <td>    0.090</td> <td>    0.121</td>\n",
       "</tr>\n",
       "<tr>\n",
       "  <th>ma.L2</th>    <td>    0.0707</td> <td>    0.006</td> <td>   11.489</td> <td> 0.000</td> <td>    0.059</td> <td>    0.083</td>\n",
       "</tr>\n",
       "<tr>\n",
       "  <th>ar.S.L12</th> <td>   -0.8625</td> <td>    0.049</td> <td>  -17.655</td> <td> 0.000</td> <td>   -0.958</td> <td>   -0.767</td>\n",
       "</tr>\n",
       "<tr>\n",
       "  <th>ma.S.L12</th> <td>    0.0564</td> <td>    0.046</td> <td>    1.214</td> <td> 0.225</td> <td>   -0.035</td> <td>    0.148</td>\n",
       "</tr>\n",
       "<tr>\n",
       "  <th>ma.S.L24</th> <td>   -0.7333</td> <td>    0.037</td> <td>  -19.775</td> <td> 0.000</td> <td>   -0.806</td> <td>   -0.661</td>\n",
       "</tr>\n",
       "<tr>\n",
       "  <th>sigma2</th>   <td>   10.0449</td> <td>    0.044</td> <td>  230.162</td> <td> 0.000</td> <td>    9.959</td> <td>   10.130</td>\n",
       "</tr>\n",
       "</table>\n",
       "<table class=\"simpletable\">\n",
       "<tr>\n",
       "  <th>Ljung-Box (Q):</th>          <td>1010.18</td> <th>  Jarque-Bera (JB):  </th> <td>586644.90</td>\n",
       "</tr>\n",
       "<tr>\n",
       "  <th>Prob(Q):</th>                 <td>0.00</td>   <th>  Prob(JB):          </th>   <td>0.00</td>   \n",
       "</tr>\n",
       "<tr>\n",
       "  <th>Heteroskedasticity (H):</th>  <td>0.02</td>   <th>  Skew:              </th>   <td>5.95</td>   \n",
       "</tr>\n",
       "<tr>\n",
       "  <th>Prob(H) (two-sided):</th>     <td>0.00</td>   <th>  Kurtosis:          </th>   <td>60.97</td>  \n",
       "</tr>\n",
       "</table><br/><br/>Warnings:<br/>[1] Covariance matrix calculated using the outer product of gradients (complex-step)."
      ],
      "text/plain": [
       "<class 'statsmodels.iolib.summary.Summary'>\n",
       "\"\"\"\n",
       "                                     SARIMAX Results                                      \n",
       "==========================================================================================\n",
       "Dep. Variable:                                LQI   No. Observations:                 4032\n",
       "Model:             SARIMAX(0, 0, 2)x(1, 1, 2, 12)   Log Likelihood              -10348.272\n",
       "Date:                            Sun, 11 Jul 2021   AIC                          20708.544\n",
       "Time:                                    13:33:01   BIC                          20746.338\n",
       "Sample:                                         0   HQIC                         20721.938\n",
       "                                           - 4032                                         \n",
       "Covariance Type:                              opg                                         \n",
       "==============================================================================\n",
       "                 coef    std err          z      P>|z|      [0.025      0.975]\n",
       "------------------------------------------------------------------------------\n",
       "ma.L1          0.1056      0.008     13.020      0.000       0.090       0.121\n",
       "ma.L2          0.0707      0.006     11.489      0.000       0.059       0.083\n",
       "ar.S.L12      -0.8625      0.049    -17.655      0.000      -0.958      -0.767\n",
       "ma.S.L12       0.0564      0.046      1.214      0.225      -0.035       0.148\n",
       "ma.S.L24      -0.7333      0.037    -19.775      0.000      -0.806      -0.661\n",
       "sigma2        10.0449      0.044    230.162      0.000       9.959      10.130\n",
       "===================================================================================\n",
       "Ljung-Box (Q):                     1010.18   Jarque-Bera (JB):            586644.90\n",
       "Prob(Q):                              0.00   Prob(JB):                         0.00\n",
       "Heteroskedasticity (H):               0.02   Skew:                             5.95\n",
       "Prob(H) (two-sided):                  0.00   Kurtosis:                        60.97\n",
       "===================================================================================\n",
       "\n",
       "Warnings:\n",
       "[1] Covariance matrix calculated using the outer product of gradients (complex-step).\n",
       "\"\"\""
      ]
     },
     "execution_count": 6,
     "metadata": {},
     "output_type": "execute_result"
    }
   ],
   "source": [
    "#PRIMER ENTRENAMIENTO\n",
    "train1 = tem.iloc[:PrimerEntrenamiento] \n",
    "  \n",
    "# Fit a SARIMAX(0, 0, 2)x(1, 1, 2, 12) on the training set \n",
    "from statsmodels.tsa.statespace.sarimax import SARIMAX \n",
    "  \n",
    "model = SARIMAX(train1['LQI'],  \n",
    "                order = (0, 0, 2),  \n",
    "                seasonal_order =(1, 1, 2, 12)) \n",
    "  \n",
    "result = model.fit() \n",
    "result.summary() "
   ]
  },
  {
   "cell_type": "code",
   "execution_count": 9,
   "metadata": {},
   "outputs": [
    {
     "name": "stderr",
     "output_type": "stream",
     "text": [
      "C:\\Users\\ACER\\miniconda3\\lib\\site-packages\\statsmodels\\tsa\\base\\tsa_model.py:580: ValueWarning: No supported index is available. Prediction results will be given with an integer index beginning at `start`.\n",
      "  warnings.warn('No supported index is available.'\n"
     ]
    },
    {
     "data": {
      "text/plain": [
       "<AxesSubplot:xlabel='Date'>"
      ]
     },
     "execution_count": 9,
     "metadata": {},
     "output_type": "execute_result"
    },
    {
     "data": {
      "image/png": "[encoded data removed]",
      "text/plain": [
       "<Figure size 1440x288 with 1 Axes>"
      ]
     },
     "metadata": {
      "needs_background": "light"
     },
     "output_type": "display_data"
    }
   ],
   "source": [
    "#Primera predicción\n",
    "start = PrimerEntrenamiento \n",
    "end = Test - 1\n",
    "  \n",
    "\n",
    "predictions1 = result.predict(start, end, \n",
    "                             typ = 'levels').rename(\"Predictions\") \n",
    "  \n",
    "# plot predictions and actual values \n",
    "predictions1.plot(legend = True, figsize=(20,4)) \n",
    "tem['LQI'].plot(legend = True)"
   ]
  },
  {
   "cell_type": "code",
   "execution_count": 10,
   "metadata": {},
   "outputs": [],
   "source": [
    "#Convertir a dataframe las predicciones\n",
    "predictions1=predictions1.to_frame()"
   ]
  },
  {
   "cell_type": "code",
   "execution_count": 11,
   "metadata": {},
   "outputs": [],
   "source": [
    "#renombrar la columna para poder concatenar\n",
    "predictions1=predictions1.rename(columns={'Predictions':'LQI'})"
   ]
  },
  {
   "cell_type": "code",
   "execution_count": 14,
   "metadata": {},
   "outputs": [
    {
     "name": "stderr",
     "output_type": "stream",
     "text": [
      "C:\\Users\\ACER\\miniconda3\\lib\\site-packages\\statsmodels\\tsa\\base\\tsa_model.py:213: ValueWarning: An unsupported index was provided and will be ignored when e.g. forecasting.\n",
      "  warnings.warn('An unsupported index was provided and will be'\n",
      "C:\\Users\\ACER\\miniconda3\\lib\\site-packages\\statsmodels\\tsa\\base\\tsa_model.py:213: ValueWarning: An unsupported index was provided and will be ignored when e.g. forecasting.\n",
      "  warnings.warn('An unsupported index was provided and will be'\n"
     ]
    },
    {
     "data": {
      "text/html": [
       "<table class=\"simpletable\">\n",
       "<caption>SARIMAX Results</caption>\n",
       "<tr>\n",
       "  <th>Dep. Variable:</th>                 <td>LQI</td>              <th>  No. Observations:  </th>    <td>6048</td>   \n",
       "</tr>\n",
       "<tr>\n",
       "  <th>Model:</th>           <td>SARIMAX(0, 0, 2)x(1, 1, 2, 12)</td> <th>  Log Likelihood     </th> <td>-14307.692</td>\n",
       "</tr>\n",
       "<tr>\n",
       "  <th>Date:</th>                   <td>Sun, 11 Jul 2021</td>        <th>  AIC                </th>  <td>28627.385</td>\n",
       "</tr>\n",
       "<tr>\n",
       "  <th>Time:</th>                       <td>13:41:48</td>            <th>  BIC                </th>  <td>28667.618</td>\n",
       "</tr>\n",
       "<tr>\n",
       "  <th>Sample:</th>                         <td>0</td>               <th>  HQIC               </th>  <td>28641.352</td>\n",
       "</tr>\n",
       "<tr>\n",
       "  <th></th>                             <td> - 6048</td>            <th>                     </th>      <td> </td>    \n",
       "</tr>\n",
       "<tr>\n",
       "  <th>Covariance Type:</th>               <td>opg</td>              <th>                     </th>      <td> </td>    \n",
       "</tr>\n",
       "</table>\n",
       "<table class=\"simpletable\">\n",
       "<tr>\n",
       "      <td></td>        <th>coef</th>     <th>std err</th>      <th>z</th>      <th>P>|z|</th>  <th>[0.025</th>    <th>0.975]</th>  \n",
       "</tr>\n",
       "<tr>\n",
       "  <th>ma.L1</th>    <td>    0.1060</td> <td>    0.005</td> <td>   19.634</td> <td> 0.000</td> <td>    0.095</td> <td>    0.117</td>\n",
       "</tr>\n",
       "<tr>\n",
       "  <th>ma.L2</th>    <td>    0.0711</td> <td>    0.004</td> <td>   17.345</td> <td> 0.000</td> <td>    0.063</td> <td>    0.079</td>\n",
       "</tr>\n",
       "<tr>\n",
       "  <th>ar.S.L12</th> <td>   -0.8634</td> <td>    0.032</td> <td>  -26.664</td> <td> 0.000</td> <td>   -0.927</td> <td>   -0.800</td>\n",
       "</tr>\n",
       "<tr>\n",
       "  <th>ma.S.L12</th> <td>    0.0564</td> <td>    0.031</td> <td>    1.830</td> <td> 0.067</td> <td>   -0.004</td> <td>    0.117</td>\n",
       "</tr>\n",
       "<tr>\n",
       "  <th>ma.S.L24</th> <td>   -0.7350</td> <td>    0.025</td> <td>  -29.876</td> <td> 0.000</td> <td>   -0.783</td> <td>   -0.687</td>\n",
       "</tr>\n",
       "<tr>\n",
       "  <th>sigma2</th>   <td>    6.6900</td> <td>    0.019</td> <td>  346.585</td> <td> 0.000</td> <td>    6.652</td> <td>    6.728</td>\n",
       "</tr>\n",
       "</table>\n",
       "<table class=\"simpletable\">\n",
       "<tr>\n",
       "  <th>Ljung-Box (Q):</th>          <td>1573.52</td> <th>  Jarque-Bera (JB):  </th> <td>2049521.73</td>\n",
       "</tr>\n",
       "<tr>\n",
       "  <th>Prob(Q):</th>                 <td>0.00</td>   <th>  Prob(JB):          </th>    <td>0.00</td>   \n",
       "</tr>\n",
       "<tr>\n",
       "  <th>Heteroskedasticity (H):</th>  <td>0.00</td>   <th>  Skew:              </th>    <td>7.37</td>   \n",
       "</tr>\n",
       "<tr>\n",
       "  <th>Prob(H) (two-sided):</th>     <td>0.00</td>   <th>  Kurtosis:          </th>    <td>92.06</td>  \n",
       "</tr>\n",
       "</table><br/><br/>Warnings:<br/>[1] Covariance matrix calculated using the outer product of gradients (complex-step)."
      ],
      "text/plain": [
       "<class 'statsmodels.iolib.summary.Summary'>\n",
       "\"\"\"\n",
       "                                     SARIMAX Results                                      \n",
       "==========================================================================================\n",
       "Dep. Variable:                                LQI   No. Observations:                 6048\n",
       "Model:             SARIMAX(0, 0, 2)x(1, 1, 2, 12)   Log Likelihood              -14307.692\n",
       "Date:                            Sun, 11 Jul 2021   AIC                          28627.385\n",
       "Time:                                    13:41:48   BIC                          28667.618\n",
       "Sample:                                         0   HQIC                         28641.352\n",
       "                                           - 6048                                         \n",
       "Covariance Type:                              opg                                         \n",
       "==============================================================================\n",
       "                 coef    std err          z      P>|z|      [0.025      0.975]\n",
       "------------------------------------------------------------------------------\n",
       "ma.L1          0.1060      0.005     19.634      0.000       0.095       0.117\n",
       "ma.L2          0.0711      0.004     17.345      0.000       0.063       0.079\n",
       "ar.S.L12      -0.8634      0.032    -26.664      0.000      -0.927      -0.800\n",
       "ma.S.L12       0.0564      0.031      1.830      0.067      -0.004       0.117\n",
       "ma.S.L24      -0.7350      0.025    -29.876      0.000      -0.783      -0.687\n",
       "sigma2         6.6900      0.019    346.585      0.000       6.652       6.728\n",
       "===================================================================================\n",
       "Ljung-Box (Q):                     1573.52   Jarque-Bera (JB):           2049521.73\n",
       "Prob(Q):                              0.00   Prob(JB):                         0.00\n",
       "Heteroskedasticity (H):               0.00   Skew:                             7.37\n",
       "Prob(H) (two-sided):                  0.00   Kurtosis:                        92.06\n",
       "===================================================================================\n",
       "\n",
       "Warnings:\n",
       "[1] Covariance matrix calculated using the outer product of gradients (complex-step).\n",
       "\"\"\""
      ]
     },
     "execution_count": 14,
     "metadata": {},
     "output_type": "execute_result"
    }
   ],
   "source": [
    "#SEGUNDO ENTRENAMIENTO\n",
    "#SE UNEN train1 y predictions1\n",
    "train2 = pd.concat([train1,predictions1])\n",
    "test = tem.iloc[Test-1:cantidad-1]\n",
    "  \n",
    "# Fit a SARIMAX(0, 0, 2)x(1, 1, 2, 12) on the training set \n",
    "from statsmodels.tsa.statespace.sarimax import SARIMAX \n",
    "  \n",
    "model = SARIMAX(train2['LQI'],  \n",
    "                order = (0, 0, 2),  \n",
    "                seasonal_order =(1, 1, 2, 12)) \n",
    "  \n",
    "result = model.fit() \n",
    "result.summary() "
   ]
  },
  {
   "cell_type": "code",
   "execution_count": 13,
   "metadata": {},
   "outputs": [
    {
     "name": "stderr",
     "output_type": "stream",
     "text": [
      "C:\\Users\\ACER\\miniconda3\\lib\\site-packages\\statsmodels\\tsa\\base\\tsa_model.py:580: ValueWarning: No supported index is available. Prediction results will be given with an integer index beginning at `start`.\n",
      "  warnings.warn('No supported index is available.'\n"
     ]
    },
    {
     "data": {
      "text/plain": [
       "<AxesSubplot:xlabel='Date'>"
      ]
     },
     "execution_count": 13,
     "metadata": {},
     "output_type": "execute_result"
    },
    {
     "data": {
      "image/png": "[encoded data removed]",
      "text/plain": [
       "<Figure size 1440x288 with 1 Axes>"
      ]
     },
     "metadata": {
      "needs_background": "light"
     },
     "output_type": "display_data"
    }
   ],
   "source": [
    "#Segunda predicción\n",
    "start = Test\n",
    "end = cantidad - 1\n",
    "  \n",
    "\n",
    "predictions2 = result.predict(start, end, \n",
    "                             typ = 'levels').rename(\"Predictions\") \n",
    "  \n",
    "# plot predictions and actual values \n",
    "predictions2.plot(legend = True, figsize=(20,4)) \n",
    "tem['LQI'].plot(legend = True)"
   ]
  },
  {
   "cell_type": "code",
   "execution_count": 15,
   "metadata": {},
   "outputs": [
    {
     "name": "stdout",
     "output_type": "stream",
     "text": [
      "MSE: \n",
      "24.96715090661858\n",
      "\n",
      "RMSE: \n",
      "4.996714010889415\n",
      "\n",
      "MAPE (Porcentaje): \n",
      "49.02089421546316\n"
     ]
    }
   ],
   "source": [
    "# Load specific evaluation tools \n",
    "from sklearn.metrics import mean_squared_error \n",
    "from statsmodels.tools.eval_measures import rmse \n",
    "  \n",
    "    \n",
    "# Calculate mean squared error \n",
    "mse = mean_squared_error(test[\"LQI\"], predictions2)\n",
    "print(\"MSE: \")\n",
    "print(mse)\n",
    "\n",
    "# Calculate root mean squared error \n",
    "rmse = rmse(test[\"LQI\"], predictions2)\n",
    "print(\"\\nRMSE: \")\n",
    "print(rmse)\n",
    "\n",
    "# Calculate MAPE\n",
    "def mapes(actual, pred): \n",
    "    actual, pred = np.array(actual), np.array(pred)\n",
    "    return np.mean(np.abs((actual - pred) / actual)) * 100\n",
    "\n",
    "mape =  mapes(test[\"LQI\"], predictions2)\n",
    "print(\"\\nMAPE (Porcentaje): \")\n",
    "print(mape)"
   ]
  },
  {
   "cell_type": "code",
   "execution_count": 16,
   "metadata": {},
   "outputs": [
    {
     "name": "stderr",
     "output_type": "stream",
     "text": [
      "C:\\Users\\ACER\\miniconda3\\lib\\site-packages\\statsmodels\\tsa\\base\\tsa_model.py:213: ValueWarning: An unsupported index was provided and will be ignored when e.g. forecasting.\n",
      "  warnings.warn('An unsupported index was provided and will be'\n",
      "C:\\Users\\ACER\\miniconda3\\lib\\site-packages\\statsmodels\\tsa\\base\\tsa_model.py:213: ValueWarning: An unsupported index was provided and will be ignored when e.g. forecasting.\n",
      "  warnings.warn('An unsupported index was provided and will be'\n",
      "C:\\Users\\ACER\\miniconda3\\lib\\site-packages\\statsmodels\\tsa\\base\\tsa_model.py:580: ValueWarning: No supported index is available. Prediction results will be given with an integer index beginning at `start`.\n",
      "  warnings.warn('No supported index is available.'\n"
     ]
    },
    {
     "data": {
      "text/plain": [
       "<AxesSubplot:xlabel='Date'>"
      ]
     },
     "execution_count": 16,
     "metadata": {},
     "output_type": "execute_result"
    },
    {
     "data": {
      "image/png": "[encoded data removed]",
      "text/plain": [
       "<Figure size 1440x360 with 1 Axes>"
      ]
     },
     "metadata": {
      "needs_background": "light"
     },
     "output_type": "display_data"
    }
   ],
   "source": [
    "##############################################################################################\n",
    "#SI QUIERO PREDECIR\n",
    "# Train the model on the full dataset \n",
    "model = model = SARIMAX(tem['LQI'],  \n",
    "                        order = (0, 0, 2),  \n",
    "                        seasonal_order =(1, 1, 2, 12)) \n",
    "\n",
    "  \n",
    "# Forecast for the next 3 years \n",
    "forecast = result.predict(start = end,  \n",
    "                          end = end+1000,  \n",
    "                          typ = 'levels').rename('Forecast') \n",
    "  \n",
    "# Plot the forecast values \n",
    "tem['LQI'].plot(figsize = (20, 5), legend = True) \n",
    "forecast.plot(legend = True) "
   ]
  },
  {
   "cell_type": "code",
   "execution_count": null,
   "metadata": {},
   "outputs": [],
   "source": []
  }
 ],
 "metadata": {
  "kernelspec": {
   "display_name": "Python 3",
   "language": "python",
   "name": "python3"
  },
  "language_info": {
   "codemirror_mode": {
    "name": "ipython",
    "version": 3
   },
   "file_extension": ".py",
   "mimetype": "text/x-python",
   "name": "python",
   "nbconvert_exporter": "python",
   "pygments_lexer": "ipython3",
   "version": "3.8.3"
  }
 },
 "nbformat": 4,
 "nbformat_minor": 4
}
