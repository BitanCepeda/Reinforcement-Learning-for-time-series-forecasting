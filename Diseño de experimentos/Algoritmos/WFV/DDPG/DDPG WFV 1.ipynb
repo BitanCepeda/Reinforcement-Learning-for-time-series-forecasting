{
 "cells": [
  {
   "cell_type": "code",
   "execution_count": 1,
   "metadata": {
    "executionInfo": {
     "elapsed": 2567,
     "status": "ok",
     "timestamp": 1628013790986,
     "user": {
      "displayName": "Brayan Cepeda",
      "photoUrl": "https://lh3.googleusercontent.com/a-/AOh14Gj6_Hy7l3RbgoTiop9tm0CAFs5zeQ34jGAZ1rW4bw=s64",
      "userId": "13104226550012534090"
     },
     "user_tz": 300
    },
    "id": "G9zJHpXKSM6j"
   },
   "outputs": [],
   "source": [
    "\t#Deep Deterministic Policy Gradient\n",
    "  #https://github.com/ChefLiutao/Time-series-forecasting-via-deep-reinforcement-learning/blob/master/DDPG-forcasting/main.py "
   ]
  },
  {
   "cell_type": "code",
   "execution_count": 2,
   "metadata": {
    "colab": {
     "base_uri": "https://localhost:8080/"
    },
    "executionInfo": {
     "elapsed": 2580,
     "status": "ok",
     "timestamp": 1628013794482,
     "user": {
      "displayName": "Brayan Cepeda",
      "photoUrl": "https://lh3.googleusercontent.com/a-/AOh14Gj6_Hy7l3RbgoTiop9tm0CAFs5zeQ34jGAZ1rW4bw=s64",
      "userId": "13104226550012534090"
     },
     "user_tz": 300
    },
    "id": "EcMLsFyHSqTj",
    "outputId": "28444596-0c4c-42e1-d0a2-be18dc1bb1e4"
   },
   "outputs": [
    {
     "name": "stdout",
     "output_type": "stream",
     "text": [
      "WARNING:tensorflow:From /usr/local/lib/python3.7/dist-packages/tensorflow/python/compat/v2_compat.py:96: disable_resource_variables (from tensorflow.python.ops.variable_scope) is deprecated and will be removed in a future version.\n",
      "Instructions for updating:\n",
      "non-resource variables are not supported in the long term\n"
     ]
    }
   ],
   "source": [
    "#agent\n",
    "# -*- coding: utf-8 -*-\n",
    "\"\"\"\n",
    "Created on Sun May 24 18:32:39 2020\n",
    "@author: ChefLiutao\n",
    "The agent of RL algorithm Deep Detrministic Policy Gradient.\n",
    "Both the Actor and Critic neuron networks  adopt three-layer Fully-Connected NN.\n",
    "\"\"\"\n",
    "import tensorflow.compat.v1 as tf\n",
    "tf.disable_v2_behavior()\n",
    "import numpy as np\n",
    "from collections import deque\n",
    "import random\n",
    "\n",
    "class DDPG():\n",
    "    def __init__(self,\n",
    "                 n_features,\n",
    "#                 n_actions,\n",
    "                 a_low,\n",
    "                 a_high,\n",
    "                 learning_rate_actor,\n",
    "                 learning_rate_critic,\n",
    "                 n_actor_hidden,\n",
    "                 n_critic_hidden,\n",
    "                 gamma = 0.9,\n",
    "                 noise_varience = 3,\n",
    "                 soft_replace = 0.1,\n",
    "                 memory_size = 1000,\n",
    "                 batch_size = 128):\n",
    "        self.n_features = n_features             #dimension of states\n",
    "#        self.n_actions = n_actions        \n",
    "        self.a_low = a_low                       #The low bound of action sapce\n",
    "        self.a_high = a_high                     #The high bound of action space\n",
    "        self.lr_a = learning_rate_actor          #Learning rate of Actor NN\n",
    "        self.lr_c = learning_rate_critic         #Learning rate of Critic NN\n",
    "        self.n_actor_hidden = n_actor_hidden     #Number of hidden layer neurons in Actor\n",
    "        self.n_critic_hidden = n_critic_hidden   #Number of hidden layer neurons in Critic\n",
    "        self.gamma = gamma                       #Reward discount rate\n",
    "        self.noise_var = noise_varience          #Variance of output action distribution\n",
    "        self.soft_replace = soft_replace         #Update speed of target networks\n",
    "        self.memory_size = memory_size           #Size of experience replay buffer\n",
    "        self.memory = deque(maxlen = self.memory_size)   #Experience replay buffer\n",
    "        self.batch_size = batch_size                     \n",
    "        \n",
    "        self.s = tf.placeholder(dtype = tf.float32,shape = [None,self.n_features])\n",
    "        self.s_ = tf.placeholder(dtype = tf.float32,shape = [None,self.n_features])\n",
    "        self.r = tf.placeholder(dtype = tf.float32,shape = [None,])\n",
    "        self.done = tf.placeholder(dtype = tf.float32,shape = [None,]) # 0 if s_ == terminal else 1\n",
    "        \n",
    "        self.a = self.build_Actor1()\n",
    "        self.a_ = self.build_Actor2()\n",
    "        self.q_sa = self.build_Critic1()      #shape:[None,] \n",
    "        self.q_s_a_ = self.build_Critic2()    #shape:[None,]\n",
    "        \n",
    "        self.curr_a_params = tf.get_collection(tf.GraphKeys.GLOBAL_VARIABLES,\n",
    "                                            scope = 'Actor/Current')\n",
    "        self.targ_a_params = tf.get_collection(tf.GraphKeys.GLOBAL_VARIABLES,\n",
    "                                            scope = 'Actor/Target')\n",
    "        self.curr_c_params= tf.get_collection(tf.GraphKeys.GLOBAL_VARIABLES,\n",
    "                                            scope = 'Critic/Current')\n",
    "        self.targ_c_params = tf.get_collection(tf.GraphKeys.GLOBAL_VARIABLES,\n",
    "                                            scope = 'Critic/Target')\n",
    "        \n",
    "        # Soft replace of Targets NN parameters\n",
    "        self.replace_a_params = [tf.assign(t,(1-self.soft_replace)*t + self.soft_replace*e) \\\n",
    "                                 for (t,e) in zip(self.targ_a_params,self.curr_a_params)]\n",
    "        self.replace_c_params = [tf.assign(t,(1-self.soft_replace)*t + self.soft_replace*e) \\\n",
    "                                 for (t,e) in zip(self.targ_c_params,self.curr_c_params)]\n",
    "        \n",
    "        self.td_error = self.r + self.gamma*self.q_s_a_ - self.q_sa\n",
    "        self.critic_loss = tf.reduce_mean(tf.square(self.td_error))\n",
    "        self.actor_loss = -tf.reduce_mean(self.q_sa)\n",
    "        \n",
    "        self.actor_train_op = tf.train.AdamOptimizer(self.lr_a).minimize(self.actor_loss,\n",
    "                                                    var_list = self.curr_a_params)\n",
    "        self.critic_train_op = tf.train.AdamOptimizer(self.lr_c).minimize(self.critic_loss,\n",
    "                                                     var_list = self.curr_c_params)\n",
    "        \n",
    "        self.learn_step_counter = 0\n",
    "        self.sess = tf.Session()\n",
    "        self.sess.run(tf.global_variables_initializer())\n",
    "        \n",
    "    \n",
    "    def build_Actor1(self):\n",
    "        '''\n",
    "        Building Current Actor network.\n",
    "        '''\n",
    "        with tf.variable_scope('Actor/Current'):\n",
    "            w_init = tf.random_normal_initializer(0,0.1)\n",
    "            b_init = tf.constant_initializer(0.1)\n",
    "            w1 = tf.get_variable(name = 'w1',shape = [self.n_features,self.n_actor_hidden],\n",
    "                                 dtype = tf.float32,initializer = w_init,\n",
    "                                 trainable = True)\n",
    "            b1 = tf.get_variable('b1',shape = [self.n_actor_hidden,],\n",
    "                                 dtype = tf.float32,initializer = b_init,\n",
    "                                 trainable = True)\n",
    "            w2 = tf.get_variable('w2',shape = [self.n_actor_hidden,1],\n",
    "                                 dtype = tf.float32,initializer = w_init,\n",
    "                                 trainable = True)\n",
    "            b2 = tf.get_variable('b2',shape = [1,],\n",
    "                                 dtype = tf.float32,initializer = b_init,\n",
    "                                 trainable = True)\n",
    "            hidden = tf.nn.relu(tf.matmul(self.s,w1) + b1)\n",
    "            a = tf.matmul(hidden,w2) + b2\n",
    "        return a[:,0]\n",
    "#            return np.clip(np.random.normal(a,self.noise_var),self.a_low,self.a_high)\n",
    "    \n",
    "    def build_Actor2(self):\n",
    "        '''\n",
    "        Building Target Actor network.\n",
    "        '''\n",
    "        with tf.variable_scope('Actor/Target'):\n",
    "            w_init = tf.random_normal_initializer(0,0.1)\n",
    "            b_init = tf.constant_initializer(0.1)\n",
    "            w1 = tf.get_variable('w1',shape = [self.n_features,self.n_actor_hidden],\n",
    "                                 dtype = tf.float32,initializer = w_init,\n",
    "                                 trainable = False)\n",
    "            b1 = tf.get_variable('b1',shape = [self.n_actor_hidden,],\n",
    "                                 dtype = tf.float32,initializer = b_init,\n",
    "                                 trainable = False)\n",
    "            w2 = tf.get_variable('w2',shape = [self.n_actor_hidden,1],\n",
    "                                 dtype = tf.float32,initializer = w_init,\n",
    "                                 trainable = False)\n",
    "            b2 = tf.get_variable('b2',shape = [1,],\n",
    "                                 dtype = tf.float32,initializer = b_init,\n",
    "                                 trainable = False)\n",
    "            hidden = tf.nn.relu(tf.matmul(self.s_,w1) + b1)\n",
    "            a_ = tf.matmul(hidden,w2) + b2\n",
    "        return a_[:,0]\n",
    "    \n",
    "    def build_Critic1(self):\n",
    "        '''\n",
    "        Building Current Critic network.\n",
    "        '''\n",
    "        with tf.variable_scope('Critic/Current'):\n",
    "            w_init = tf.random_normal_initializer(0,0.1)\n",
    "            b_init = tf.constant_initializer(0.1)\n",
    "            w1_s = tf.get_variable('w1_s',shape = [self.n_features,self.n_critic_hidden],\n",
    "                                 dtype = tf.float32,initializer = w_init,\n",
    "                                 trainable = True)\n",
    "            w1_a = tf.get_variable('w1_a',shape = [1,self.n_critic_hidden],\n",
    "                                 dtype = tf.float32,initializer = w_init,\n",
    "                                 trainable = True)\n",
    "            b1 = tf.get_variable('b1',shape = [self.n_critic_hidden,],\n",
    "                                 dtype = tf.float32,initializer = b_init,\n",
    "                                 trainable = True)\n",
    "            w2 = tf.get_variable('w2',shape = [self.n_critic_hidden,1],\n",
    "                                 dtype = tf.float32,initializer = w_init,\n",
    "                                 trainable = True)\n",
    "            b2 = tf.get_variable('b2',shape = [1,],dtype = tf.float32,\n",
    "                                 initializer = b_init,trainable = True)\n",
    "            hidden = tf.nn.relu(tf.matmul(self.s,w1_s) + tf.matmul(self.a[:,np.newaxis],w1_a) + b1)\n",
    "            q_sa = tf.matmul(hidden,w2) + b2\n",
    "        return q_sa[:,0]\n",
    "    \n",
    "    def build_Critic2(self):\n",
    "        '''\n",
    "        Building Target Critic network.\n",
    "        '''\n",
    "        with tf.variable_scope('Critic/Target'):\n",
    "            w_init = tf.random_normal_initializer(0,0.1)\n",
    "            b_init = tf.constant_initializer(0.1)\n",
    "            w1_s = tf.get_variable('w1_s',shape = [self.n_features,self.n_critic_hidden],\n",
    "                                 dtype = tf.float32,initializer = w_init,\n",
    "                                 trainable = False)\n",
    "            w1_a = tf.get_variable('w1_a',shape = [1,self.n_critic_hidden],\n",
    "                                 dtype = tf.float32,initializer = w_init,\n",
    "                                 trainable = False)\n",
    "            b1 = tf.get_variable('b1',shape = [self.n_critic_hidden,],\n",
    "                                 dtype = tf.float32,initializer = b_init,\n",
    "                                 trainable = False)\n",
    "            w2 = tf.get_variable('w2',shape = [self.n_critic_hidden,1],\n",
    "                                 dtype = tf.float32,initializer = w_init,\n",
    "                                 trainable = False)\n",
    "            b2 = tf.get_variable('b2',shape = [1,],dtype = tf.float32,\n",
    "                                 initializer = b_init,trainable = True)\n",
    "            hidden = tf.nn.relu(tf.matmul(self.s_,w1_s) + tf.matmul(self.a_[:,np.newaxis],w1_a) + b1)\n",
    "            q_s_a_ = tf.matmul(hidden,w2) + b2\n",
    "        return q_s_a_[:,0]            \n",
    "    \n",
    "    def choose_action(self,state):\n",
    "        state = np.reshape(state,[-1,self.n_features])\n",
    "        action = self.sess.run(self.a,feed_dict = {self.s:state})\n",
    "        return action\n",
    "    \n",
    "    def store_transition(self,state,action,reward,next_state):\n",
    "        state,next_state = state[np.newaxis,:],next_state[np.newaxis,:]\n",
    "        action,reward = np.array(action),np.array(reward)\n",
    "        action = np.reshape(action,[1,-1])\n",
    "        reward = np.reshape(reward,[1,-1])\n",
    "#        is_done = np.reshape(is_done,[1,-1])\n",
    "        \n",
    "        transition = np.concatenate((state,action,reward,next_state),axis = 1)\n",
    "        self.memory.append(transition[0,:])\n",
    "    \n",
    "    def learn(self):\n",
    "        if len(self.memory) == self.memory_size:\n",
    "            if self.learn_step_counter % 200 == 0:\n",
    "                self.sess.run((self.replace_a_params,self.replace_c_params))\n",
    "            \n",
    "            self.noise_var *= 0.999\n",
    "                \n",
    "            batch = np.array(random.sample(self.memory,self.batch_size))\n",
    "            batch_s = batch[:,:self.n_features]\n",
    "            batch_a = batch[:,self.n_features:(self.n_features + 1)][:,0]\n",
    "            batch_r = batch[:,(self.n_features + 1):(self.n_features + 2)][:,0]\n",
    "            batch_s_ = batch[:,(self.n_features + 2):(self.n_features*2 + 2)]\n",
    "            \n",
    "            self.sess.run(self.actor_train_op,feed_dict = {self.s:batch_s})\n",
    "            self.sess.run(self.critic_train_op,feed_dict = {self.s:batch_s,\n",
    "                                                            self.a:batch_a,\n",
    "                                                            self.s_:batch_s_,\n",
    "                                                            self.r:batch_r})\n",
    "if __name__ == '__main__':\n",
    "    ddpg = DDPG(5,0,1,0.03,0.01,30,30)"
   ]
  },
  {
   "cell_type": "code",
   "execution_count": 3,
   "metadata": {
    "executionInfo": {
     "elapsed": 5,
     "status": "ok",
     "timestamp": 1628013794482,
     "user": {
      "displayName": "Brayan Cepeda",
      "photoUrl": "https://lh3.googleusercontent.com/a-/AOh14Gj6_Hy7l3RbgoTiop9tm0CAFs5zeQ34jGAZ1rW4bw=s64",
      "userId": "13104226550012534090"
     },
     "user_tz": 300
    },
    "id": "p-thX3WNTHFU"
   },
   "outputs": [],
   "source": [
    "#procesamiento de datos\n",
    "\n",
    "# -*- coding: utf-8 -*-\n",
    "\"\"\"\n",
    "Created on Mon May 25 11:00:32 2020\n",
    "@author: ChefLiutao\n",
    "This part of code is to load and preprocess time series data.\n",
    "\"\"\"\n",
    "\n",
    "import numpy as np\n",
    "\n",
    "\n",
    "def build_s_a(sequence,n,m):\n",
    "    '''\n",
    "    Args:\n",
    "        sequence: Time series data\n",
    "        n: The number of historical data denoting the current state\n",
    "        m: The number of prediction steps in advance\n",
    "    Return:\n",
    "        state_mat: A matrix contains all states at each time step\n",
    "        best_action: The optimal action based on each state\n",
    "    '''\n",
    "    n_rows = len(sequence)-n-m+1\n",
    "    state_mat = np.zeros((n_rows,n))\n",
    "    best_action = np.zeros(n_rows)\n",
    "    for i in range(n_rows):\n",
    "        state_mat[i] = sequence[i:(i+n)]\n",
    "        best_action[i] = sequence[i+n+m-1]\n",
    "    return state_mat,best_action\n",
    "\n",
    "\n",
    "\n",
    "def normalization(traindata,testdata):\n",
    "    from sklearn.preprocessing import MinMaxScaler\n",
    "    scaler = MinMaxScaler()\n",
    "    scaler.fit(traindata)\n",
    "    traindata_scaled = scaler.transform(traindata)\n",
    "    testdata_scaled = scaler.transform(testdata)\n",
    "    \n",
    "    return traindata_scaled,testdata_scaled"
   ]
  },
  {
   "cell_type": "code",
   "execution_count": 356,
   "metadata": {
    "colab": {
     "base_uri": "https://localhost:8080/",
     "height": 346
    },
    "executionInfo": {
     "elapsed": 11902,
     "status": "ok",
     "timestamp": 1628022176874,
     "user": {
      "displayName": "Brayan Cepeda",
      "photoUrl": "https://lh3.googleusercontent.com/a-/AOh14Gj6_Hy7l3RbgoTiop9tm0CAFs5zeQ34jGAZ1rW4bw=s64",
      "userId": "13104226550012534090"
     },
     "user_tz": 300
    },
    "id": "kiCZx0iPTN1z",
    "outputId": "2efad0a8-db90-427b-ee09-58b2995e62a2"
   },
   "outputs": [
    {
     "name": "stdout",
     "output_type": "stream",
     "text": [
      "Episode 0 : -947.52\n",
      "Episode 1 : -327.30\n",
      "Episode 2 : -61.64\n",
      "Episode 3 : -58.46\n"
     ]
    },
    {
     "data": {
      "image/png": "[encoded data removed]",
      "text/plain": [
       "<Figure size 432x288 with 1 Axes>"
      ]
     },
     "metadata": {
      "needs_background": "light",
      "tags": []
     },
     "output_type": "display_data"
    }
   ],
   "source": [
    "#main\n",
    "tf.reset_default_graph()\n",
    "\n",
    "# -*- coding: utf-8 -*-\n",
    "\"\"\"\n",
    "Created on Fri May 29 23:23:52 2020\n",
    "@author: ChefLiutao\n",
    "\"\"\"\n",
    "import pandas as pd\n",
    "import numpy as np\n",
    "import matplotlib.pyplot as plt\n",
    "import os\n",
    "\n",
    "#####################  hyper parameters  ####################\n",
    "N_FEATURES = 6\n",
    "A_LOW = 0\n",
    "A_HIGH = 1\n",
    "LR_A = 0.001\n",
    "LR_C = 0.003\n",
    "N_ACTOR_HIDDEN = 30\n",
    "N_CRITIC_HIDDEN = 30\n",
    "MAX_EPISODES = 4  #100 deben ser\n",
    "MAX_STEPS = 1000\n",
    "\n",
    "GAMMA = 0.9                # 折扣因子\n",
    "TAU = 0.1                 # 软更新因子\n",
    "MEMORY_CAPACITY = 100000    #记忆库大小\n",
    "BATCH_SIZE = 128            #批梯度下降的m\n",
    "#############################################################\n",
    "\n",
    "#Load data \n",
    "data = pd.read_csv('raw_data_run1--28 - copia.csv',encoding = 'gbk') #Carga de datasets *********************************************\n",
    "cantidad=len(data)\n",
    "entrenamiento=int((cantidad/100)*65)\n",
    "data = data.iloc[:entrenamiento,0]  ##hasta el 65%, luego sacar 55 de training y 10 de test\n",
    "\n",
    "#Build state matrix and best action\n",
    "state,action = build_s_a(data,N_FEATURES,1)  \n",
    "\n",
    "#Data split\n",
    "SPLIT_RATE = 0.85   #WFV 85% PARA ENTRENAMIENTO para que sea 0-55% training y 55-65% test\n",
    "split_index = round(len(state)*SPLIT_RATE)\n",
    "train_s,train_a = state[:split_index],action[:split_index]\n",
    "test_s,test_a = state[split_index:],action[split_index:]  \n",
    "\n",
    "#Normalization\n",
    "train_s_scaled,test_s_scaled = normalization(train_s,test_s)\n",
    "A,B = train_a.max(),train_a.min()\n",
    "train_a_scaled,test_a_scaled = (train_a-B)/(A-B),(test_a-B)/(A-B)\n",
    "\n",
    "# Training\n",
    "ddpg = DDPG(N_FEATURES,A_LOW,A_HIGH,LR_A,LR_C,N_ACTOR_HIDDEN,N_CRITIC_HIDDEN)\n",
    "for episode  in range(MAX_EPISODES):\n",
    "    index = np.random.choice(range(len(train_s_scaled)))\n",
    "    s = train_s_scaled[index]\n",
    "    ep_reward = 0\n",
    "    \n",
    "    for step in range(MAX_STEPS):\n",
    "        a = ddpg.choose_action(s)\n",
    "        r = -abs(a-train_a_scaled[index])\n",
    "        ep_reward += r\n",
    "        index += 1\n",
    "        s_ = train_s_scaled[index]\n",
    "        \n",
    "        ddpg.store_transition(s,a,r,s_)\n",
    "        ddpg.learn()\n",
    "        \n",
    "        if (index == len(train_s_scaled)-1) or (step == MAX_STEPS-1):\n",
    "            print('Episode %d : %.2f'%(episode,ep_reward))\n",
    "            break\n",
    "        \n",
    "        s = s_\n",
    "\n",
    "# Testing\n",
    "pred = []\n",
    "for i in range(len(test_s_scaled)):\n",
    "    state = test_s_scaled[i]\n",
    "    action = ddpg.choose_action(state)\n",
    "    pred.append(action)\n",
    "\n",
    "pred = [pred[i][0] for i in range(len(test_s_scaled))]\n",
    "pred = pd.Series(pred)\n",
    "pred = pred*(A-B)+B\n",
    "actual = pd.Series(test_a)\n",
    "\n",
    "plt.scatter(pred,test_a,marker = '.')\n",
    "plt.xlabel('Predicted Value')\n",
    "plt.ylabel('Actual value')\n",
    "plt.show()"
   ]
  },
  {
   "cell_type": "code",
   "execution_count": 357,
   "metadata": {
    "colab": {
     "base_uri": "https://localhost:8080/"
    },
    "executionInfo": {
     "elapsed": 56,
     "status": "ok",
     "timestamp": 1628022176875,
     "user": {
      "displayName": "Brayan Cepeda",
      "photoUrl": "https://lh3.googleusercontent.com/a-/AOh14Gj6_Hy7l3RbgoTiop9tm0CAFs5zeQ34jGAZ1rW4bw=s64",
      "userId": "13104226550012534090"
     },
     "user_tz": 300
    },
    "id": "ZMARIMcQApS_",
    "outputId": "f05ba961-94a8-4a3c-bc38-536076018717"
   },
   "outputs": [
    {
     "data": {
      "text/plain": [
       "0       104\n",
       "1       108\n",
       "2         1\n",
       "3         1\n",
       "4        97\n",
       "       ... \n",
       "5235    108\n",
       "5236    106\n",
       "5237    106\n",
       "5238    105\n",
       "5239      1\n",
       "Name: 1, Length: 5240, dtype: int64"
      ]
     },
     "execution_count": 357,
     "metadata": {
      "tags": []
     },
     "output_type": "execute_result"
    }
   ],
   "source": [
    "data"
   ]
  },
  {
   "cell_type": "code",
   "execution_count": 358,
   "metadata": {
    "colab": {
     "base_uri": "https://localhost:8080/"
    },
    "executionInfo": {
     "elapsed": 54,
     "status": "ok",
     "timestamp": 1628022176876,
     "user": {
      "displayName": "Brayan Cepeda",
      "photoUrl": "https://lh3.googleusercontent.com/a-/AOh14Gj6_Hy7l3RbgoTiop9tm0CAFs5zeQ34jGAZ1rW4bw=s64",
      "userId": "13104226550012534090"
     },
     "user_tz": 300
    },
    "id": "i4cXDw370cJb",
    "outputId": "c432ebb4-3067-4050-e4ae-b3e578b9e713"
   },
   "outputs": [
    {
     "data": {
      "text/plain": [
       "785"
      ]
     },
     "execution_count": 358,
     "metadata": {
      "tags": []
     },
     "output_type": "execute_result"
    }
   ],
   "source": [
    "len(test_a)"
   ]
  },
  {
   "cell_type": "code",
   "execution_count": 359,
   "metadata": {
    "executionInfo": {
     "elapsed": 54,
     "status": "ok",
     "timestamp": 1628022176880,
     "user": {
      "displayName": "Brayan Cepeda",
      "photoUrl": "https://lh3.googleusercontent.com/a-/AOh14Gj6_Hy7l3RbgoTiop9tm0CAFs5zeQ34jGAZ1rW4bw=s64",
      "userId": "13104226550012534090"
     },
     "user_tz": 300
    },
    "id": "RC4mIgl4vqGZ"
   },
   "outputs": [],
   "source": [
    "#Convertir a dataframe las predicciones y el entrenamiento base\n",
    "predictions1=pred.to_frame()\n",
    "train_a=pd.DataFrame(train_a);"
   ]
  },
  {
   "cell_type": "code",
   "execution_count": 360,
   "metadata": {
    "colab": {
     "base_uri": "https://localhost:8080/",
     "height": 402
    },
    "executionInfo": {
     "elapsed": 55,
     "status": "ok",
     "timestamp": 1628022176881,
     "user": {
      "displayName": "Brayan Cepeda",
      "photoUrl": "https://lh3.googleusercontent.com/a-/AOh14Gj6_Hy7l3RbgoTiop9tm0CAFs5zeQ34jGAZ1rW4bw=s64",
      "userId": "13104226550012534090"
     },
     "user_tz": 300
    },
    "id": "qhQNo8VPxNhL",
    "outputId": "8f80a290-b0d2-4e7d-e446-65a46a213953"
   },
   "outputs": [
    {
     "data": {
      "text/html": [
       "<div>\n",
       "<style scoped>\n",
       "    .dataframe tbody tr th:only-of-type {\n",
       "        vertical-align: middle;\n",
       "    }\n",
       "\n",
       "    .dataframe tbody tr th {\n",
       "        vertical-align: top;\n",
       "    }\n",
       "\n",
       "    .dataframe thead th {\n",
       "        text-align: right;\n",
       "    }\n",
       "</style>\n",
       "<table border=\"1\" class=\"dataframe\">\n",
       "  <thead>\n",
       "    <tr style=\"text-align: right;\">\n",
       "      <th></th>\n",
       "      <th>0</th>\n",
       "    </tr>\n",
       "  </thead>\n",
       "  <tbody>\n",
       "    <tr>\n",
       "      <th>0</th>\n",
       "      <td>103.0</td>\n",
       "    </tr>\n",
       "    <tr>\n",
       "      <th>1</th>\n",
       "      <td>1.0</td>\n",
       "    </tr>\n",
       "    <tr>\n",
       "      <th>2</th>\n",
       "      <td>102.0</td>\n",
       "    </tr>\n",
       "    <tr>\n",
       "      <th>3</th>\n",
       "      <td>1.0</td>\n",
       "    </tr>\n",
       "    <tr>\n",
       "      <th>4</th>\n",
       "      <td>104.0</td>\n",
       "    </tr>\n",
       "    <tr>\n",
       "      <th>...</th>\n",
       "      <td>...</td>\n",
       "    </tr>\n",
       "    <tr>\n",
       "      <th>4444</th>\n",
       "      <td>107.0</td>\n",
       "    </tr>\n",
       "    <tr>\n",
       "      <th>4445</th>\n",
       "      <td>106.0</td>\n",
       "    </tr>\n",
       "    <tr>\n",
       "      <th>4446</th>\n",
       "      <td>106.0</td>\n",
       "    </tr>\n",
       "    <tr>\n",
       "      <th>4447</th>\n",
       "      <td>107.0</td>\n",
       "    </tr>\n",
       "    <tr>\n",
       "      <th>4448</th>\n",
       "      <td>107.0</td>\n",
       "    </tr>\n",
       "  </tbody>\n",
       "</table>\n",
       "<p>4449 rows × 1 columns</p>\n",
       "</div>"
      ],
      "text/plain": [
       "          0\n",
       "0     103.0\n",
       "1       1.0\n",
       "2     102.0\n",
       "3       1.0\n",
       "4     104.0\n",
       "...     ...\n",
       "4444  107.0\n",
       "4445  106.0\n",
       "4446  106.0\n",
       "4447  107.0\n",
       "4448  107.0\n",
       "\n",
       "[4449 rows x 1 columns]"
      ]
     },
     "execution_count": 360,
     "metadata": {
      "tags": []
     },
     "output_type": "execute_result"
    }
   ],
   "source": [
    "train_a"
   ]
  },
  {
   "cell_type": "code",
   "execution_count": 361,
   "metadata": {
    "colab": {
     "base_uri": "https://localhost:8080/",
     "height": 402
    },
    "executionInfo": {
     "elapsed": 54,
     "status": "ok",
     "timestamp": 1628022176882,
     "user": {
      "displayName": "Brayan Cepeda",
      "photoUrl": "https://lh3.googleusercontent.com/a-/AOh14Gj6_Hy7l3RbgoTiop9tm0CAFs5zeQ34jGAZ1rW4bw=s64",
      "userId": "13104226550012534090"
     },
     "user_tz": 300
    },
    "id": "7oe3xeLOz8TT",
    "outputId": "444a193a-d165-4fbe-944a-60ccb88a6ee9"
   },
   "outputs": [
    {
     "data": {
      "text/html": [
       "<div>\n",
       "<style scoped>\n",
       "    .dataframe tbody tr th:only-of-type {\n",
       "        vertical-align: middle;\n",
       "    }\n",
       "\n",
       "    .dataframe tbody tr th {\n",
       "        vertical-align: top;\n",
       "    }\n",
       "\n",
       "    .dataframe thead th {\n",
       "        text-align: right;\n",
       "    }\n",
       "</style>\n",
       "<table border=\"1\" class=\"dataframe\">\n",
       "  <thead>\n",
       "    <tr style=\"text-align: right;\">\n",
       "      <th></th>\n",
       "      <th>0</th>\n",
       "    </tr>\n",
       "  </thead>\n",
       "  <tbody>\n",
       "    <tr>\n",
       "      <th>0</th>\n",
       "      <td>107.931529</td>\n",
       "    </tr>\n",
       "    <tr>\n",
       "      <th>1</th>\n",
       "      <td>107.938761</td>\n",
       "    </tr>\n",
       "    <tr>\n",
       "      <th>2</th>\n",
       "      <td>107.881662</td>\n",
       "    </tr>\n",
       "    <tr>\n",
       "      <th>3</th>\n",
       "      <td>107.973207</td>\n",
       "    </tr>\n",
       "    <tr>\n",
       "      <th>4</th>\n",
       "      <td>108.043560</td>\n",
       "    </tr>\n",
       "    <tr>\n",
       "      <th>...</th>\n",
       "      <td>...</td>\n",
       "    </tr>\n",
       "    <tr>\n",
       "      <th>780</th>\n",
       "      <td>108.280185</td>\n",
       "    </tr>\n",
       "    <tr>\n",
       "      <th>781</th>\n",
       "      <td>99.360689</td>\n",
       "    </tr>\n",
       "    <tr>\n",
       "      <th>782</th>\n",
       "      <td>109.325643</td>\n",
       "    </tr>\n",
       "    <tr>\n",
       "      <th>783</th>\n",
       "      <td>107.750492</td>\n",
       "    </tr>\n",
       "    <tr>\n",
       "      <th>784</th>\n",
       "      <td>107.486704</td>\n",
       "    </tr>\n",
       "  </tbody>\n",
       "</table>\n",
       "<p>785 rows × 1 columns</p>\n",
       "</div>"
      ],
      "text/plain": [
       "              0\n",
       "0    107.931529\n",
       "1    107.938761\n",
       "2    107.881662\n",
       "3    107.973207\n",
       "4    108.043560\n",
       "..          ...\n",
       "780  108.280185\n",
       "781   99.360689\n",
       "782  109.325643\n",
       "783  107.750492\n",
       "784  107.486704\n",
       "\n",
       "[785 rows x 1 columns]"
      ]
     },
     "execution_count": 361,
     "metadata": {
      "tags": []
     },
     "output_type": "execute_result"
    }
   ],
   "source": [
    "predictions1"
   ]
  },
  {
   "cell_type": "code",
   "execution_count": 362,
   "metadata": {
    "colab": {
     "base_uri": "https://localhost:8080/"
    },
    "executionInfo": {
     "elapsed": 53,
     "status": "ok",
     "timestamp": 1628022176883,
     "user": {
      "displayName": "Brayan Cepeda",
      "photoUrl": "https://lh3.googleusercontent.com/a-/AOh14Gj6_Hy7l3RbgoTiop9tm0CAFs5zeQ34jGAZ1rW4bw=s64",
      "userId": "13104226550012534090"
     },
     "user_tz": 300
    },
    "id": "9JFO_jPZvqNB",
    "outputId": "3f07d983-338b-475e-868d-1192139ae6e4"
   },
   "outputs": [
    {
     "data": {
      "text/plain": [
       "5234"
      ]
     },
     "execution_count": 362,
     "metadata": {
      "tags": []
     },
     "output_type": "execute_result"
    }
   ],
   "source": [
    "#SEGUNDO ENTRENAMIENTO\n",
    "#SE UNEN train1 y predictions1\n",
    "train2 = pd.concat([train_a,predictions1])\n",
    "len(train2)"
   ]
  },
  {
   "cell_type": "code",
   "execution_count": 363,
   "metadata": {
    "executionInfo": {
     "elapsed": 51,
     "status": "ok",
     "timestamp": 1628022176884,
     "user": {
      "displayName": "Brayan Cepeda",
      "photoUrl": "https://lh3.googleusercontent.com/a-/AOh14Gj6_Hy7l3RbgoTiop9tm0CAFs5zeQ34jGAZ1rW4bw=s64",
      "userId": "13104226550012534090"
     },
     "user_tz": 300
    },
    "id": "5RfZxVRavqPw"
   },
   "outputs": [],
   "source": [
    "cantidad2=len(train2)"
   ]
  },
  {
   "cell_type": "code",
   "execution_count": 364,
   "metadata": {
    "executionInfo": {
     "elapsed": 51,
     "status": "ok",
     "timestamp": 1628022176885,
     "user": {
      "displayName": "Brayan Cepeda",
      "photoUrl": "https://lh3.googleusercontent.com/a-/AOh14Gj6_Hy7l3RbgoTiop9tm0CAFs5zeQ34jGAZ1rW4bw=s64",
      "userId": "13104226550012534090"
     },
     "user_tz": 300
    },
    "id": "qdIPYwqY40hd"
   },
   "outputs": [],
   "source": [
    "#se une train2 con el dataset original\n",
    "#Load data \n",
    "data = pd.read_csv('raw_data_run1--28 - copia.csv',encoding = 'gbk') #Carga de datasets *********************************************\n",
    "cantidad=len(data)\n",
    "entrenamiento=int((cantidad/100)*65)\n",
    "entrenamiento2=int((cantidad/100)*75)\n",
    "data = data.iloc[entrenamiento:entrenamiento2,0]  ##hasta el 75%, luego sacar 65 de training y 10 de test\n",
    "training2 = pd.concat([train2,data])"
   ]
  },
  {
   "cell_type": "code",
   "execution_count": 365,
   "metadata": {
    "colab": {
     "base_uri": "https://localhost:8080/"
    },
    "executionInfo": {
     "elapsed": 52,
     "status": "ok",
     "timestamp": 1628022176886,
     "user": {
      "displayName": "Brayan Cepeda",
      "photoUrl": "https://lh3.googleusercontent.com/a-/AOh14Gj6_Hy7l3RbgoTiop9tm0CAFs5zeQ34jGAZ1rW4bw=s64",
      "userId": "13104226550012534090"
     },
     "user_tz": 300
    },
    "id": "yucBEu6B42be",
    "outputId": "a8c469ba-76fd-40eb-a0e2-366107963b33"
   },
   "outputs": [
    {
     "data": {
      "text/plain": [
       "6041"
      ]
     },
     "execution_count": 365,
     "metadata": {
      "tags": []
     },
     "output_type": "execute_result"
    }
   ],
   "source": [
    "len(training2)"
   ]
  },
  {
   "cell_type": "code",
   "execution_count": 366,
   "metadata": {
    "executionInfo": {
     "elapsed": 51,
     "status": "ok",
     "timestamp": 1628022176888,
     "user": {
      "displayName": "Brayan Cepeda",
      "photoUrl": "https://lh3.googleusercontent.com/a-/AOh14Gj6_Hy7l3RbgoTiop9tm0CAFs5zeQ34jGAZ1rW4bw=s64",
      "userId": "13104226550012534090"
     },
     "user_tz": 300
    },
    "id": "vXAp-RqV8FJw"
   },
   "outputs": [],
   "source": [
    "data=training2\n",
    "data=data.iloc[:,0].astype(int)"
   ]
  },
  {
   "cell_type": "code",
   "execution_count": 367,
   "metadata": {
    "colab": {
     "base_uri": "https://localhost:8080/"
    },
    "executionInfo": {
     "elapsed": 51,
     "status": "ok",
     "timestamp": 1628022176889,
     "user": {
      "displayName": "Brayan Cepeda",
      "photoUrl": "https://lh3.googleusercontent.com/a-/AOh14Gj6_Hy7l3RbgoTiop9tm0CAFs5zeQ34jGAZ1rW4bw=s64",
      "userId": "13104226550012534090"
     },
     "user_tz": 300
    },
    "id": "kTTMhu1F-msp",
    "outputId": "d2f9d1be-7542-40a0-d3d6-a0f8341b6162"
   },
   "outputs": [
    {
     "data": {
      "text/plain": [
       "0       103\n",
       "1         1\n",
       "2       102\n",
       "3         1\n",
       "4       104\n",
       "       ... \n",
       "6042    106\n",
       "6043    107\n",
       "6044    108\n",
       "6045    107\n",
       "6046    107\n",
       "Name: 0, Length: 6041, dtype: int64"
      ]
     },
     "execution_count": 367,
     "metadata": {
      "tags": []
     },
     "output_type": "execute_result"
    }
   ],
   "source": [
    "data"
   ]
  },
  {
   "cell_type": "code",
   "execution_count": 368,
   "metadata": {
    "executionInfo": {
     "elapsed": 50,
     "status": "ok",
     "timestamp": 1628022176890,
     "user": {
      "displayName": "Brayan Cepeda",
      "photoUrl": "https://lh3.googleusercontent.com/a-/AOh14Gj6_Hy7l3RbgoTiop9tm0CAFs5zeQ34jGAZ1rW4bw=s64",
      "userId": "13104226550012534090"
     },
     "user_tz": 300
    },
    "id": "DRmbSPvfvqbA"
   },
   "outputs": [],
   "source": [
    "#exportar la data de 0-65 para entrenar con 0-65 y testear 65-75 prediciendo 65-75 y concatenando\n",
    "#para después exportar de nuevo las 0-75 para hacer la última ejecución"
   ]
  },
  {
   "cell_type": "code",
   "execution_count": 369,
   "metadata": {
    "executionInfo": {
     "elapsed": 50,
     "status": "ok",
     "timestamp": 1628022176891,
     "user": {
      "displayName": "Brayan Cepeda",
      "photoUrl": "https://lh3.googleusercontent.com/a-/AOh14Gj6_Hy7l3RbgoTiop9tm0CAFs5zeQ34jGAZ1rW4bw=s64",
      "userId": "13104226550012534090"
     },
     "user_tz": 300
    },
    "id": "R-MCI8YmA1Mg"
   },
   "outputs": [],
   "source": [
    "data.to_csv('data.csv')"
   ]
  },
  {
   "cell_type": "code",
   "execution_count": 370,
   "metadata": {
    "colab": {
     "base_uri": "https://localhost:8080/",
     "height": 265
    },
    "executionInfo": {
     "elapsed": 51,
     "status": "ok",
     "timestamp": 1628022176892,
     "user": {
      "displayName": "Brayan Cepeda",
      "photoUrl": "https://lh3.googleusercontent.com/a-/AOh14Gj6_Hy7l3RbgoTiop9tm0CAFs5zeQ34jGAZ1rW4bw=s64",
      "userId": "13104226550012534090"
     },
     "user_tz": 300
    },
    "id": "amMDGNx3X2oE",
    "outputId": "ef980144-9ca3-405b-fec7-6fc17f91cb29"
   },
   "outputs": [
    {
     "data": {
      "image/png": "[encoded data removed]",
      "text/plain": [
       "<Figure size 432x288 with 1 Axes>"
      ]
     },
     "metadata": {
      "needs_background": "light",
      "tags": []
     },
     "output_type": "display_data"
    }
   ],
   "source": [
    "# Plot the forecast values \n",
    "plt.plot(test_a, label=\"real\");\n",
    "pred.plot(legend = True) ;"
   ]
  },
  {
   "cell_type": "code",
   "execution_count": 371,
   "metadata": {
    "colab": {
     "base_uri": "https://localhost:8080/"
    },
    "executionInfo": {
     "elapsed": 50,
     "status": "ok",
     "timestamp": 1628022176893,
     "user": {
      "displayName": "Brayan Cepeda",
      "photoUrl": "https://lh3.googleusercontent.com/a-/AOh14Gj6_Hy7l3RbgoTiop9tm0CAFs5zeQ34jGAZ1rW4bw=s64",
      "userId": "13104226550012534090"
     },
     "user_tz": 300
    },
    "id": "G34OBPi1WKbE",
    "outputId": "99ed641b-2dcf-410b-d395-d5f8e1b62e27"
   },
   "outputs": [
    {
     "name": "stdout",
     "output_type": "stream",
     "text": [
      "MSE: \n",
      "326.9013880706846\n",
      "\n",
      "RMSE: \n",
      "18.080414488354094\n",
      "\n",
      "MAPE (Porcentaje): \n",
      "275.0093551899804\n"
     ]
    }
   ],
   "source": [
    "# Load specific evaluation tools \n",
    "from sklearn.metrics import mean_squared_error \n",
    "from statsmodels.tools.eval_measures import rmse \n",
    "  \n",
    "# Calculate mean squared error \n",
    "mse = mean_squared_error(test_a, pred)\n",
    "print(\"MSE: \")\n",
    "print(mse)\n",
    "\n",
    "# Calculate root mean squared error \n",
    "rmse = rmse(test_a, pred)\n",
    "print(\"\\nRMSE: \")\n",
    "print(rmse)\n",
    "\n",
    "# Calculate MAPE\n",
    "def mean_absolute_percentage_error(y_true, y_pred): \n",
    "    y_true, y_pred = np.array(y_true), np.array(y_pred)\n",
    "    return np.mean(np.abs((y_true - y_pred) / y_true)) * 100\n",
    "\n",
    "mape =  mean_absolute_percentage_error(test_a, pred)\n",
    "print(\"\\nMAPE (Porcentaje): \")\n",
    "print(mape)"
   ]
  }
 ],
 "metadata": {
  "colab": {
   "authorship_tag": "ABX9TyNBa5pNMDm4ZbXJAxfdSeRy",
   "collapsed_sections": [],
   "name": "DDPG WFV 1.ipynb",
   "provenance": []
  },
  "kernelspec": {
   "display_name": "Python 3",
   "language": "python",
   "name": "python3"
  },
  "language_info": {
   "codemirror_mode": {
    "name": "ipython",
    "version": 3
   },
   "file_extension": ".py",
   "mimetype": "text/x-python",
   "name": "python",
   "nbconvert_exporter": "python",
   "pygments_lexer": "ipython3",
   "version": "3.8.3"
  }
 },
 "nbformat": 4,
 "nbformat_minor": 1
}
