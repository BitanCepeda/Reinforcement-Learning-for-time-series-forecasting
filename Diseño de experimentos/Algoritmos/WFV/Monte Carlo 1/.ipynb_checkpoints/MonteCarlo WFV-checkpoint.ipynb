{
 "cells": [
  {
   "cell_type": "code",
   "execution_count": 1,
   "id": "eb824958",
   "metadata": {},
   "outputs": [],
   "source": [
    "import numpy as np\n",
    "import pandas as pd\n",
    "from pandas_datareader import data as wb\n",
    "import matplotlib.pyplot as plt\n",
    "from scipy.stats import norm\n",
    "%matplotlib inline"
   ]
  },
  {
   "cell_type": "code",
   "execution_count": 2,
   "id": "92cb3b34",
   "metadata": {},
   "outputs": [
    {
     "name": "stdout",
     "output_type": "stream",
     "text": [
      "8064\n",
      "4435\n",
      "5241\n",
      "6048\n"
     ]
    },
    {
     "data": {
      "text/html": [
       "<div>\n",
       "<style scoped>\n",
       "    .dataframe tbody tr th:only-of-type {\n",
       "        vertical-align: middle;\n",
       "    }\n",
       "\n",
       "    .dataframe tbody tr th {\n",
       "        vertical-align: top;\n",
       "    }\n",
       "\n",
       "    .dataframe thead th {\n",
       "        text-align: right;\n",
       "    }\n",
       "</style>\n",
       "<table border=\"1\" class=\"dataframe\">\n",
       "  <thead>\n",
       "    <tr style=\"text-align: right;\">\n",
       "      <th></th>\n",
       "      <th>LQI</th>\n",
       "    </tr>\n",
       "    <tr>\n",
       "      <th>Date</th>\n",
       "      <th></th>\n",
       "    </tr>\n",
       "  </thead>\n",
       "  <tbody>\n",
       "    <tr>\n",
       "      <th>1</th>\n",
       "      <td>1</td>\n",
       "    </tr>\n",
       "    <tr>\n",
       "      <th>2</th>\n",
       "      <td>100</td>\n",
       "    </tr>\n",
       "    <tr>\n",
       "      <th>3</th>\n",
       "      <td>1</td>\n",
       "    </tr>\n",
       "    <tr>\n",
       "      <th>4</th>\n",
       "      <td>80</td>\n",
       "    </tr>\n",
       "    <tr>\n",
       "      <th>5</th>\n",
       "      <td>1</td>\n",
       "    </tr>\n",
       "    <tr>\n",
       "      <th>...</th>\n",
       "      <td>...</td>\n",
       "    </tr>\n",
       "    <tr>\n",
       "      <th>4431</th>\n",
       "      <td>106</td>\n",
       "    </tr>\n",
       "    <tr>\n",
       "      <th>4432</th>\n",
       "      <td>108</td>\n",
       "    </tr>\n",
       "    <tr>\n",
       "      <th>4433</th>\n",
       "      <td>106</td>\n",
       "    </tr>\n",
       "    <tr>\n",
       "      <th>4434</th>\n",
       "      <td>107</td>\n",
       "    </tr>\n",
       "    <tr>\n",
       "      <th>4435</th>\n",
       "      <td>108</td>\n",
       "    </tr>\n",
       "  </tbody>\n",
       "</table>\n",
       "<p>4435 rows × 1 columns</p>\n",
       "</div>"
      ],
      "text/plain": [
       "      LQI\n",
       "Date     \n",
       "1       1\n",
       "2     100\n",
       "3       1\n",
       "4      80\n",
       "5       1\n",
       "...   ...\n",
       "4431  106\n",
       "4432  108\n",
       "4433  106\n",
       "4434  107\n",
       "4435  108\n",
       "\n",
       "[4435 rows x 1 columns]"
      ]
     },
     "execution_count": 2,
     "metadata": {},
     "output_type": "execute_result"
    }
   ],
   "source": [
    "# Import data\n",
    "ticker = 'NVCR'\n",
    "datas = pd.read_csv('../../Datos/lQI/20m/raw_data_run1--20.csv', \n",
    "                       index_col ='Date', \n",
    "                       parse_dates = True)\n",
    "\n",
    "\n",
    "#cantidad de training-test\n",
    "cantidad=len(datas)\n",
    "print(cantidad)\n",
    "entrenamiento=int((cantidad/100)*55)\n",
    "print(entrenamiento)\n",
    "entrenamiento2=int((cantidad/100)*65)\n",
    "print(entrenamiento2)\n",
    "entrenamiento3=int((cantidad/100)*75)\n",
    "print(entrenamiento3)\n",
    "testing1=int((cantidad/100)*10)\n",
    "testing2=int((cantidad/100)*10)\n",
    "testing3=int((cantidad/100)*25)\n",
    "data = datas[:entrenamiento] #datos para el entrenamiento, correspondientes al 55%\n",
    "data"
   ]
  },
  {
   "cell_type": "code",
   "execution_count": 3,
   "id": "6da4abe1",
   "metadata": {},
   "outputs": [],
   "source": [
    "# Estimate historycal log returns\n",
    "log_returns = np.log(1+data.pct_change())"
   ]
  },
  {
   "cell_type": "code",
   "execution_count": 4,
   "id": "e1fb1268",
   "metadata": {},
   "outputs": [
    {
     "data": {
      "text/html": [
       "<div>\n",
       "<style scoped>\n",
       "    .dataframe tbody tr th:only-of-type {\n",
       "        vertical-align: middle;\n",
       "    }\n",
       "\n",
       "    .dataframe tbody tr th {\n",
       "        vertical-align: top;\n",
       "    }\n",
       "\n",
       "    .dataframe thead th {\n",
       "        text-align: right;\n",
       "    }\n",
       "</style>\n",
       "<table border=\"1\" class=\"dataframe\">\n",
       "  <thead>\n",
       "    <tr style=\"text-align: right;\">\n",
       "      <th></th>\n",
       "      <th>LQI</th>\n",
       "    </tr>\n",
       "    <tr>\n",
       "      <th>Date</th>\n",
       "      <th></th>\n",
       "    </tr>\n",
       "  </thead>\n",
       "  <tbody>\n",
       "    <tr>\n",
       "      <th>4431</th>\n",
       "      <td>0.009479</td>\n",
       "    </tr>\n",
       "    <tr>\n",
       "      <th>4432</th>\n",
       "      <td>0.018692</td>\n",
       "    </tr>\n",
       "    <tr>\n",
       "      <th>4433</th>\n",
       "      <td>-0.018692</td>\n",
       "    </tr>\n",
       "    <tr>\n",
       "      <th>4434</th>\n",
       "      <td>0.009390</td>\n",
       "    </tr>\n",
       "    <tr>\n",
       "      <th>4435</th>\n",
       "      <td>0.009302</td>\n",
       "    </tr>\n",
       "  </tbody>\n",
       "</table>\n",
       "</div>"
      ],
      "text/plain": [
       "           LQI\n",
       "Date          \n",
       "4431  0.009479\n",
       "4432  0.018692\n",
       "4433 -0.018692\n",
       "4434  0.009390\n",
       "4435  0.009302"
      ]
     },
     "execution_count": 4,
     "metadata": {},
     "output_type": "execute_result"
    }
   ],
   "source": [
    "log_returns.tail()"
   ]
  },
  {
   "cell_type": "code",
   "execution_count": 5,
   "id": "2c82da86",
   "metadata": {},
   "outputs": [
    {
     "data": {
      "image/png": "[encoded data removed]",
      "text/plain": [
       "<Figure size 1080x432 with 1 Axes>"
      ]
     },
     "metadata": {
      "needs_background": "light"
     },
     "output_type": "display_data"
    }
   ],
   "source": [
    "# Plot stock price\n",
    "data.plot(figsize=(15,6))\n",
    "plt.ylabel('LQI')\n",
    "plt.xlabel ('Date')\n",
    "plt.title('LQI')\n",
    "plt.grid(True)"
   ]
  },
  {
   "cell_type": "code",
   "execution_count": 6,
   "id": "a5b7f195",
   "metadata": {},
   "outputs": [
    {
     "data": {
      "image/png": "[encoded data removed]",
      "text/plain": [
       "<Figure size 1080x432 with 1 Axes>"
      ]
     },
     "metadata": {
      "needs_background": "light"
     },
     "output_type": "display_data"
    }
   ],
   "source": [
    "# Plot stock return\n",
    "log_returns.plot(figsize = (15,6))\n",
    "plt.ylabel('% change')\n",
    "plt.xlabel('Date')\n",
    "plt.title('LQI change')\n",
    "plt.grid(True)"
   ]
  },
  {
   "cell_type": "code",
   "execution_count": 7,
   "id": "ad2d18de",
   "metadata": {},
   "outputs": [
    {
     "data": {
      "text/plain": [
       "LQI    0.001056\n",
       "dtype: float64"
      ]
     },
     "execution_count": 7,
     "metadata": {},
     "output_type": "execute_result"
    }
   ],
   "source": [
    "# Calulate log return mean\n",
    "u = log_returns.mean()\n",
    "u"
   ]
  },
  {
   "cell_type": "code",
   "execution_count": 8,
   "id": "4eb9a306",
   "metadata": {},
   "outputs": [
    {
     "data": {
      "text/plain": [
       "LQI    2.588495\n",
       "dtype: float64"
      ]
     },
     "execution_count": 8,
     "metadata": {},
     "output_type": "execute_result"
    }
   ],
   "source": [
    "# Calculate log return variance\n",
    "var = log_returns.var()\n",
    "var"
   ]
  },
  {
   "cell_type": "code",
   "execution_count": 9,
   "id": "3f48c7c4",
   "metadata": {},
   "outputs": [
    {
     "data": {
      "text/plain": [
       "LQI   -1.293192\n",
       "dtype: float64"
      ]
     },
     "execution_count": 9,
     "metadata": {},
     "output_type": "execute_result"
    }
   ],
   "source": [
    "# Calculate drift\n",
    "# Hence we are predicting daily stock price, this number is NOT annualized. \n",
    "drift = u - (0.5*var)\n",
    "drift"
   ]
  },
  {
   "cell_type": "code",
   "execution_count": 10,
   "id": "5a96d2ad",
   "metadata": {},
   "outputs": [
    {
     "data": {
      "text/plain": [
       "LQI    1.60888\n",
       "dtype: float64"
      ]
     },
     "execution_count": 10,
     "metadata": {},
     "output_type": "execute_result"
    }
   ],
   "source": [
    "# Calculate standard deviation \n",
    "stdev = log_returns.std()\n",
    "stdev"
   ]
  },
  {
   "cell_type": "code",
   "execution_count": 11,
   "id": "85dc07ca",
   "metadata": {},
   "outputs": [
    {
     "data": {
      "text/plain": [
       "pandas.core.series.Series"
      ]
     },
     "execution_count": 11,
     "metadata": {},
     "output_type": "execute_result"
    }
   ],
   "source": [
    "type(drift)"
   ]
  },
  {
   "cell_type": "code",
   "execution_count": 12,
   "id": "b21ef52a",
   "metadata": {},
   "outputs": [
    {
     "data": {
      "text/plain": [
       "pandas.core.series.Series"
      ]
     },
     "execution_count": 12,
     "metadata": {},
     "output_type": "execute_result"
    }
   ],
   "source": [
    "type(stdev)"
   ]
  },
  {
   "cell_type": "code",
   "execution_count": 13,
   "id": "198113bb",
   "metadata": {},
   "outputs": [
    {
     "data": {
      "text/plain": [
       "array([-1.29319173])"
      ]
     },
     "execution_count": 13,
     "metadata": {},
     "output_type": "execute_result"
    }
   ],
   "source": [
    "# Convert values to arrays\n",
    "np.array(drift)"
   ]
  },
  {
   "cell_type": "code",
   "execution_count": 14,
   "id": "df47cb3f",
   "metadata": {},
   "outputs": [
    {
     "data": {
      "text/plain": [
       "array([1.60888016])"
      ]
     },
     "execution_count": 14,
     "metadata": {},
     "output_type": "execute_result"
    }
   ],
   "source": [
    "np.array(stdev)"
   ]
  },
  {
   "cell_type": "code",
   "execution_count": 15,
   "id": "bbe96450",
   "metadata": {},
   "outputs": [
    {
     "data": {
      "text/plain": [
       "1.6448536269514722"
      ]
     },
     "execution_count": 15,
     "metadata": {},
     "output_type": "execute_result"
    }
   ],
   "source": [
    "# Where 0.95 : an event has 95% chance of occuring\n",
    "norm.ppf(0.95)"
   ]
  },
  {
   "cell_type": "code",
   "execution_count": 16,
   "id": "d4be6596",
   "metadata": {},
   "outputs": [
    {
     "data": {
      "text/plain": [
       "array([[0.81094113, 0.68475886],\n",
       "       [0.97943121, 0.39102945],\n",
       "       [0.55498228, 0.76834131],\n",
       "       ...,\n",
       "       [0.71085956, 0.05576424],\n",
       "       [0.95605646, 0.37670496],\n",
       "       [0.44395679, 0.37226797]])"
      ]
     },
     "execution_count": 16,
     "metadata": {},
     "output_type": "execute_result"
    }
   ],
   "source": [
    "# to randomize and generate a 10,2 dimension array. The array below contains randomly generated probilities\n",
    "x = np.random.rand(10000,2) \n",
    "x"
   ]
  },
  {
   "cell_type": "code",
   "execution_count": 17,
   "id": "ef877b18",
   "metadata": {},
   "outputs": [
    {
     "data": {
      "text/plain": [
       "array([[ 0.88136974,  0.48104814],\n",
       "       [ 2.04214071, -0.27663695],\n",
       "       [ 0.13825935,  0.73339528],\n",
       "       ...,\n",
       "       [ 0.55589757, -1.59136048],\n",
       "       [ 1.70665025, -0.31414631],\n",
       "       [-0.14094477, -0.32585253]])"
      ]
     },
     "execution_count": 17,
     "metadata": {},
     "output_type": "execute_result"
    }
   ],
   "source": [
    "# Obtain the distance of these probabilites from the mean\n",
    "# The first number in the first row correspondes the first number of the first row above\n",
    "norm.ppf(x)"
   ]
  },
  {
   "cell_type": "code",
   "execution_count": 18,
   "id": "b339e773",
   "metadata": {},
   "outputs": [
    {
     "data": {
      "text/plain": [
       "array([[ 1.97956478,  0.4702351 ],\n",
       "       [-0.51608466, -0.40444318],\n",
       "       [ 0.9612639 ,  1.37423965],\n",
       "       ...,\n",
       "       [ 1.51782402, -1.37461707],\n",
       "       [-0.62276092,  2.48528379],\n",
       "       [-1.56741965,  0.09139751]])"
      ]
     },
     "execution_count": 18,
     "metadata": {},
     "output_type": "execute_result"
    }
   ],
   "source": [
    "# Generate a random number 'z' that corresposnds to the distance between the mean and the events, \n",
    "# expressed as the number of standard deviation\n",
    "# The new array uses the probailities generated by the random function and \n",
    "# converted them into distances from the mean 0, measured by the number of standard deviations. \n",
    "# This expression is the 'z' in our formula. \n",
    "z = norm.ppf(np.random.rand(10000,2))\n",
    "z"
   ]
  },
  {
   "cell_type": "code",
   "execution_count": 19,
   "id": "86888ae2",
   "metadata": {},
   "outputs": [],
   "source": [
    "# Calucalte stock prices\n",
    "t_intervals = testing1\n",
    "iterations = 100000 # We want Python to run the loop ***** times"
   ]
  },
  {
   "cell_type": "code",
   "execution_count": 20,
   "id": "2b96cd32",
   "metadata": {},
   "outputs": [],
   "source": [
    "daily_returns = np.exp(drift.values + stdev.values * norm.ppf(np.random.rand(t_intervals,iterations)))"
   ]
  },
  {
   "cell_type": "code",
   "execution_count": 21,
   "id": "95d82248",
   "metadata": {},
   "outputs": [
    {
     "data": {
      "text/plain": [
       "array([[0.2432146 , 0.0736711 , 0.0645661 , ..., 0.11365665, 0.07449194,\n",
       "        0.85447419],\n",
       "       [1.05556055, 1.55837006, 0.36578595, ..., 0.10317267, 0.33918573,\n",
       "        0.46856329],\n",
       "       [0.08088909, 0.26021526, 0.16266329, ..., 0.37088516, 3.90072197,\n",
       "        0.10507355],\n",
       "       ...,\n",
       "       [0.73150076, 0.25732156, 1.12047771, ..., 0.02368019, 0.47898487,\n",
       "        0.17711966],\n",
       "       [0.03489569, 0.16030215, 0.4170303 , ..., 1.98641427, 4.47531333,\n",
       "        0.2448513 ],\n",
       "       [0.03114446, 0.42361072, 0.82032379, ..., 0.09442762, 0.22935487,\n",
       "        1.65378304]])"
      ]
     },
     "execution_count": 21,
     "metadata": {},
     "output_type": "execute_result"
    }
   ],
   "source": [
    "daily_returns"
   ]
  },
  {
   "cell_type": "code",
   "execution_count": 22,
   "id": "6e68f129",
   "metadata": {},
   "outputs": [
    {
     "data": {
      "text/plain": [
       "LQI    108\n",
       "Name: 4435, dtype: int64"
      ]
     },
     "execution_count": 22,
     "metadata": {},
     "output_type": "execute_result"
    }
   ],
   "source": [
    "# Determining the first datapoint in the equation, which is the latest known price return in our dataset\n",
    "S0 = data.iloc[-1]\n",
    "S0"
   ]
  },
  {
   "cell_type": "code",
   "execution_count": 23,
   "id": "704d86b2",
   "metadata": {},
   "outputs": [],
   "source": [
    "# Creating an array, same size as the daily return filed with 0s\n",
    "price_list = np.zeros_like(daily_returns)"
   ]
  },
  {
   "cell_type": "code",
   "execution_count": 24,
   "id": "62d316e4",
   "metadata": {},
   "outputs": [
    {
     "data": {
      "text/plain": [
       "array([[0., 0., 0., ..., 0., 0., 0.],\n",
       "       [0., 0., 0., ..., 0., 0., 0.],\n",
       "       [0., 0., 0., ..., 0., 0., 0.],\n",
       "       ...,\n",
       "       [0., 0., 0., ..., 0., 0., 0.],\n",
       "       [0., 0., 0., ..., 0., 0., 0.],\n",
       "       [0., 0., 0., ..., 0., 0., 0.]])"
      ]
     },
     "execution_count": 24,
     "metadata": {},
     "output_type": "execute_result"
    }
   ],
   "source": [
    "price_list"
   ]
  },
  {
   "cell_type": "code",
   "execution_count": 25,
   "id": "99db0862",
   "metadata": {},
   "outputs": [
    {
     "data": {
      "text/plain": [
       "array([[108., 108., 108., ..., 108., 108., 108.],\n",
       "       [  0.,   0.,   0., ...,   0.,   0.,   0.],\n",
       "       [  0.,   0.,   0., ...,   0.,   0.,   0.],\n",
       "       ...,\n",
       "       [  0.,   0.,   0., ...,   0.,   0.,   0.],\n",
       "       [  0.,   0.,   0., ...,   0.,   0.,   0.],\n",
       "       [  0.,   0.,   0., ...,   0.,   0.,   0.]])"
      ]
     },
     "execution_count": 25,
     "metadata": {},
     "output_type": "execute_result"
    }
   ],
   "source": [
    "# Replace zeros with the prices by creating a loop\n",
    "# S0 is the first elemnt on each - here * - columns as we will have * iterations generated from the same\n",
    "# starting point\n",
    "price_list[0]=S0\n",
    "price_list"
   ]
  },
  {
   "cell_type": "code",
   "execution_count": 26,
   "id": "03b89817",
   "metadata": {},
   "outputs": [],
   "source": [
    "# After generating all the elements of the formula, fill it\n",
    "for t in range (1, t_intervals):\n",
    "    price_list[t] = price_list[t-1]*daily_returns[t]"
   ]
  },
  {
   "cell_type": "code",
   "execution_count": 27,
   "id": "7817f5b4",
   "metadata": {},
   "outputs": [
    {
     "data": {
      "text/plain": [
       "array([[108.        , 108.        , 108.        , ..., 108.        ,\n",
       "        108.        , 108.        ],\n",
       "       [114.00053914, 168.30396699,  39.50488271, ...,  11.14264837,\n",
       "         36.63205861,  50.60483543],\n",
       "       [  9.22139984,  43.79525982,   6.42599438, ...,   4.13264294,\n",
       "        142.89147592,   5.31722978],\n",
       "       ...,\n",
       "       [  0.        ,   0.        ,   0.        , ...,   0.        ,\n",
       "          0.        ,   0.        ],\n",
       "       [  0.        ,   0.        ,   0.        , ...,   0.        ,\n",
       "          0.        ,   0.        ],\n",
       "       [  0.        ,   0.        ,   0.        , ...,   0.        ,\n",
       "          0.        ,   0.        ]])"
      ]
     },
     "execution_count": 27,
     "metadata": {},
     "output_type": "execute_result"
    }
   ],
   "source": [
    "price_list"
   ]
  },
  {
   "cell_type": "code",
   "execution_count": 28,
   "id": "1a206fab",
   "metadata": {},
   "outputs": [
    {
     "data": {
      "image/png": "[encoded data removed]",
      "text/plain": [
       "<Figure size 1080x432 with 1 Axes>"
      ]
     },
     "metadata": {
      "needs_background": "light"
     },
     "output_type": "display_data"
    }
   ],
   "source": [
    "# Plot the last 500 out of the * simulated stock prices\n",
    "plt.figure(figsize=(15,6))\n",
    "plt.plot(price_list[:, :500]);\n",
    "plt.ylabel('LQI')\n",
    "plt.xlabel('Date')\n",
    "plt.title ('Monte Carlo Simulation Outcome')\n",
    "plt.grid(True)"
   ]
  },
  {
   "cell_type": "code",
   "execution_count": 29,
   "id": "135869a6",
   "metadata": {},
   "outputs": [
    {
     "data": {
      "text/html": [
       "<div>\n",
       "<style scoped>\n",
       "    .dataframe tbody tr th:only-of-type {\n",
       "        vertical-align: middle;\n",
       "    }\n",
       "\n",
       "    .dataframe tbody tr th {\n",
       "        vertical-align: top;\n",
       "    }\n",
       "\n",
       "    .dataframe thead th {\n",
       "        text-align: right;\n",
       "    }\n",
       "</style>\n",
       "<table border=\"1\" class=\"dataframe\">\n",
       "  <thead>\n",
       "    <tr style=\"text-align: right;\">\n",
       "      <th></th>\n",
       "      <th>LQI</th>\n",
       "    </tr>\n",
       "  </thead>\n",
       "  <tbody>\n",
       "    <tr>\n",
       "      <th>0</th>\n",
       "      <td>107</td>\n",
       "    </tr>\n",
       "    <tr>\n",
       "      <th>1</th>\n",
       "      <td>105</td>\n",
       "    </tr>\n",
       "    <tr>\n",
       "      <th>2</th>\n",
       "      <td>105</td>\n",
       "    </tr>\n",
       "    <tr>\n",
       "      <th>3</th>\n",
       "      <td>105</td>\n",
       "    </tr>\n",
       "    <tr>\n",
       "      <th>4</th>\n",
       "      <td>107</td>\n",
       "    </tr>\n",
       "    <tr>\n",
       "      <th>...</th>\n",
       "      <td>...</td>\n",
       "    </tr>\n",
       "    <tr>\n",
       "      <th>801</th>\n",
       "      <td>106</td>\n",
       "    </tr>\n",
       "    <tr>\n",
       "      <th>802</th>\n",
       "      <td>104</td>\n",
       "    </tr>\n",
       "    <tr>\n",
       "      <th>803</th>\n",
       "      <td>108</td>\n",
       "    </tr>\n",
       "    <tr>\n",
       "      <th>804</th>\n",
       "      <td>107</td>\n",
       "    </tr>\n",
       "    <tr>\n",
       "      <th>805</th>\n",
       "      <td>1</td>\n",
       "    </tr>\n",
       "  </tbody>\n",
       "</table>\n",
       "<p>806 rows × 1 columns</p>\n",
       "</div>"
      ],
      "text/plain": [
       "     LQI\n",
       "0    107\n",
       "1    105\n",
       "2    105\n",
       "3    105\n",
       "4    107\n",
       "..   ...\n",
       "801  106\n",
       "802  104\n",
       "803  108\n",
       "804  107\n",
       "805    1\n",
       "\n",
       "[806 rows x 1 columns]"
      ]
     },
     "execution_count": 29,
     "metadata": {},
     "output_type": "execute_result"
    }
   ],
   "source": [
    "#sacar la parte de test\n",
    "test = datas[entrenamiento:entrenamiento2]\n",
    "test=test.reset_index(drop=\"true\")\n",
    "test"
   ]
  },
  {
   "cell_type": "code",
   "execution_count": 30,
   "id": "2df737e3",
   "metadata": {},
   "outputs": [
    {
     "name": "stdout",
     "output_type": "stream",
     "text": [
      "15 0\n"
     ]
    }
   ],
   "source": [
    "# Load specific evaluation tools \n",
    "from sklearn.metrics import mean_squared_error \n",
    "from statsmodels.tools.eval_measures import rmse \n",
    "\n",
    "#for para comparar todas las predicciones\n",
    "\n",
    "menor=15#el rmse mínimo a comenzar a comparar\n",
    "index=0;\n",
    "\n",
    "for i in range(0, iterations):\n",
    "    prediction = rmse(test[\"LQI\"], price_list[:, i]) \n",
    "    if prediction<menor:\n",
    "        menor=prediction\n",
    "        index=i\n",
    "        \n",
    "        \n",
    "print(menor, index)"
   ]
  },
  {
   "cell_type": "code",
   "execution_count": 31,
   "id": "22511d8d",
   "metadata": {},
   "outputs": [
    {
     "data": {
      "text/html": [
       "<div>\n",
       "<style scoped>\n",
       "    .dataframe tbody tr th:only-of-type {\n",
       "        vertical-align: middle;\n",
       "    }\n",
       "\n",
       "    .dataframe tbody tr th {\n",
       "        vertical-align: top;\n",
       "    }\n",
       "\n",
       "    .dataframe thead th {\n",
       "        text-align: right;\n",
       "    }\n",
       "</style>\n",
       "<table border=\"1\" class=\"dataframe\">\n",
       "  <thead>\n",
       "    <tr style=\"text-align: right;\">\n",
       "      <th></th>\n",
       "      <th>0</th>\n",
       "    </tr>\n",
       "  </thead>\n",
       "  <tbody>\n",
       "    <tr>\n",
       "      <th>0</th>\n",
       "      <td>108.000000</td>\n",
       "    </tr>\n",
       "    <tr>\n",
       "      <th>1</th>\n",
       "      <td>114.000539</td>\n",
       "    </tr>\n",
       "    <tr>\n",
       "      <th>2</th>\n",
       "      <td>9.221400</td>\n",
       "    </tr>\n",
       "    <tr>\n",
       "      <th>3</th>\n",
       "      <td>0.899751</td>\n",
       "    </tr>\n",
       "    <tr>\n",
       "      <th>4</th>\n",
       "      <td>0.208246</td>\n",
       "    </tr>\n",
       "    <tr>\n",
       "      <th>...</th>\n",
       "      <td>...</td>\n",
       "    </tr>\n",
       "    <tr>\n",
       "      <th>801</th>\n",
       "      <td>0.000000</td>\n",
       "    </tr>\n",
       "    <tr>\n",
       "      <th>802</th>\n",
       "      <td>0.000000</td>\n",
       "    </tr>\n",
       "    <tr>\n",
       "      <th>803</th>\n",
       "      <td>0.000000</td>\n",
       "    </tr>\n",
       "    <tr>\n",
       "      <th>804</th>\n",
       "      <td>0.000000</td>\n",
       "    </tr>\n",
       "    <tr>\n",
       "      <th>805</th>\n",
       "      <td>0.000000</td>\n",
       "    </tr>\n",
       "  </tbody>\n",
       "</table>\n",
       "<p>806 rows × 1 columns</p>\n",
       "</div>"
      ],
      "text/plain": [
       "              0\n",
       "0    108.000000\n",
       "1    114.000539\n",
       "2      9.221400\n",
       "3      0.899751\n",
       "4      0.208246\n",
       "..          ...\n",
       "801    0.000000\n",
       "802    0.000000\n",
       "803    0.000000\n",
       "804    0.000000\n",
       "805    0.000000\n",
       "\n",
       "[806 rows x 1 columns]"
      ]
     },
     "execution_count": 31,
     "metadata": {},
     "output_type": "execute_result"
    }
   ],
   "source": [
    "#unir el training de 0-55% con la predicción de 55-65% para volver a entrenar\n",
    "\n",
    "#convertir a dataframe las predicciones\n",
    "predictions1=pd.DataFrame(price_list[:,index])\n",
    "predictions1"
   ]
  },
  {
   "cell_type": "code",
   "execution_count": 32,
   "id": "9c15311f",
   "metadata": {},
   "outputs": [
    {
     "data": {
      "text/html": [
       "<div>\n",
       "<style scoped>\n",
       "    .dataframe tbody tr th:only-of-type {\n",
       "        vertical-align: middle;\n",
       "    }\n",
       "\n",
       "    .dataframe tbody tr th {\n",
       "        vertical-align: top;\n",
       "    }\n",
       "\n",
       "    .dataframe thead th {\n",
       "        text-align: right;\n",
       "    }\n",
       "</style>\n",
       "<table border=\"1\" class=\"dataframe\">\n",
       "  <thead>\n",
       "    <tr style=\"text-align: right;\">\n",
       "      <th></th>\n",
       "      <th>LQI</th>\n",
       "    </tr>\n",
       "  </thead>\n",
       "  <tbody>\n",
       "    <tr>\n",
       "      <th>0</th>\n",
       "      <td>108.000000</td>\n",
       "    </tr>\n",
       "    <tr>\n",
       "      <th>1</th>\n",
       "      <td>114.000539</td>\n",
       "    </tr>\n",
       "    <tr>\n",
       "      <th>2</th>\n",
       "      <td>9.221400</td>\n",
       "    </tr>\n",
       "    <tr>\n",
       "      <th>3</th>\n",
       "      <td>0.899751</td>\n",
       "    </tr>\n",
       "    <tr>\n",
       "      <th>4</th>\n",
       "      <td>0.208246</td>\n",
       "    </tr>\n",
       "    <tr>\n",
       "      <th>...</th>\n",
       "      <td>...</td>\n",
       "    </tr>\n",
       "    <tr>\n",
       "      <th>801</th>\n",
       "      <td>0.000000</td>\n",
       "    </tr>\n",
       "    <tr>\n",
       "      <th>802</th>\n",
       "      <td>0.000000</td>\n",
       "    </tr>\n",
       "    <tr>\n",
       "      <th>803</th>\n",
       "      <td>0.000000</td>\n",
       "    </tr>\n",
       "    <tr>\n",
       "      <th>804</th>\n",
       "      <td>0.000000</td>\n",
       "    </tr>\n",
       "    <tr>\n",
       "      <th>805</th>\n",
       "      <td>0.000000</td>\n",
       "    </tr>\n",
       "  </tbody>\n",
       "</table>\n",
       "<p>806 rows × 1 columns</p>\n",
       "</div>"
      ],
      "text/plain": [
       "            LQI\n",
       "0    108.000000\n",
       "1    114.000539\n",
       "2      9.221400\n",
       "3      0.899751\n",
       "4      0.208246\n",
       "..          ...\n",
       "801    0.000000\n",
       "802    0.000000\n",
       "803    0.000000\n",
       "804    0.000000\n",
       "805    0.000000\n",
       "\n",
       "[806 rows x 1 columns]"
      ]
     },
     "execution_count": 32,
     "metadata": {},
     "output_type": "execute_result"
    }
   ],
   "source": [
    "#renombrar la columna para poder concatenar\n",
    "predictions1=predictions1.rename(columns={0:'LQI'})\n",
    "predictions1"
   ]
  },
  {
   "cell_type": "code",
   "execution_count": 33,
   "id": "39acba8d",
   "metadata": {},
   "outputs": [
    {
     "data": {
      "text/html": [
       "<div>\n",
       "<style scoped>\n",
       "    .dataframe tbody tr th:only-of-type {\n",
       "        vertical-align: middle;\n",
       "    }\n",
       "\n",
       "    .dataframe tbody tr th {\n",
       "        vertical-align: top;\n",
       "    }\n",
       "\n",
       "    .dataframe thead th {\n",
       "        text-align: right;\n",
       "    }\n",
       "</style>\n",
       "<table border=\"1\" class=\"dataframe\">\n",
       "  <thead>\n",
       "    <tr style=\"text-align: right;\">\n",
       "      <th></th>\n",
       "      <th>LQI</th>\n",
       "    </tr>\n",
       "  </thead>\n",
       "  <tbody>\n",
       "    <tr>\n",
       "      <th>0</th>\n",
       "      <td>1.0</td>\n",
       "    </tr>\n",
       "    <tr>\n",
       "      <th>1</th>\n",
       "      <td>100.0</td>\n",
       "    </tr>\n",
       "    <tr>\n",
       "      <th>2</th>\n",
       "      <td>1.0</td>\n",
       "    </tr>\n",
       "    <tr>\n",
       "      <th>3</th>\n",
       "      <td>80.0</td>\n",
       "    </tr>\n",
       "    <tr>\n",
       "      <th>4</th>\n",
       "      <td>1.0</td>\n",
       "    </tr>\n",
       "    <tr>\n",
       "      <th>...</th>\n",
       "      <td>...</td>\n",
       "    </tr>\n",
       "    <tr>\n",
       "      <th>5236</th>\n",
       "      <td>0.0</td>\n",
       "    </tr>\n",
       "    <tr>\n",
       "      <th>5237</th>\n",
       "      <td>0.0</td>\n",
       "    </tr>\n",
       "    <tr>\n",
       "      <th>5238</th>\n",
       "      <td>0.0</td>\n",
       "    </tr>\n",
       "    <tr>\n",
       "      <th>5239</th>\n",
       "      <td>0.0</td>\n",
       "    </tr>\n",
       "    <tr>\n",
       "      <th>5240</th>\n",
       "      <td>0.0</td>\n",
       "    </tr>\n",
       "  </tbody>\n",
       "</table>\n",
       "<p>5241 rows × 1 columns</p>\n",
       "</div>"
      ],
      "text/plain": [
       "        LQI\n",
       "0       1.0\n",
       "1     100.0\n",
       "2       1.0\n",
       "3      80.0\n",
       "4       1.0\n",
       "...     ...\n",
       "5236    0.0\n",
       "5237    0.0\n",
       "5238    0.0\n",
       "5239    0.0\n",
       "5240    0.0\n",
       "\n",
       "[5241 rows x 1 columns]"
      ]
     },
     "execution_count": 33,
     "metadata": {},
     "output_type": "execute_result"
    }
   ],
   "source": [
    "data = datas[:entrenamiento]\n",
    "train2 = pd.concat([data,predictions1])\n",
    "train2=train2.reset_index(drop=True)  #reseteo index\n",
    "train2"
   ]
  },
  {
   "cell_type": "code",
   "execution_count": 34,
   "id": "bbc9a68d",
   "metadata": {},
   "outputs": [
    {
     "name": "stderr",
     "output_type": "stream",
     "text": [
      "<ipython-input-34-33ca784ee571>:4: RuntimeWarning: divide by zero encountered in log\n",
      "  log_returns = np.log(1+data.pct_change())\n"
     ]
    },
    {
     "data": {
      "text/plain": [
       "LQI   NaN\n",
       "dtype: float64"
      ]
     },
     "execution_count": 34,
     "metadata": {},
     "output_type": "execute_result"
    },
    {
     "data": {
      "image/png": "[encoded data removed]",
      "text/plain": [
       "<Figure size 1080x432 with 1 Axes>"
      ]
     },
     "metadata": {
      "needs_background": "light"
     },
     "output_type": "display_data"
    },
    {
     "data": {
      "image/png": "[encoded data removed]",
      "text/plain": [
       "<Figure size 1080x432 with 1 Axes>"
      ]
     },
     "metadata": {
      "needs_background": "light"
     },
     "output_type": "display_data"
    }
   ],
   "source": [
    "#Realizo el segundo entrenamiento de 0-65 para predecir 65-75\n",
    "data=train2\n",
    "# Estimate historycal log returns\n",
    "log_returns = np.log(1+data.pct_change())\n",
    "log_returns.tail()\n",
    "# Plot stock price\n",
    "data.plot(figsize=(15,6))\n",
    "plt.ylabel('LQI')\n",
    "plt.xlabel ('Date')\n",
    "plt.title('LQI')\n",
    "plt.grid(True)\n",
    "# Plot stock return\n",
    "log_returns.plot(figsize = (15,6))\n",
    "plt.ylabel('% change')\n",
    "plt.xlabel('Date')\n",
    "plt.title('LQI change')\n",
    "plt.grid(True)\n",
    "# Calulate log return mean\n",
    "u = log_returns.mean()\n",
    "u\n",
    "# Calculate log return variance\n",
    "var = log_returns.var()\n",
    "var"
   ]
  },
  {
   "cell_type": "code",
   "execution_count": 35,
   "id": "6a01090a",
   "metadata": {},
   "outputs": [
    {
     "data": {
      "text/plain": [
       "array([[0.57043456, 0.15844846],\n",
       "       [0.96701249, 0.28540723],\n",
       "       [0.07758477, 0.23240325],\n",
       "       ...,\n",
       "       [0.02013795, 0.7368767 ],\n",
       "       [0.13549671, 0.04674018],\n",
       "       [0.75255388, 0.87486805]])"
      ]
     },
     "execution_count": 35,
     "metadata": {},
     "output_type": "execute_result"
    }
   ],
   "source": [
    "# Calculate drift\n",
    "# Hence we are predicting daily stock price, this number is NOT annualized. \n",
    "drift = u - (0.5*var)\n",
    "drift\n",
    "# Calculate standard deviation \n",
    "stdev = log_returns.std()\n",
    "stdev\n",
    "type(drift)\n",
    "type(stdev)\n",
    "# Convert values to arrays\n",
    "np.array(drift)\n",
    "np.array(stdev)\n",
    "# Where 0.95 : an event has 95% chance of occuring\n",
    "norm.ppf(0.95)\n",
    "# to randomize and generate a 10,2 dimension array. The array below contains randomly generated probilities\n",
    "x = np.random.rand(10000,2) \n",
    "x"
   ]
  },
  {
   "cell_type": "code",
   "execution_count": 36,
   "id": "3fc16167",
   "metadata": {},
   "outputs": [
    {
     "data": {
      "text/plain": [
       "array([[ 2.08799566, -2.2471607 ],\n",
       "       [ 0.52308545,  0.3257386 ],\n",
       "       [-0.98038796, -0.80105531],\n",
       "       ...,\n",
       "       [-0.53216403,  1.45940946],\n",
       "       [ 2.14858268, -0.9086734 ],\n",
       "       [-1.83870977, -0.3247819 ]])"
      ]
     },
     "execution_count": 36,
     "metadata": {},
     "output_type": "execute_result"
    }
   ],
   "source": [
    "# Obtain the distance of these probabilites from the mean\n",
    "# The first number in the first row correspondes the first number of the first row above\n",
    "norm.ppf(x)\n",
    "# Generate a random number 'z' that corresposnds to the distance between the mean and the events, \n",
    "# expressed as the number of standard deviation\n",
    "# The new array uses the probailities generated by the random function and \n",
    "# converted them into distances from the mean 0, measured by the number of standard deviations. \n",
    "# This expression is the 'z' in our formula. \n",
    "z = norm.ppf(np.random.rand(10000,2))\n",
    "z\n"
   ]
  },
  {
   "cell_type": "code",
   "execution_count": 37,
   "id": "354766a8",
   "metadata": {},
   "outputs": [],
   "source": [
    "# Calucalte stock prices\n",
    "t_intervals = testing2\n",
    "iterations = 100000 # We want Python to run the loop ***** times"
   ]
  },
  {
   "cell_type": "code",
   "execution_count": 38,
   "id": "b1fecaff",
   "metadata": {},
   "outputs": [
    {
     "data": {
      "text/plain": [
       "array([[nan, nan, nan, ..., nan, nan, nan],\n",
       "       [nan, nan, nan, ..., nan, nan, nan],\n",
       "       [nan, nan, nan, ..., nan, nan, nan],\n",
       "       ...,\n",
       "       [nan, nan, nan, ..., nan, nan, nan],\n",
       "       [nan, nan, nan, ..., nan, nan, nan],\n",
       "       [nan, nan, nan, ..., nan, nan, nan]])"
      ]
     },
     "execution_count": 38,
     "metadata": {},
     "output_type": "execute_result"
    }
   ],
   "source": [
    "daily_returns = np.exp(drift.values + stdev.values * norm.ppf(np.random.rand(t_intervals,iterations)))\n",
    "daily_returns"
   ]
  },
  {
   "cell_type": "code",
   "execution_count": 39,
   "id": "44e53ae0",
   "metadata": {},
   "outputs": [
    {
     "data": {
      "text/plain": [
       "array([[ 0.,  0.,  0., ...,  0.,  0.,  0.],\n",
       "       [nan, nan, nan, ..., nan, nan, nan],\n",
       "       [nan, nan, nan, ..., nan, nan, nan],\n",
       "       ...,\n",
       "       [nan, nan, nan, ..., nan, nan, nan],\n",
       "       [nan, nan, nan, ..., nan, nan, nan],\n",
       "       [nan, nan, nan, ..., nan, nan, nan]])"
      ]
     },
     "execution_count": 39,
     "metadata": {},
     "output_type": "execute_result"
    }
   ],
   "source": [
    "# Determining the first datapoint in the equation, which is the latest known price return in our dataset\n",
    "S0 = data.iloc[-1]\n",
    "S0\n",
    "# Creating an array, same size as the daily return filed with 0s\n",
    "price_list = np.zeros_like(daily_returns)\n",
    "price_list\n",
    "# Replace zeros with the prices by creating a loop\n",
    "# S0 is the first elemnt on each - here * - columns as we will have * iterations generated from the same\n",
    "# starting point\n",
    "price_list[0]=S0\n",
    "price_list\n",
    "# After generating all the elements of the formula, fill it\n",
    "for t in range (1, t_intervals):\n",
    "    price_list[t] = price_list[t-1]*daily_returns[t]\n",
    "\n",
    "price_list"
   ]
  },
  {
   "cell_type": "code",
   "execution_count": 40,
   "id": "7187824d",
   "metadata": {},
   "outputs": [
    {
     "data": {
      "image/png": "[encoded data removed]",
      "text/plain": [
       "<Figure size 1080x432 with 1 Axes>"
      ]
     },
     "metadata": {
      "needs_background": "light"
     },
     "output_type": "display_data"
    }
   ],
   "source": [
    "# Plot the last 500 out of the * simulated stock prices\n",
    "plt.figure(figsize=(15,6))\n",
    "plt.plot(price_list[:, :5000]);\n",
    "plt.ylabel('LQI')\n",
    "plt.xlabel('Date')\n",
    "plt.title ('Monte Carlo Simulation Outcome')\n",
    "plt.grid(True)"
   ]
  },
  {
   "cell_type": "code",
   "execution_count": 41,
   "id": "89fbbb57",
   "metadata": {},
   "outputs": [
    {
     "data": {
      "text/html": [
       "<div>\n",
       "<style scoped>\n",
       "    .dataframe tbody tr th:only-of-type {\n",
       "        vertical-align: middle;\n",
       "    }\n",
       "\n",
       "    .dataframe tbody tr th {\n",
       "        vertical-align: top;\n",
       "    }\n",
       "\n",
       "    .dataframe thead th {\n",
       "        text-align: right;\n",
       "    }\n",
       "</style>\n",
       "<table border=\"1\" class=\"dataframe\">\n",
       "  <thead>\n",
       "    <tr style=\"text-align: right;\">\n",
       "      <th></th>\n",
       "      <th>LQI</th>\n",
       "    </tr>\n",
       "  </thead>\n",
       "  <tbody>\n",
       "    <tr>\n",
       "      <th>0</th>\n",
       "      <td>108</td>\n",
       "    </tr>\n",
       "    <tr>\n",
       "      <th>1</th>\n",
       "      <td>107</td>\n",
       "    </tr>\n",
       "    <tr>\n",
       "      <th>2</th>\n",
       "      <td>107</td>\n",
       "    </tr>\n",
       "    <tr>\n",
       "      <th>3</th>\n",
       "      <td>107</td>\n",
       "    </tr>\n",
       "    <tr>\n",
       "      <th>4</th>\n",
       "      <td>106</td>\n",
       "    </tr>\n",
       "    <tr>\n",
       "      <th>...</th>\n",
       "      <td>...</td>\n",
       "    </tr>\n",
       "    <tr>\n",
       "      <th>801</th>\n",
       "      <td>106</td>\n",
       "    </tr>\n",
       "    <tr>\n",
       "      <th>802</th>\n",
       "      <td>107</td>\n",
       "    </tr>\n",
       "    <tr>\n",
       "      <th>803</th>\n",
       "      <td>106</td>\n",
       "    </tr>\n",
       "    <tr>\n",
       "      <th>804</th>\n",
       "      <td>108</td>\n",
       "    </tr>\n",
       "    <tr>\n",
       "      <th>805</th>\n",
       "      <td>107</td>\n",
       "    </tr>\n",
       "  </tbody>\n",
       "</table>\n",
       "<p>806 rows × 1 columns</p>\n",
       "</div>"
      ],
      "text/plain": [
       "     LQI\n",
       "0    108\n",
       "1    107\n",
       "2    107\n",
       "3    107\n",
       "4    106\n",
       "..   ...\n",
       "801  106\n",
       "802  107\n",
       "803  106\n",
       "804  108\n",
       "805  107\n",
       "\n",
       "[806 rows x 1 columns]"
      ]
     },
     "execution_count": 41,
     "metadata": {},
     "output_type": "execute_result"
    }
   ],
   "source": [
    "#sacar la parte de test\n",
    "test = datas[entrenamiento2:entrenamiento3-1]\n",
    "test=test.reset_index(drop=\"true\")\n",
    "test"
   ]
  },
  {
   "cell_type": "code",
   "execution_count": 42,
   "id": "4ab519bf",
   "metadata": {},
   "outputs": [
    {
     "name": "stdout",
     "output_type": "stream",
     "text": [
      "14 0\n"
     ]
    }
   ],
   "source": [
    "# Load specific evaluation tools \n",
    "from sklearn.metrics import mean_squared_error \n",
    "from statsmodels.tools.eval_measures import rmse \n",
    "\n",
    "#for para comparar todas las predicciones\n",
    "\n",
    "menor=14#el rmse mínimo a comenzar a comparar\n",
    "index=0;\n",
    "\n",
    "for i in range(0, iterations):\n",
    "    prediction = rmse(test[\"LQI\"], price_list[:, i]) \n",
    "    if prediction<menor:\n",
    "        menor=prediction\n",
    "        index=i\n",
    "        \n",
    "        \n",
    "print(menor, index)"
   ]
  },
  {
   "cell_type": "code",
   "execution_count": 43,
   "id": "2ac3eca1",
   "metadata": {},
   "outputs": [
    {
     "data": {
      "text/html": [
       "<div>\n",
       "<style scoped>\n",
       "    .dataframe tbody tr th:only-of-type {\n",
       "        vertical-align: middle;\n",
       "    }\n",
       "\n",
       "    .dataframe tbody tr th {\n",
       "        vertical-align: top;\n",
       "    }\n",
       "\n",
       "    .dataframe thead th {\n",
       "        text-align: right;\n",
       "    }\n",
       "</style>\n",
       "<table border=\"1\" class=\"dataframe\">\n",
       "  <thead>\n",
       "    <tr style=\"text-align: right;\">\n",
       "      <th></th>\n",
       "      <th>0</th>\n",
       "    </tr>\n",
       "  </thead>\n",
       "  <tbody>\n",
       "    <tr>\n",
       "      <th>0</th>\n",
       "      <td>0.0</td>\n",
       "    </tr>\n",
       "    <tr>\n",
       "      <th>1</th>\n",
       "      <td>NaN</td>\n",
       "    </tr>\n",
       "    <tr>\n",
       "      <th>2</th>\n",
       "      <td>NaN</td>\n",
       "    </tr>\n",
       "    <tr>\n",
       "      <th>3</th>\n",
       "      <td>NaN</td>\n",
       "    </tr>\n",
       "    <tr>\n",
       "      <th>4</th>\n",
       "      <td>NaN</td>\n",
       "    </tr>\n",
       "    <tr>\n",
       "      <th>...</th>\n",
       "      <td>...</td>\n",
       "    </tr>\n",
       "    <tr>\n",
       "      <th>801</th>\n",
       "      <td>NaN</td>\n",
       "    </tr>\n",
       "    <tr>\n",
       "      <th>802</th>\n",
       "      <td>NaN</td>\n",
       "    </tr>\n",
       "    <tr>\n",
       "      <th>803</th>\n",
       "      <td>NaN</td>\n",
       "    </tr>\n",
       "    <tr>\n",
       "      <th>804</th>\n",
       "      <td>NaN</td>\n",
       "    </tr>\n",
       "    <tr>\n",
       "      <th>805</th>\n",
       "      <td>NaN</td>\n",
       "    </tr>\n",
       "  </tbody>\n",
       "</table>\n",
       "<p>806 rows × 1 columns</p>\n",
       "</div>"
      ],
      "text/plain": [
       "       0\n",
       "0    0.0\n",
       "1    NaN\n",
       "2    NaN\n",
       "3    NaN\n",
       "4    NaN\n",
       "..   ...\n",
       "801  NaN\n",
       "802  NaN\n",
       "803  NaN\n",
       "804  NaN\n",
       "805  NaN\n",
       "\n",
       "[806 rows x 1 columns]"
      ]
     },
     "execution_count": 43,
     "metadata": {},
     "output_type": "execute_result"
    }
   ],
   "source": [
    "#unir el training de 0-65% con la predicción de 65-75% para volver a entrenar\n",
    "\n",
    "#convertir a dataframe las predicciones\n",
    "predictions2=pd.DataFrame(price_list[:,index])\n",
    "predictions2"
   ]
  },
  {
   "cell_type": "code",
   "execution_count": 44,
   "id": "a3bff7de",
   "metadata": {},
   "outputs": [
    {
     "data": {
      "text/html": [
       "<div>\n",
       "<style scoped>\n",
       "    .dataframe tbody tr th:only-of-type {\n",
       "        vertical-align: middle;\n",
       "    }\n",
       "\n",
       "    .dataframe tbody tr th {\n",
       "        vertical-align: top;\n",
       "    }\n",
       "\n",
       "    .dataframe thead th {\n",
       "        text-align: right;\n",
       "    }\n",
       "</style>\n",
       "<table border=\"1\" class=\"dataframe\">\n",
       "  <thead>\n",
       "    <tr style=\"text-align: right;\">\n",
       "      <th></th>\n",
       "      <th>LQI</th>\n",
       "    </tr>\n",
       "  </thead>\n",
       "  <tbody>\n",
       "    <tr>\n",
       "      <th>0</th>\n",
       "      <td>0.0</td>\n",
       "    </tr>\n",
       "    <tr>\n",
       "      <th>1</th>\n",
       "      <td>NaN</td>\n",
       "    </tr>\n",
       "    <tr>\n",
       "      <th>2</th>\n",
       "      <td>NaN</td>\n",
       "    </tr>\n",
       "    <tr>\n",
       "      <th>3</th>\n",
       "      <td>NaN</td>\n",
       "    </tr>\n",
       "    <tr>\n",
       "      <th>4</th>\n",
       "      <td>NaN</td>\n",
       "    </tr>\n",
       "    <tr>\n",
       "      <th>...</th>\n",
       "      <td>...</td>\n",
       "    </tr>\n",
       "    <tr>\n",
       "      <th>801</th>\n",
       "      <td>NaN</td>\n",
       "    </tr>\n",
       "    <tr>\n",
       "      <th>802</th>\n",
       "      <td>NaN</td>\n",
       "    </tr>\n",
       "    <tr>\n",
       "      <th>803</th>\n",
       "      <td>NaN</td>\n",
       "    </tr>\n",
       "    <tr>\n",
       "      <th>804</th>\n",
       "      <td>NaN</td>\n",
       "    </tr>\n",
       "    <tr>\n",
       "      <th>805</th>\n",
       "      <td>NaN</td>\n",
       "    </tr>\n",
       "  </tbody>\n",
       "</table>\n",
       "<p>806 rows × 1 columns</p>\n",
       "</div>"
      ],
      "text/plain": [
       "     LQI\n",
       "0    0.0\n",
       "1    NaN\n",
       "2    NaN\n",
       "3    NaN\n",
       "4    NaN\n",
       "..   ...\n",
       "801  NaN\n",
       "802  NaN\n",
       "803  NaN\n",
       "804  NaN\n",
       "805  NaN\n",
       "\n",
       "[806 rows x 1 columns]"
      ]
     },
     "execution_count": 44,
     "metadata": {},
     "output_type": "execute_result"
    }
   ],
   "source": [
    "#renombrar la columna para poder concatenar\n",
    "predictions2=predictions2.rename(columns={0:'LQI'})\n",
    "predictions2"
   ]
  },
  {
   "cell_type": "code",
   "execution_count": 45,
   "id": "885cccc5",
   "metadata": {},
   "outputs": [
    {
     "data": {
      "text/html": [
       "<div>\n",
       "<style scoped>\n",
       "    .dataframe tbody tr th:only-of-type {\n",
       "        vertical-align: middle;\n",
       "    }\n",
       "\n",
       "    .dataframe tbody tr th {\n",
       "        vertical-align: top;\n",
       "    }\n",
       "\n",
       "    .dataframe thead th {\n",
       "        text-align: right;\n",
       "    }\n",
       "</style>\n",
       "<table border=\"1\" class=\"dataframe\">\n",
       "  <thead>\n",
       "    <tr style=\"text-align: right;\">\n",
       "      <th></th>\n",
       "      <th>LQI</th>\n",
       "    </tr>\n",
       "  </thead>\n",
       "  <tbody>\n",
       "    <tr>\n",
       "      <th>0</th>\n",
       "      <td>1.0</td>\n",
       "    </tr>\n",
       "    <tr>\n",
       "      <th>1</th>\n",
       "      <td>100.0</td>\n",
       "    </tr>\n",
       "    <tr>\n",
       "      <th>2</th>\n",
       "      <td>1.0</td>\n",
       "    </tr>\n",
       "    <tr>\n",
       "      <th>3</th>\n",
       "      <td>80.0</td>\n",
       "    </tr>\n",
       "    <tr>\n",
       "      <th>4</th>\n",
       "      <td>1.0</td>\n",
       "    </tr>\n",
       "    <tr>\n",
       "      <th>...</th>\n",
       "      <td>...</td>\n",
       "    </tr>\n",
       "    <tr>\n",
       "      <th>5236</th>\n",
       "      <td>0.0</td>\n",
       "    </tr>\n",
       "    <tr>\n",
       "      <th>5237</th>\n",
       "      <td>0.0</td>\n",
       "    </tr>\n",
       "    <tr>\n",
       "      <th>5238</th>\n",
       "      <td>0.0</td>\n",
       "    </tr>\n",
       "    <tr>\n",
       "      <th>5239</th>\n",
       "      <td>0.0</td>\n",
       "    </tr>\n",
       "    <tr>\n",
       "      <th>5240</th>\n",
       "      <td>0.0</td>\n",
       "    </tr>\n",
       "  </tbody>\n",
       "</table>\n",
       "<p>5241 rows × 1 columns</p>\n",
       "</div>"
      ],
      "text/plain": [
       "        LQI\n",
       "0       1.0\n",
       "1     100.0\n",
       "2       1.0\n",
       "3      80.0\n",
       "4       1.0\n",
       "...     ...\n",
       "5236    0.0\n",
       "5237    0.0\n",
       "5238    0.0\n",
       "5239    0.0\n",
       "5240    0.0\n",
       "\n",
       "[5241 rows x 1 columns]"
      ]
     },
     "execution_count": 45,
     "metadata": {},
     "output_type": "execute_result"
    }
   ],
   "source": [
    "data = datas[:entrenamiento]\n",
    "train3 = pd.concat([train2,predictions2])\n",
    "train3=train2.reset_index(drop=True)  #reseteo index\n",
    "train3"
   ]
  },
  {
   "cell_type": "code",
   "execution_count": 46,
   "id": "d739d986",
   "metadata": {},
   "outputs": [
    {
     "name": "stderr",
     "output_type": "stream",
     "text": [
      "<ipython-input-46-827857f100f0>:4: RuntimeWarning: divide by zero encountered in log\n",
      "  log_returns = np.log(1+data.pct_change())\n"
     ]
    },
    {
     "data": {
      "text/plain": [
       "LQI   NaN\n",
       "dtype: float64"
      ]
     },
     "execution_count": 46,
     "metadata": {},
     "output_type": "execute_result"
    },
    {
     "data": {
      "image/png": "[encoded data removed]",
      "text/plain": [
       "<Figure size 1080x432 with 1 Axes>"
      ]
     },
     "metadata": {
      "needs_background": "light"
     },
     "output_type": "display_data"
    },
    {
     "data": {
      "image/png": "[encoded data removed]",
      "text/plain": [
       "<Figure size 1080x432 with 1 Axes>"
      ]
     },
     "metadata": {
      "needs_background": "light"
     },
     "output_type": "display_data"
    }
   ],
   "source": [
    "#Realizo el tercer entrenamiento de 0-75 para predecir 75-100\n",
    "data=train3\n",
    "# Estimate historycal log returns\n",
    "log_returns = np.log(1+data.pct_change())\n",
    "log_returns.tail()\n",
    "# Plot stock price\n",
    "data.plot(figsize=(15,6))\n",
    "plt.ylabel('LQI')\n",
    "plt.xlabel ('Date')\n",
    "plt.title('LQI')\n",
    "plt.grid(True)\n",
    "# Plot stock return\n",
    "log_returns.plot(figsize = (15,6))\n",
    "plt.ylabel('% change')\n",
    "plt.xlabel('Date')\n",
    "plt.title('LQI change')\n",
    "plt.grid(True)\n",
    "# Calulate log return mean\n",
    "u = log_returns.mean()\n",
    "u\n",
    "# Calculate log return variance\n",
    "var = log_returns.var()\n",
    "var"
   ]
  },
  {
   "cell_type": "code",
   "execution_count": 47,
   "id": "23f7f1ac",
   "metadata": {},
   "outputs": [
    {
     "data": {
      "text/plain": [
       "array([[0.60954261, 0.6346173 ],\n",
       "       [0.6828853 , 0.58896319],\n",
       "       [0.3183796 , 0.83627056],\n",
       "       ...,\n",
       "       [0.87296411, 0.4255672 ],\n",
       "       [0.30517386, 0.15395414],\n",
       "       [0.53107538, 0.35514529]])"
      ]
     },
     "execution_count": 47,
     "metadata": {},
     "output_type": "execute_result"
    }
   ],
   "source": [
    "# Calculate drift\n",
    "# Hence we are predicting daily stock price, this number is NOT annualized. \n",
    "drift = u - (0.5*var)\n",
    "drift\n",
    "# Calculate standard deviation \n",
    "stdev = log_returns.std()\n",
    "stdev\n",
    "type(drift)\n",
    "type(stdev)\n",
    "# Convert values to arrays\n",
    "np.array(drift)\n",
    "np.array(stdev)\n",
    "# Where 0.95 : an event has 95% chance of occuring\n",
    "norm.ppf(0.95)\n",
    "# to randomize and generate a 10,2 dimension array. The array below contains randomly generated probilities\n",
    "x = np.random.rand(10000,2) \n",
    "x"
   ]
  },
  {
   "cell_type": "code",
   "execution_count": 48,
   "id": "7d329305",
   "metadata": {},
   "outputs": [
    {
     "data": {
      "text/plain": [
       "array([[ 0.09603412,  1.06018642],\n",
       "       [-0.7582769 , -0.96043203],\n",
       "       [-0.00207453, -0.72935794],\n",
       "       ...,\n",
       "       [ 0.47734482,  1.17388297],\n",
       "       [ 0.00138969,  0.18560463],\n",
       "       [-0.72114025, -0.70617844]])"
      ]
     },
     "execution_count": 48,
     "metadata": {},
     "output_type": "execute_result"
    }
   ],
   "source": [
    "# Obtain the distance of these probabilites from the mean\n",
    "# The first number in the first row correspondes the first number of the first row above\n",
    "norm.ppf(x)\n",
    "# Generate a random number 'z' that corresposnds to the distance between the mean and the events, \n",
    "# expressed as the number of standard deviation\n",
    "# The new array uses the probailities generated by the random function and \n",
    "# converted them into distances from the mean 0, measured by the number of standard deviations. \n",
    "# This expression is the 'z' in our formula. \n",
    "z = norm.ppf(np.random.rand(10000,2))\n",
    "z\n"
   ]
  },
  {
   "cell_type": "code",
   "execution_count": 49,
   "id": "cc17e3f4",
   "metadata": {},
   "outputs": [],
   "source": [
    "# Calucalte stock prices\n",
    "t_intervals = testing3\n",
    "iterations = 100000 # We want Python to run the loop ***** times"
   ]
  },
  {
   "cell_type": "code",
   "execution_count": 50,
   "id": "8535c3a4",
   "metadata": {},
   "outputs": [
    {
     "data": {
      "text/plain": [
       "array([[nan, nan, nan, ..., nan, nan, nan],\n",
       "       [nan, nan, nan, ..., nan, nan, nan],\n",
       "       [nan, nan, nan, ..., nan, nan, nan],\n",
       "       ...,\n",
       "       [nan, nan, nan, ..., nan, nan, nan],\n",
       "       [nan, nan, nan, ..., nan, nan, nan],\n",
       "       [nan, nan, nan, ..., nan, nan, nan]])"
      ]
     },
     "execution_count": 50,
     "metadata": {},
     "output_type": "execute_result"
    }
   ],
   "source": [
    "daily_returns = np.exp(drift.values + stdev.values * norm.ppf(np.random.rand(t_intervals,iterations)))\n",
    "daily_returns"
   ]
  },
  {
   "cell_type": "code",
   "execution_count": 51,
   "id": "317fa18c",
   "metadata": {},
   "outputs": [
    {
     "data": {
      "text/plain": [
       "array([[ 0.,  0.,  0., ...,  0.,  0.,  0.],\n",
       "       [nan, nan, nan, ..., nan, nan, nan],\n",
       "       [nan, nan, nan, ..., nan, nan, nan],\n",
       "       ...,\n",
       "       [nan, nan, nan, ..., nan, nan, nan],\n",
       "       [nan, nan, nan, ..., nan, nan, nan],\n",
       "       [nan, nan, nan, ..., nan, nan, nan]])"
      ]
     },
     "execution_count": 51,
     "metadata": {},
     "output_type": "execute_result"
    }
   ],
   "source": [
    "# Determining the first datapoint in the equation, which is the latest known price return in our dataset\n",
    "S0 = data.iloc[-1]\n",
    "S0\n",
    "# Creating an array, same size as the daily return filed with 0s\n",
    "price_list = np.zeros_like(daily_returns)\n",
    "price_list\n",
    "# Replace zeros with the prices by creating a loop\n",
    "# S0 is the first elemnt on each - here * - columns as we will have * iterations generated from the same\n",
    "# starting point\n",
    "price_list[0]=S0\n",
    "price_list\n",
    "# After generating all the elements of the formula, fill it\n",
    "for t in range (1, t_intervals):\n",
    "    price_list[t] = price_list[t-1]*daily_returns[t]\n",
    "\n",
    "price_list"
   ]
  },
  {
   "cell_type": "code",
   "execution_count": 52,
   "id": "bde0dbe2",
   "metadata": {},
   "outputs": [
    {
     "data": {
      "image/png": "[encoded data removed]",
      "text/plain": [
       "<Figure size 1080x432 with 1 Axes>"
      ]
     },
     "metadata": {
      "needs_background": "light"
     },
     "output_type": "display_data"
    }
   ],
   "source": [
    "# Plot the last 500 out of the * simulated stock prices\n",
    "plt.figure(figsize=(15,6))\n",
    "plt.plot(price_list[:, :5000]);\n",
    "plt.ylabel('LQI')\n",
    "plt.xlabel('Date')\n",
    "plt.title ('Monte Carlo Simulation Outcome')\n",
    "plt.grid(True)"
   ]
  },
  {
   "cell_type": "code",
   "execution_count": 53,
   "id": "ee28fddb",
   "metadata": {},
   "outputs": [
    {
     "data": {
      "text/html": [
       "<div>\n",
       "<style scoped>\n",
       "    .dataframe tbody tr th:only-of-type {\n",
       "        vertical-align: middle;\n",
       "    }\n",
       "\n",
       "    .dataframe tbody tr th {\n",
       "        vertical-align: top;\n",
       "    }\n",
       "\n",
       "    .dataframe thead th {\n",
       "        text-align: right;\n",
       "    }\n",
       "</style>\n",
       "<table border=\"1\" class=\"dataframe\">\n",
       "  <thead>\n",
       "    <tr style=\"text-align: right;\">\n",
       "      <th></th>\n",
       "      <th>LQI</th>\n",
       "    </tr>\n",
       "  </thead>\n",
       "  <tbody>\n",
       "    <tr>\n",
       "      <th>0</th>\n",
       "      <td>1</td>\n",
       "    </tr>\n",
       "    <tr>\n",
       "      <th>1</th>\n",
       "      <td>107</td>\n",
       "    </tr>\n",
       "    <tr>\n",
       "      <th>2</th>\n",
       "      <td>108</td>\n",
       "    </tr>\n",
       "    <tr>\n",
       "      <th>3</th>\n",
       "      <td>107</td>\n",
       "    </tr>\n",
       "    <tr>\n",
       "      <th>4</th>\n",
       "      <td>108</td>\n",
       "    </tr>\n",
       "    <tr>\n",
       "      <th>...</th>\n",
       "      <td>...</td>\n",
       "    </tr>\n",
       "    <tr>\n",
       "      <th>2011</th>\n",
       "      <td>101</td>\n",
       "    </tr>\n",
       "    <tr>\n",
       "      <th>2012</th>\n",
       "      <td>105</td>\n",
       "    </tr>\n",
       "    <tr>\n",
       "      <th>2013</th>\n",
       "      <td>102</td>\n",
       "    </tr>\n",
       "    <tr>\n",
       "      <th>2014</th>\n",
       "      <td>104</td>\n",
       "    </tr>\n",
       "    <tr>\n",
       "      <th>2015</th>\n",
       "      <td>100</td>\n",
       "    </tr>\n",
       "  </tbody>\n",
       "</table>\n",
       "<p>2016 rows × 1 columns</p>\n",
       "</div>"
      ],
      "text/plain": [
       "      LQI\n",
       "0       1\n",
       "1     107\n",
       "2     108\n",
       "3     107\n",
       "4     108\n",
       "...   ...\n",
       "2011  101\n",
       "2012  105\n",
       "2013  102\n",
       "2014  104\n",
       "2015  100\n",
       "\n",
       "[2016 rows x 1 columns]"
      ]
     },
     "execution_count": 53,
     "metadata": {},
     "output_type": "execute_result"
    }
   ],
   "source": [
    "#sacar la parte de test\n",
    "test = datas[entrenamiento3:cantidad]\n",
    "test=test.reset_index(drop=\"true\")\n",
    "test"
   ]
  },
  {
   "cell_type": "code",
   "execution_count": 54,
   "id": "c6b3c7a2",
   "metadata": {},
   "outputs": [
    {
     "name": "stdout",
     "output_type": "stream",
     "text": [
      "200 0\n"
     ]
    }
   ],
   "source": [
    "# Load specific evaluation tools \n",
    "from sklearn.metrics import mean_squared_error \n",
    "from statsmodels.tools.eval_measures import rmse \n",
    "\n",
    "#for para comparar todas las predicciones\n",
    "\n",
    "menor=200#el rmse mínimo a comenzar a comparar\n",
    "index=0;\n",
    "\n",
    "for i in range(0, iterations):\n",
    "    prediction = rmse(test[\"LQI\"], price_list[:, i]) \n",
    "    if prediction<menor:\n",
    "        menor=prediction\n",
    "        index=i\n",
    "        \n",
    "        \n",
    "print(menor, index)"
   ]
  },
  {
   "cell_type": "code",
   "execution_count": 57,
   "id": "d3507414",
   "metadata": {},
   "outputs": [
    {
     "name": "stdout",
     "output_type": "stream",
     "text": [
      "\n",
      "RMSE: \n",
      "nan\n",
      "\n",
      "MAPE (Porcentaje): \n",
      "nan\n"
     ]
    }
   ],
   "source": [
    "# Load specific evaluation tools \n",
    "from sklearn.metrics import mean_squared_error \n",
    "from statsmodels.tools.eval_measures import rmse \n",
    "\n",
    "#Hallar las diferentes métricas\n",
    "\n",
    "prediction1 = price_list[:, index];\n",
    "rmse(test[\"LQI\"], prediction1) \n",
    "\n",
    "\n",
    "# Calculate mean squared error \n",
    "mse = mean_squared_error(test[\"LQI\"], prediction1)\n",
    "print(\"MSE: \")\n",
    "print(mse)\n",
    "\n",
    "# Calculate root mean squared error \n",
    "rmse = rmse(test[\"LQI\"], prediction1)\n",
    "print(\"\\nRMSE: \")\n",
    "print(rmse)\n",
    "\n",
    "# Calculate MAPE\n",
    "def mean_absolute_percentage_error(y_true, y_pred): \n",
    "    y_true, y_pred = np.array(y_true), np.array(y_pred)\n",
    "    return np.mean(np.abs((y_true - y_pred) / y_true)) * 100\n",
    "\n",
    "mape =  mean_absolute_percentage_error(test[\"LQI\"], prediction1)\n",
    "print(\"\\nMAPE (Porcentaje): \")\n",
    "print(mape)"
   ]
  },
  {
   "cell_type": "code",
   "execution_count": null,
   "id": "9d3f931f",
   "metadata": {},
   "outputs": [],
   "source": [
    "bp = price_list[:,index];\n",
    "\n",
    "test.plot(figsize = (20, 5), label=\"true\");\n",
    "plt.plot(bp, label=\"forecast\");"
   ]
  }
 ],
 "metadata": {
  "kernelspec": {
   "display_name": "Python 3",
   "language": "python",
   "name": "python3"
  },
  "language_info": {
   "codemirror_mode": {
    "name": "ipython",
    "version": 3
   },
   "file_extension": ".py",
   "mimetype": "text/x-python",
   "name": "python",
   "nbconvert_exporter": "python",
   "pygments_lexer": "ipython3",
   "version": "3.8.3"
  }
 },
 "nbformat": 4,
 "nbformat_minor": 5
}
