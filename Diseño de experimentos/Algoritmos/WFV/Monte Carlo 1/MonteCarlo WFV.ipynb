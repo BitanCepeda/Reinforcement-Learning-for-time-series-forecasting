{
 "cells": [
  {
   "cell_type": "code",
   "execution_count": 1,
   "id": "05b7fb00",
   "metadata": {},
   "outputs": [],
   "source": [
    "import numpy as np\n",
    "import pandas as pd\n",
    "from pandas_datareader import data as wb\n",
    "import matplotlib.pyplot as plt\n",
    "from scipy.stats import norm\n",
    "%matplotlib inline"
   ]
  },
  {
   "cell_type": "code",
   "execution_count": 2,
   "id": "2298bc38",
   "metadata": {},
   "outputs": [
    {
     "name": "stdout",
     "output_type": "stream",
     "text": [
      "8064\n",
      "4435\n",
      "5241\n",
      "6048\n"
     ]
    },
    {
     "data": {
      "text/html": [
       "<div>\n",
       "<style scoped>\n",
       "    .dataframe tbody tr th:only-of-type {\n",
       "        vertical-align: middle;\n",
       "    }\n",
       "\n",
       "    .dataframe tbody tr th {\n",
       "        vertical-align: top;\n",
       "    }\n",
       "\n",
       "    .dataframe thead th {\n",
       "        text-align: right;\n",
       "    }\n",
       "</style>\n",
       "<table border=\"1\" class=\"dataframe\">\n",
       "  <thead>\n",
       "    <tr style=\"text-align: right;\">\n",
       "      <th></th>\n",
       "      <th>LQI</th>\n",
       "    </tr>\n",
       "    <tr>\n",
       "      <th>Date</th>\n",
       "      <th></th>\n",
       "    </tr>\n",
       "  </thead>\n",
       "  <tbody>\n",
       "    <tr>\n",
       "      <th>1</th>\n",
       "      <td>1</td>\n",
       "    </tr>\n",
       "    <tr>\n",
       "      <th>2</th>\n",
       "      <td>101</td>\n",
       "    </tr>\n",
       "    <tr>\n",
       "      <th>3</th>\n",
       "      <td>105</td>\n",
       "    </tr>\n",
       "    <tr>\n",
       "      <th>4</th>\n",
       "      <td>1</td>\n",
       "    </tr>\n",
       "    <tr>\n",
       "      <th>5</th>\n",
       "      <td>87</td>\n",
       "    </tr>\n",
       "    <tr>\n",
       "      <th>...</th>\n",
       "      <td>...</td>\n",
       "    </tr>\n",
       "    <tr>\n",
       "      <th>4431</th>\n",
       "      <td>106</td>\n",
       "    </tr>\n",
       "    <tr>\n",
       "      <th>4432</th>\n",
       "      <td>107</td>\n",
       "    </tr>\n",
       "    <tr>\n",
       "      <th>4433</th>\n",
       "      <td>106</td>\n",
       "    </tr>\n",
       "    <tr>\n",
       "      <th>4434</th>\n",
       "      <td>107</td>\n",
       "    </tr>\n",
       "    <tr>\n",
       "      <th>4435</th>\n",
       "      <td>107</td>\n",
       "    </tr>\n",
       "  </tbody>\n",
       "</table>\n",
       "<p>4435 rows × 1 columns</p>\n",
       "</div>"
      ],
      "text/plain": [
       "      LQI\n",
       "Date     \n",
       "1       1\n",
       "2     101\n",
       "3     105\n",
       "4       1\n",
       "5      87\n",
       "...   ...\n",
       "4431  106\n",
       "4432  107\n",
       "4433  106\n",
       "4434  107\n",
       "4435  107\n",
       "\n",
       "[4435 rows x 1 columns]"
      ]
     },
     "execution_count": 2,
     "metadata": {},
     "output_type": "execute_result"
    }
   ],
   "source": [
    "# Import data\n",
    "ticker = 'NVCR'\n",
    "datas = pd.read_csv('../../Datos/lQI/20m/raw_data_run1--27.csv', \n",
    "                       index_col ='Date', \n",
    "                       parse_dates = True)\n",
    "\n",
    "\n",
    "#cantidad de training-test\n",
    "cantidad=len(datas)\n",
    "print(cantidad)\n",
    "entrenamiento=int((cantidad/100)*55)\n",
    "print(entrenamiento)\n",
    "entrenamiento2=int((cantidad/100)*65)\n",
    "print(entrenamiento2)\n",
    "entrenamiento3=int((cantidad/100)*75)\n",
    "print(entrenamiento3)\n",
    "testing1=int((cantidad/100)*10)\n",
    "testing2=int((cantidad/100)*10)\n",
    "testing3=int((cantidad/100)*25)\n",
    "data = datas[:entrenamiento] #datos para el entrenamiento, correspondientes al 55%\n",
    "data"
   ]
  },
  {
   "cell_type": "code",
   "execution_count": 3,
   "id": "56fd1616",
   "metadata": {},
   "outputs": [],
   "source": [
    "# Estimate historycal log returns\n",
    "log_returns = np.log(1+data.pct_change())"
   ]
  },
  {
   "cell_type": "code",
   "execution_count": 4,
   "id": "dd1456e8",
   "metadata": {},
   "outputs": [
    {
     "data": {
      "text/html": [
       "<div>\n",
       "<style scoped>\n",
       "    .dataframe tbody tr th:only-of-type {\n",
       "        vertical-align: middle;\n",
       "    }\n",
       "\n",
       "    .dataframe tbody tr th {\n",
       "        vertical-align: top;\n",
       "    }\n",
       "\n",
       "    .dataframe thead th {\n",
       "        text-align: right;\n",
       "    }\n",
       "</style>\n",
       "<table border=\"1\" class=\"dataframe\">\n",
       "  <thead>\n",
       "    <tr style=\"text-align: right;\">\n",
       "      <th></th>\n",
       "      <th>LQI</th>\n",
       "    </tr>\n",
       "    <tr>\n",
       "      <th>Date</th>\n",
       "      <th></th>\n",
       "    </tr>\n",
       "  </thead>\n",
       "  <tbody>\n",
       "    <tr>\n",
       "      <th>4431</th>\n",
       "      <td>-0.00939</td>\n",
       "    </tr>\n",
       "    <tr>\n",
       "      <th>4432</th>\n",
       "      <td>0.00939</td>\n",
       "    </tr>\n",
       "    <tr>\n",
       "      <th>4433</th>\n",
       "      <td>-0.00939</td>\n",
       "    </tr>\n",
       "    <tr>\n",
       "      <th>4434</th>\n",
       "      <td>0.00939</td>\n",
       "    </tr>\n",
       "    <tr>\n",
       "      <th>4435</th>\n",
       "      <td>0.00000</td>\n",
       "    </tr>\n",
       "  </tbody>\n",
       "</table>\n",
       "</div>"
      ],
      "text/plain": [
       "          LQI\n",
       "Date         \n",
       "4431 -0.00939\n",
       "4432  0.00939\n",
       "4433 -0.00939\n",
       "4434  0.00939\n",
       "4435  0.00000"
      ]
     },
     "execution_count": 4,
     "metadata": {},
     "output_type": "execute_result"
    }
   ],
   "source": [
    "log_returns.tail()"
   ]
  },
  {
   "cell_type": "code",
   "execution_count": 5,
   "id": "9f4a92a4",
   "metadata": {},
   "outputs": [
    {
     "data": {
      "image/png": "[encoded data removed]",
      "text/plain": [
       "<Figure size 1080x432 with 1 Axes>"
      ]
     },
     "metadata": {
      "needs_background": "light"
     },
     "output_type": "display_data"
    }
   ],
   "source": [
    "# Plot stock price\n",
    "data.plot(figsize=(15,6))\n",
    "plt.ylabel('LQI')\n",
    "plt.xlabel ('Date')\n",
    "plt.title('LQI')\n",
    "plt.grid(True)"
   ]
  },
  {
   "cell_type": "code",
   "execution_count": 6,
   "id": "0e9dc9e2",
   "metadata": {},
   "outputs": [
    {
     "data": {
      "image/png": "[encoded data removed]",
      "text/plain": [
       "<Figure size 1080x432 with 1 Axes>"
      ]
     },
     "metadata": {
      "needs_background": "light"
     },
     "output_type": "display_data"
    }
   ],
   "source": [
    "# Plot stock return\n",
    "log_returns.plot(figsize = (15,6))\n",
    "plt.ylabel('% change')\n",
    "plt.xlabel('Date')\n",
    "plt.title('LQI change')\n",
    "plt.grid(True)"
   ]
  },
  {
   "cell_type": "code",
   "execution_count": 7,
   "id": "8c30dd6f",
   "metadata": {},
   "outputs": [
    {
     "data": {
      "text/plain": [
       "LQI    0.001054\n",
       "dtype: float64"
      ]
     },
     "execution_count": 7,
     "metadata": {},
     "output_type": "execute_result"
    }
   ],
   "source": [
    "# Calulate log return mean\n",
    "u = log_returns.mean()\n",
    "u"
   ]
  },
  {
   "cell_type": "code",
   "execution_count": 8,
   "id": "b0581b93",
   "metadata": {},
   "outputs": [
    {
     "data": {
      "text/plain": [
       "LQI    1.228811\n",
       "dtype: float64"
      ]
     },
     "execution_count": 8,
     "metadata": {},
     "output_type": "execute_result"
    }
   ],
   "source": [
    "# Calculate log return variance\n",
    "var = log_returns.var()\n",
    "var"
   ]
  },
  {
   "cell_type": "code",
   "execution_count": 9,
   "id": "e08ad364",
   "metadata": {},
   "outputs": [
    {
     "data": {
      "text/plain": [
       "LQI   -0.613352\n",
       "dtype: float64"
      ]
     },
     "execution_count": 9,
     "metadata": {},
     "output_type": "execute_result"
    }
   ],
   "source": [
    "# Calculate drift\n",
    "# Hence we are predicting daily stock price, this number is NOT annualized. \n",
    "drift = u - (0.5*var)\n",
    "drift"
   ]
  },
  {
   "cell_type": "code",
   "execution_count": 10,
   "id": "6a11fade",
   "metadata": {},
   "outputs": [
    {
     "data": {
      "text/plain": [
       "LQI    1.108518\n",
       "dtype: float64"
      ]
     },
     "execution_count": 10,
     "metadata": {},
     "output_type": "execute_result"
    }
   ],
   "source": [
    "# Calculate standard deviation \n",
    "stdev = log_returns.std()\n",
    "stdev"
   ]
  },
  {
   "cell_type": "code",
   "execution_count": 11,
   "id": "7c1442f4",
   "metadata": {},
   "outputs": [
    {
     "data": {
      "text/plain": [
       "pandas.core.series.Series"
      ]
     },
     "execution_count": 11,
     "metadata": {},
     "output_type": "execute_result"
    }
   ],
   "source": [
    "type(drift)"
   ]
  },
  {
   "cell_type": "code",
   "execution_count": 12,
   "id": "585508b8",
   "metadata": {},
   "outputs": [
    {
     "data": {
      "text/plain": [
       "pandas.core.series.Series"
      ]
     },
     "execution_count": 12,
     "metadata": {},
     "output_type": "execute_result"
    }
   ],
   "source": [
    "type(stdev)"
   ]
  },
  {
   "cell_type": "code",
   "execution_count": 13,
   "id": "e55b0a58",
   "metadata": {},
   "outputs": [
    {
     "data": {
      "text/plain": [
       "array([-0.6133518])"
      ]
     },
     "execution_count": 13,
     "metadata": {},
     "output_type": "execute_result"
    }
   ],
   "source": [
    "# Convert values to arrays\n",
    "np.array(drift)"
   ]
  },
  {
   "cell_type": "code",
   "execution_count": 14,
   "id": "6aa20859",
   "metadata": {},
   "outputs": [
    {
     "data": {
      "text/plain": [
       "array([1.10851762])"
      ]
     },
     "execution_count": 14,
     "metadata": {},
     "output_type": "execute_result"
    }
   ],
   "source": [
    "np.array(stdev)"
   ]
  },
  {
   "cell_type": "code",
   "execution_count": 15,
   "id": "ebf98d62",
   "metadata": {},
   "outputs": [
    {
     "data": {
      "text/plain": [
       "1.6448536269514722"
      ]
     },
     "execution_count": 15,
     "metadata": {},
     "output_type": "execute_result"
    }
   ],
   "source": [
    "# Where 0.95 : an event has 95% chance of occuring\n",
    "norm.ppf(0.95)"
   ]
  },
  {
   "cell_type": "code",
   "execution_count": 16,
   "id": "09d89b0e",
   "metadata": {},
   "outputs": [
    {
     "data": {
      "text/plain": [
       "array([[0.90286801, 0.20266455],\n",
       "       [0.07148401, 0.9751914 ],\n",
       "       [0.35813405, 0.41896741],\n",
       "       ...,\n",
       "       [0.08721033, 0.16031705],\n",
       "       [0.33056906, 0.42568696],\n",
       "       [0.09742941, 0.53369696]])"
      ]
     },
     "execution_count": 16,
     "metadata": {},
     "output_type": "execute_result"
    }
   ],
   "source": [
    "# to randomize and generate a 10,2 dimension array. The array below contains randomly generated probilities\n",
    "x = np.random.rand(10000,2) \n",
    "x"
   ]
  },
  {
   "cell_type": "code",
   "execution_count": 17,
   "id": "ae033914",
   "metadata": {},
   "outputs": [
    {
     "data": {
      "text/plain": [
       "array([[ 1.29806799, -0.83214145],\n",
       "       [-1.46482738,  1.96324947],\n",
       "       [-0.36345088, -0.2045358 ],\n",
       "       ...,\n",
       "       [-1.3581356 , -0.99315567],\n",
       "       [-0.43834235, -0.18736569],\n",
       "       [-1.29633872,  0.08456643]])"
      ]
     },
     "execution_count": 17,
     "metadata": {},
     "output_type": "execute_result"
    }
   ],
   "source": [
    "# Obtain the distance of these probabilites from the mean\n",
    "# The first number in the first row correspondes the first number of the first row above\n",
    "norm.ppf(x)"
   ]
  },
  {
   "cell_type": "code",
   "execution_count": 18,
   "id": "3ab28a3f",
   "metadata": {},
   "outputs": [
    {
     "data": {
      "text/plain": [
       "array([[ 0.40778873, -0.37397133],\n",
       "       [ 0.26832862, -0.66371266],\n",
       "       [-0.04533459,  0.37355767],\n",
       "       ...,\n",
       "       [ 0.18983326, -0.97005706],\n",
       "       [-1.10018072,  0.13887911],\n",
       "       [-0.37401483,  0.07996059]])"
      ]
     },
     "execution_count": 18,
     "metadata": {},
     "output_type": "execute_result"
    }
   ],
   "source": [
    "# Generate a random number 'z' that corresposnds to the distance between the mean and the events, \n",
    "# expressed as the number of standard deviation\n",
    "# The new array uses the probailities generated by the random function and \n",
    "# converted them into distances from the mean 0, measured by the number of standard deviations. \n",
    "# This expression is the 'z' in our formula. \n",
    "z = norm.ppf(np.random.rand(10000,2))\n",
    "z"
   ]
  },
  {
   "cell_type": "code",
   "execution_count": 19,
   "id": "32c3c2e9",
   "metadata": {},
   "outputs": [],
   "source": [
    "# Calucalte stock prices\n",
    "t_intervals = testing1\n",
    "iterations = 100000 # We want Python to run the loop ***** times"
   ]
  },
  {
   "cell_type": "code",
   "execution_count": 20,
   "id": "6542a559",
   "metadata": {},
   "outputs": [],
   "source": [
    "daily_returns = np.exp(drift.values + stdev.values * norm.ppf(np.random.rand(t_intervals,iterations)))"
   ]
  },
  {
   "cell_type": "code",
   "execution_count": 21,
   "id": "47746830",
   "metadata": {},
   "outputs": [
    {
     "data": {
      "text/plain": [
       "array([[0.32039736, 1.27676489, 0.25280616, ..., 1.66121569, 0.39528897,\n",
       "        0.1674815 ],\n",
       "       [1.213756  , 0.97408211, 0.7951603 , ..., 0.0852938 , 0.39802605,\n",
       "        0.03740595],\n",
       "       [0.58318043, 0.04941394, 0.74186631, ..., 0.08082913, 0.22320469,\n",
       "        1.84339636],\n",
       "       ...,\n",
       "       [0.59608566, 0.4770662 , 0.53369721, ..., 0.872128  , 1.27158535,\n",
       "        0.50844993],\n",
       "       [0.86071936, 1.72832681, 0.20758927, ..., 0.09959835, 0.39040328,\n",
       "        0.90663467],\n",
       "       [1.38944445, 2.11944216, 0.31136776, ..., 0.48604424, 0.27485063,\n",
       "        0.28296568]])"
      ]
     },
     "execution_count": 21,
     "metadata": {},
     "output_type": "execute_result"
    }
   ],
   "source": [
    "daily_returns"
   ]
  },
  {
   "cell_type": "code",
   "execution_count": 22,
   "id": "fad403a8",
   "metadata": {},
   "outputs": [
    {
     "data": {
      "text/plain": [
       "LQI    107\n",
       "Name: 4435, dtype: int64"
      ]
     },
     "execution_count": 22,
     "metadata": {},
     "output_type": "execute_result"
    }
   ],
   "source": [
    "# Determining the first datapoint in the equation, which is the latest known price return in our dataset\n",
    "S0 = data.iloc[-1]\n",
    "S0"
   ]
  },
  {
   "cell_type": "code",
   "execution_count": 23,
   "id": "a00b631f",
   "metadata": {},
   "outputs": [],
   "source": [
    "# Creating an array, same size as the daily return filed with 0s\n",
    "price_list = np.zeros_like(daily_returns)"
   ]
  },
  {
   "cell_type": "code",
   "execution_count": 24,
   "id": "f2c21aef",
   "metadata": {},
   "outputs": [
    {
     "data": {
      "text/plain": [
       "array([[0., 0., 0., ..., 0., 0., 0.],\n",
       "       [0., 0., 0., ..., 0., 0., 0.],\n",
       "       [0., 0., 0., ..., 0., 0., 0.],\n",
       "       ...,\n",
       "       [0., 0., 0., ..., 0., 0., 0.],\n",
       "       [0., 0., 0., ..., 0., 0., 0.],\n",
       "       [0., 0., 0., ..., 0., 0., 0.]])"
      ]
     },
     "execution_count": 24,
     "metadata": {},
     "output_type": "execute_result"
    }
   ],
   "source": [
    "price_list"
   ]
  },
  {
   "cell_type": "code",
   "execution_count": 25,
   "id": "ec20fe86",
   "metadata": {},
   "outputs": [
    {
     "data": {
      "text/plain": [
       "array([[107., 107., 107., ..., 107., 107., 107.],\n",
       "       [  0.,   0.,   0., ...,   0.,   0.,   0.],\n",
       "       [  0.,   0.,   0., ...,   0.,   0.,   0.],\n",
       "       ...,\n",
       "       [  0.,   0.,   0., ...,   0.,   0.,   0.],\n",
       "       [  0.,   0.,   0., ...,   0.,   0.,   0.],\n",
       "       [  0.,   0.,   0., ...,   0.,   0.,   0.]])"
      ]
     },
     "execution_count": 25,
     "metadata": {},
     "output_type": "execute_result"
    }
   ],
   "source": [
    "# Replace zeros with the prices by creating a loop\n",
    "# S0 is the first elemnt on each - here * - columns as we will have * iterations generated from the same\n",
    "# starting point\n",
    "price_list[0]=S0\n",
    "price_list"
   ]
  },
  {
   "cell_type": "code",
   "execution_count": 26,
   "id": "9007dea3",
   "metadata": {},
   "outputs": [],
   "source": [
    "# After generating all the elements of the formula, fill it\n",
    "for t in range (1, t_intervals):\n",
    "    price_list[t] = price_list[t-1]*daily_returns[t]"
   ]
  },
  {
   "cell_type": "code",
   "execution_count": 27,
   "id": "ed57fd80",
   "metadata": {},
   "outputs": [
    {
     "data": {
      "text/plain": [
       "array([[1.07000000e+002, 1.07000000e+002, 1.07000000e+002, ...,\n",
       "        1.07000000e+002, 1.07000000e+002, 1.07000000e+002],\n",
       "       [1.29871892e+002, 1.04226786e+002, 8.50821525e+001, ...,\n",
       "        9.12643639e+000, 4.25887872e+001, 4.00243703e+000],\n",
       "       [7.57387463e+001, 5.15025573e+000, 6.31195823e+001, ...,\n",
       "        7.37681950e-001, 9.50601693e+000, 7.37807785e+000],\n",
       "       ...,\n",
       "       [4.93720015e-223, 1.22247651e-189, 2.79437784e-221, ...,\n",
       "        6.70089658e-226, 3.89753231e-232, 1.70457366e-213],\n",
       "       [4.24954374e-223, 2.11283893e-189, 5.80082861e-222, ...,\n",
       "        6.67398261e-227, 1.52160940e-232, 1.54542558e-213],\n",
       "       [5.90450498e-223, 4.47803990e-189, 1.80619102e-222, ...,\n",
       "        3.24385082e-227, 4.18215303e-233, 4.37302402e-214]])"
      ]
     },
     "execution_count": 27,
     "metadata": {},
     "output_type": "execute_result"
    }
   ],
   "source": [
    "price_list"
   ]
  },
  {
   "cell_type": "code",
   "execution_count": 28,
   "id": "85ddbf13",
   "metadata": {},
   "outputs": [
    {
     "data": {
      "image/png": "[encoded data removed]",
      "text/plain": [
       "<Figure size 1080x432 with 1 Axes>"
      ]
     },
     "metadata": {
      "needs_background": "light"
     },
     "output_type": "display_data"
    }
   ],
   "source": [
    "# Plot the last 500 out of the * simulated stock prices\n",
    "plt.figure(figsize=(15,6))\n",
    "plt.plot(price_list[:, :500]);\n",
    "plt.ylabel('LQI')\n",
    "plt.xlabel('Date')\n",
    "plt.title ('Monte Carlo Simulation Outcome')\n",
    "plt.grid(True)"
   ]
  },
  {
   "cell_type": "code",
   "execution_count": 29,
   "id": "21290c6c",
   "metadata": {},
   "outputs": [
    {
     "data": {
      "text/html": [
       "<div>\n",
       "<style scoped>\n",
       "    .dataframe tbody tr th:only-of-type {\n",
       "        vertical-align: middle;\n",
       "    }\n",
       "\n",
       "    .dataframe tbody tr th {\n",
       "        vertical-align: top;\n",
       "    }\n",
       "\n",
       "    .dataframe thead th {\n",
       "        text-align: right;\n",
       "    }\n",
       "</style>\n",
       "<table border=\"1\" class=\"dataframe\">\n",
       "  <thead>\n",
       "    <tr style=\"text-align: right;\">\n",
       "      <th></th>\n",
       "      <th>LQI</th>\n",
       "    </tr>\n",
       "  </thead>\n",
       "  <tbody>\n",
       "    <tr>\n",
       "      <th>0</th>\n",
       "      <td>107</td>\n",
       "    </tr>\n",
       "    <tr>\n",
       "      <th>1</th>\n",
       "      <td>107</td>\n",
       "    </tr>\n",
       "    <tr>\n",
       "      <th>2</th>\n",
       "      <td>105</td>\n",
       "    </tr>\n",
       "    <tr>\n",
       "      <th>3</th>\n",
       "      <td>107</td>\n",
       "    </tr>\n",
       "    <tr>\n",
       "      <th>4</th>\n",
       "      <td>106</td>\n",
       "    </tr>\n",
       "    <tr>\n",
       "      <th>...</th>\n",
       "      <td>...</td>\n",
       "    </tr>\n",
       "    <tr>\n",
       "      <th>801</th>\n",
       "      <td>106</td>\n",
       "    </tr>\n",
       "    <tr>\n",
       "      <th>802</th>\n",
       "      <td>107</td>\n",
       "    </tr>\n",
       "    <tr>\n",
       "      <th>803</th>\n",
       "      <td>107</td>\n",
       "    </tr>\n",
       "    <tr>\n",
       "      <th>804</th>\n",
       "      <td>106</td>\n",
       "    </tr>\n",
       "    <tr>\n",
       "      <th>805</th>\n",
       "      <td>107</td>\n",
       "    </tr>\n",
       "  </tbody>\n",
       "</table>\n",
       "<p>806 rows × 1 columns</p>\n",
       "</div>"
      ],
      "text/plain": [
       "     LQI\n",
       "0    107\n",
       "1    107\n",
       "2    105\n",
       "3    107\n",
       "4    106\n",
       "..   ...\n",
       "801  106\n",
       "802  107\n",
       "803  107\n",
       "804  106\n",
       "805  107\n",
       "\n",
       "[806 rows x 1 columns]"
      ]
     },
     "execution_count": 29,
     "metadata": {},
     "output_type": "execute_result"
    }
   ],
   "source": [
    "#sacar la parte de test\n",
    "test = datas[entrenamiento:entrenamiento2]\n",
    "test=test.reset_index(drop=\"true\")\n",
    "test"
   ]
  },
  {
   "cell_type": "code",
   "execution_count": 30,
   "id": "e1894299",
   "metadata": {},
   "outputs": [
    {
     "name": "stdout",
     "output_type": "stream",
     "text": [
      "15 0\n"
     ]
    }
   ],
   "source": [
    "# Load specific evaluation tools \n",
    "from sklearn.metrics import mean_squared_error \n",
    "from statsmodels.tools.eval_measures import rmse \n",
    "\n",
    "#for para comparar todas las predicciones\n",
    "\n",
    "menor=15#el rmse mínimo a comenzar a comparar\n",
    "index=0;\n",
    "\n",
    "for i in range(0, iterations):\n",
    "    prediction = rmse(test[\"LQI\"], price_list[:, i]) \n",
    "    if prediction<menor:\n",
    "        menor=prediction\n",
    "        index=i\n",
    "        \n",
    "        \n",
    "print(menor, index)"
   ]
  },
  {
   "cell_type": "code",
   "execution_count": 31,
   "id": "20d30221",
   "metadata": {},
   "outputs": [
    {
     "data": {
      "text/html": [
       "<div>\n",
       "<style scoped>\n",
       "    .dataframe tbody tr th:only-of-type {\n",
       "        vertical-align: middle;\n",
       "    }\n",
       "\n",
       "    .dataframe tbody tr th {\n",
       "        vertical-align: top;\n",
       "    }\n",
       "\n",
       "    .dataframe thead th {\n",
       "        text-align: right;\n",
       "    }\n",
       "</style>\n",
       "<table border=\"1\" class=\"dataframe\">\n",
       "  <thead>\n",
       "    <tr style=\"text-align: right;\">\n",
       "      <th></th>\n",
       "      <th>0</th>\n",
       "    </tr>\n",
       "  </thead>\n",
       "  <tbody>\n",
       "    <tr>\n",
       "      <th>0</th>\n",
       "      <td>1.070000e+02</td>\n",
       "    </tr>\n",
       "    <tr>\n",
       "      <th>1</th>\n",
       "      <td>1.298719e+02</td>\n",
       "    </tr>\n",
       "    <tr>\n",
       "      <th>2</th>\n",
       "      <td>7.573875e+01</td>\n",
       "    </tr>\n",
       "    <tr>\n",
       "      <th>3</th>\n",
       "      <td>1.779394e+02</td>\n",
       "    </tr>\n",
       "    <tr>\n",
       "      <th>4</th>\n",
       "      <td>8.419621e+01</td>\n",
       "    </tr>\n",
       "    <tr>\n",
       "      <th>...</th>\n",
       "      <td>...</td>\n",
       "    </tr>\n",
       "    <tr>\n",
       "      <th>801</th>\n",
       "      <td>1.032005e-222</td>\n",
       "    </tr>\n",
       "    <tr>\n",
       "      <th>802</th>\n",
       "      <td>8.282702e-223</td>\n",
       "    </tr>\n",
       "    <tr>\n",
       "      <th>803</th>\n",
       "      <td>4.937200e-223</td>\n",
       "    </tr>\n",
       "    <tr>\n",
       "      <th>804</th>\n",
       "      <td>4.249544e-223</td>\n",
       "    </tr>\n",
       "    <tr>\n",
       "      <th>805</th>\n",
       "      <td>5.904505e-223</td>\n",
       "    </tr>\n",
       "  </tbody>\n",
       "</table>\n",
       "<p>806 rows × 1 columns</p>\n",
       "</div>"
      ],
      "text/plain": [
       "                 0\n",
       "0     1.070000e+02\n",
       "1     1.298719e+02\n",
       "2     7.573875e+01\n",
       "3     1.779394e+02\n",
       "4     8.419621e+01\n",
       "..             ...\n",
       "801  1.032005e-222\n",
       "802  8.282702e-223\n",
       "803  4.937200e-223\n",
       "804  4.249544e-223\n",
       "805  5.904505e-223\n",
       "\n",
       "[806 rows x 1 columns]"
      ]
     },
     "execution_count": 31,
     "metadata": {},
     "output_type": "execute_result"
    }
   ],
   "source": [
    "#unir el training de 0-55% con la predicción de 55-65% para volver a entrenar\n",
    "\n",
    "#convertir a dataframe las predicciones\n",
    "predictions1=pd.DataFrame(price_list[:,index])\n",
    "predictions1"
   ]
  },
  {
   "cell_type": "code",
   "execution_count": 32,
   "id": "160f2694",
   "metadata": {},
   "outputs": [
    {
     "data": {
      "text/html": [
       "<div>\n",
       "<style scoped>\n",
       "    .dataframe tbody tr th:only-of-type {\n",
       "        vertical-align: middle;\n",
       "    }\n",
       "\n",
       "    .dataframe tbody tr th {\n",
       "        vertical-align: top;\n",
       "    }\n",
       "\n",
       "    .dataframe thead th {\n",
       "        text-align: right;\n",
       "    }\n",
       "</style>\n",
       "<table border=\"1\" class=\"dataframe\">\n",
       "  <thead>\n",
       "    <tr style=\"text-align: right;\">\n",
       "      <th></th>\n",
       "      <th>LQI</th>\n",
       "    </tr>\n",
       "  </thead>\n",
       "  <tbody>\n",
       "    <tr>\n",
       "      <th>0</th>\n",
       "      <td>1.070000e+02</td>\n",
       "    </tr>\n",
       "    <tr>\n",
       "      <th>1</th>\n",
       "      <td>1.298719e+02</td>\n",
       "    </tr>\n",
       "    <tr>\n",
       "      <th>2</th>\n",
       "      <td>7.573875e+01</td>\n",
       "    </tr>\n",
       "    <tr>\n",
       "      <th>3</th>\n",
       "      <td>1.779394e+02</td>\n",
       "    </tr>\n",
       "    <tr>\n",
       "      <th>4</th>\n",
       "      <td>8.419621e+01</td>\n",
       "    </tr>\n",
       "    <tr>\n",
       "      <th>...</th>\n",
       "      <td>...</td>\n",
       "    </tr>\n",
       "    <tr>\n",
       "      <th>801</th>\n",
       "      <td>1.032005e-222</td>\n",
       "    </tr>\n",
       "    <tr>\n",
       "      <th>802</th>\n",
       "      <td>8.282702e-223</td>\n",
       "    </tr>\n",
       "    <tr>\n",
       "      <th>803</th>\n",
       "      <td>4.937200e-223</td>\n",
       "    </tr>\n",
       "    <tr>\n",
       "      <th>804</th>\n",
       "      <td>4.249544e-223</td>\n",
       "    </tr>\n",
       "    <tr>\n",
       "      <th>805</th>\n",
       "      <td>5.904505e-223</td>\n",
       "    </tr>\n",
       "  </tbody>\n",
       "</table>\n",
       "<p>806 rows × 1 columns</p>\n",
       "</div>"
      ],
      "text/plain": [
       "               LQI\n",
       "0     1.070000e+02\n",
       "1     1.298719e+02\n",
       "2     7.573875e+01\n",
       "3     1.779394e+02\n",
       "4     8.419621e+01\n",
       "..             ...\n",
       "801  1.032005e-222\n",
       "802  8.282702e-223\n",
       "803  4.937200e-223\n",
       "804  4.249544e-223\n",
       "805  5.904505e-223\n",
       "\n",
       "[806 rows x 1 columns]"
      ]
     },
     "execution_count": 32,
     "metadata": {},
     "output_type": "execute_result"
    }
   ],
   "source": [
    "#renombrar la columna para poder concatenar\n",
    "predictions1=predictions1.rename(columns={0:'LQI'})\n",
    "predictions1"
   ]
  },
  {
   "cell_type": "code",
   "execution_count": 33,
   "id": "53905a69",
   "metadata": {},
   "outputs": [
    {
     "data": {
      "text/html": [
       "<div>\n",
       "<style scoped>\n",
       "    .dataframe tbody tr th:only-of-type {\n",
       "        vertical-align: middle;\n",
       "    }\n",
       "\n",
       "    .dataframe tbody tr th {\n",
       "        vertical-align: top;\n",
       "    }\n",
       "\n",
       "    .dataframe thead th {\n",
       "        text-align: right;\n",
       "    }\n",
       "</style>\n",
       "<table border=\"1\" class=\"dataframe\">\n",
       "  <thead>\n",
       "    <tr style=\"text-align: right;\">\n",
       "      <th></th>\n",
       "      <th>LQI</th>\n",
       "    </tr>\n",
       "  </thead>\n",
       "  <tbody>\n",
       "    <tr>\n",
       "      <th>0</th>\n",
       "      <td>1.000000e+00</td>\n",
       "    </tr>\n",
       "    <tr>\n",
       "      <th>1</th>\n",
       "      <td>1.010000e+02</td>\n",
       "    </tr>\n",
       "    <tr>\n",
       "      <th>2</th>\n",
       "      <td>1.050000e+02</td>\n",
       "    </tr>\n",
       "    <tr>\n",
       "      <th>3</th>\n",
       "      <td>1.000000e+00</td>\n",
       "    </tr>\n",
       "    <tr>\n",
       "      <th>4</th>\n",
       "      <td>8.700000e+01</td>\n",
       "    </tr>\n",
       "    <tr>\n",
       "      <th>...</th>\n",
       "      <td>...</td>\n",
       "    </tr>\n",
       "    <tr>\n",
       "      <th>5236</th>\n",
       "      <td>1.032005e-222</td>\n",
       "    </tr>\n",
       "    <tr>\n",
       "      <th>5237</th>\n",
       "      <td>8.282702e-223</td>\n",
       "    </tr>\n",
       "    <tr>\n",
       "      <th>5238</th>\n",
       "      <td>4.937200e-223</td>\n",
       "    </tr>\n",
       "    <tr>\n",
       "      <th>5239</th>\n",
       "      <td>4.249544e-223</td>\n",
       "    </tr>\n",
       "    <tr>\n",
       "      <th>5240</th>\n",
       "      <td>5.904505e-223</td>\n",
       "    </tr>\n",
       "  </tbody>\n",
       "</table>\n",
       "<p>5241 rows × 1 columns</p>\n",
       "</div>"
      ],
      "text/plain": [
       "                LQI\n",
       "0      1.000000e+00\n",
       "1      1.010000e+02\n",
       "2      1.050000e+02\n",
       "3      1.000000e+00\n",
       "4      8.700000e+01\n",
       "...             ...\n",
       "5236  1.032005e-222\n",
       "5237  8.282702e-223\n",
       "5238  4.937200e-223\n",
       "5239  4.249544e-223\n",
       "5240  5.904505e-223\n",
       "\n",
       "[5241 rows x 1 columns]"
      ]
     },
     "execution_count": 33,
     "metadata": {},
     "output_type": "execute_result"
    }
   ],
   "source": [
    "data = datas[:entrenamiento]\n",
    "train2 = pd.concat([data,predictions1])\n",
    "train2=train2.reset_index(drop=True)  #reseteo index\n",
    "train2"
   ]
  },
  {
   "cell_type": "code",
   "execution_count": 34,
   "id": "bba82a03",
   "metadata": {},
   "outputs": [
    {
     "data": {
      "text/plain": [
       "LQI    1.27369\n",
       "dtype: float64"
      ]
     },
     "execution_count": 34,
     "metadata": {},
     "output_type": "execute_result"
    },
    {
     "data": {
      "image/png": "[encoded data removed]",
      "text/plain": [
       "<Figure size 1080x432 with 1 Axes>"
      ]
     },
     "metadata": {
      "needs_background": "light"
     },
     "output_type": "display_data"
    },
    {
     "data": {
      "image/png": "[encoded data removed]",
      "text/plain": [
       "<Figure size 1080x432 with 1 Axes>"
      ]
     },
     "metadata": {
      "needs_background": "light"
     },
     "output_type": "display_data"
    }
   ],
   "source": [
    "#Realizo el segundo entrenamiento de 0-65 para predecir 65-75\n",
    "data=train2\n",
    "# Estimate historycal log returns\n",
    "log_returns = np.log(1+data.pct_change())\n",
    "log_returns.tail()\n",
    "# Plot stock price\n",
    "data.plot(figsize=(15,6))\n",
    "plt.ylabel('LQI')\n",
    "plt.xlabel ('Date')\n",
    "plt.title('LQI')\n",
    "plt.grid(True)\n",
    "# Plot stock return\n",
    "log_returns.plot(figsize = (15,6))\n",
    "plt.ylabel('% change')\n",
    "plt.xlabel('Date')\n",
    "plt.title('LQI change')\n",
    "plt.grid(True)\n",
    "# Calulate log return mean\n",
    "u = log_returns.mean()\n",
    "u\n",
    "# Calculate log return variance\n",
    "var = log_returns.var()\n",
    "var"
   ]
  },
  {
   "cell_type": "code",
   "execution_count": 35,
   "id": "e9d8a4bf",
   "metadata": {},
   "outputs": [
    {
     "data": {
      "text/plain": [
       "array([[0.45654804, 0.02079083],\n",
       "       [0.30306433, 0.04202447],\n",
       "       [0.53019197, 0.66662186],\n",
       "       ...,\n",
       "       [0.302591  , 0.1233855 ],\n",
       "       [0.1002382 , 0.02035843],\n",
       "       [0.86348221, 0.36203816]])"
      ]
     },
     "execution_count": 35,
     "metadata": {},
     "output_type": "execute_result"
    }
   ],
   "source": [
    "# Calculate drift\n",
    "# Hence we are predicting daily stock price, this number is NOT annualized. \n",
    "drift = u - (0.5*var)\n",
    "drift\n",
    "# Calculate standard deviation \n",
    "stdev = log_returns.std()\n",
    "stdev\n",
    "type(drift)\n",
    "type(stdev)\n",
    "# Convert values to arrays\n",
    "np.array(drift)\n",
    "np.array(stdev)\n",
    "# Where 0.95 : an event has 95% chance of occuring\n",
    "norm.ppf(0.95)\n",
    "# to randomize and generate a 10,2 dimension array. The array below contains randomly generated probilities\n",
    "x = np.random.rand(10000,2) \n",
    "x"
   ]
  },
  {
   "cell_type": "code",
   "execution_count": 36,
   "id": "520c5eba",
   "metadata": {},
   "outputs": [
    {
     "data": {
      "text/plain": [
       "array([[ 1.10981393, -0.80851914],\n",
       "       [-0.6145149 , -1.31927107],\n",
       "       [ 2.13492309,  0.68091941],\n",
       "       ...,\n",
       "       [ 0.35500991, -1.40902264],\n",
       "       [ 1.28401205, -0.27202297],\n",
       "       [ 0.03068568,  0.07327368]])"
      ]
     },
     "execution_count": 36,
     "metadata": {},
     "output_type": "execute_result"
    }
   ],
   "source": [
    "# Obtain the distance of these probabilites from the mean\n",
    "# The first number in the first row correspondes the first number of the first row above\n",
    "norm.ppf(x)\n",
    "# Generate a random number 'z' that corresposnds to the distance between the mean and the events, \n",
    "# expressed as the number of standard deviation\n",
    "# The new array uses the probailities generated by the random function and \n",
    "# converted them into distances from the mean 0, measured by the number of standard deviations. \n",
    "# This expression is the 'z' in our formula. \n",
    "z = norm.ppf(np.random.rand(10000,2))\n",
    "z\n"
   ]
  },
  {
   "cell_type": "code",
   "execution_count": 37,
   "id": "a6f08c20",
   "metadata": {},
   "outputs": [],
   "source": [
    "# Calucalte stock prices\n",
    "t_intervals = testing2\n",
    "iterations = 100000 # We want Python to run the loop ***** times"
   ]
  },
  {
   "cell_type": "code",
   "execution_count": 38,
   "id": "683f0291",
   "metadata": {},
   "outputs": [
    {
     "data": {
      "text/plain": [
       "array([[0.13183488, 2.09958819, 0.04398633, ..., 1.93414104, 0.19274017,\n",
       "        0.06874265],\n",
       "       [5.63321011, 0.29760291, 1.55773095, ..., 0.44486391, 0.11997166,\n",
       "        0.90929768],\n",
       "       [0.65756811, 0.67109873, 5.84720559, ..., 0.52246489, 0.37173445,\n",
       "        0.40590107],\n",
       "       ...,\n",
       "       [0.98595456, 1.55820878, 1.59643864, ..., 0.99831038, 1.69180259,\n",
       "        0.29972696],\n",
       "       [0.30762471, 1.17352107, 0.09566661, ..., 0.05921773, 0.60453922,\n",
       "        1.16429245],\n",
       "       [0.36851386, 0.4938602 , 0.55753357, ..., 0.24201568, 0.37491424,\n",
       "        0.43667473]])"
      ]
     },
     "execution_count": 38,
     "metadata": {},
     "output_type": "execute_result"
    }
   ],
   "source": [
    "daily_returns = np.exp(drift.values + stdev.values * norm.ppf(np.random.rand(t_intervals,iterations)))\n",
    "daily_returns"
   ]
  },
  {
   "cell_type": "code",
   "execution_count": 39,
   "id": "304736f7",
   "metadata": {},
   "outputs": [
    {
     "data": {
      "text/plain": [
       "array([[5.90450498e-223, 5.90450498e-223, 5.90450498e-223, ...,\n",
       "        5.90450498e-223, 5.90450498e-223, 5.90450498e-223],\n",
       "       [3.32613171e-222, 1.75719788e-223, 9.19763013e-223, ...,\n",
       "        2.62670119e-223, 7.08373250e-224, 5.36895270e-223],\n",
       "       [2.18715814e-222, 1.17925327e-223, 5.37804343e-222, ...,\n",
       "        1.37235914e-223, 2.63326740e-224, 2.17926367e-223],\n",
       "       ...,\n",
       "       [0.00000000e+000, 0.00000000e+000, 0.00000000e+000, ...,\n",
       "        0.00000000e+000, 0.00000000e+000, 0.00000000e+000],\n",
       "       [0.00000000e+000, 0.00000000e+000, 0.00000000e+000, ...,\n",
       "        0.00000000e+000, 0.00000000e+000, 0.00000000e+000],\n",
       "       [0.00000000e+000, 0.00000000e+000, 0.00000000e+000, ...,\n",
       "        0.00000000e+000, 0.00000000e+000, 0.00000000e+000]])"
      ]
     },
     "execution_count": 39,
     "metadata": {},
     "output_type": "execute_result"
    }
   ],
   "source": [
    "# Determining the first datapoint in the equation, which is the latest known price return in our dataset\n",
    "S0 = data.iloc[-1]\n",
    "S0\n",
    "# Creating an array, same size as the daily return filed with 0s\n",
    "price_list = np.zeros_like(daily_returns)\n",
    "price_list\n",
    "# Replace zeros with the prices by creating a loop\n",
    "# S0 is the first elemnt on each - here * - columns as we will have * iterations generated from the same\n",
    "# starting point\n",
    "price_list[0]=S0\n",
    "price_list\n",
    "# After generating all the elements of the formula, fill it\n",
    "for t in range (1, t_intervals):\n",
    "    price_list[t] = price_list[t-1]*daily_returns[t]\n",
    "\n",
    "price_list"
   ]
  },
  {
   "cell_type": "code",
   "execution_count": 40,
   "id": "e9e94a8a",
   "metadata": {},
   "outputs": [
    {
     "data": {
      "image/png": "[encoded data removed]",
      "text/plain": [
       "<Figure size 1080x432 with 1 Axes>"
      ]
     },
     "metadata": {
      "needs_background": "light"
     },
     "output_type": "display_data"
    }
   ],
   "source": [
    "# Plot the last 500 out of the * simulated stock prices\n",
    "plt.figure(figsize=(15,6))\n",
    "plt.plot(price_list[:, :5000]);\n",
    "plt.ylabel('LQI')\n",
    "plt.xlabel('Date')\n",
    "plt.title ('Monte Carlo Simulation Outcome')\n",
    "plt.grid(True)"
   ]
  },
  {
   "cell_type": "code",
   "execution_count": 41,
   "id": "57847a84",
   "metadata": {},
   "outputs": [
    {
     "data": {
      "text/html": [
       "<div>\n",
       "<style scoped>\n",
       "    .dataframe tbody tr th:only-of-type {\n",
       "        vertical-align: middle;\n",
       "    }\n",
       "\n",
       "    .dataframe tbody tr th {\n",
       "        vertical-align: top;\n",
       "    }\n",
       "\n",
       "    .dataframe thead th {\n",
       "        text-align: right;\n",
       "    }\n",
       "</style>\n",
       "<table border=\"1\" class=\"dataframe\">\n",
       "  <thead>\n",
       "    <tr style=\"text-align: right;\">\n",
       "      <th></th>\n",
       "      <th>LQI</th>\n",
       "    </tr>\n",
       "  </thead>\n",
       "  <tbody>\n",
       "    <tr>\n",
       "      <th>0</th>\n",
       "      <td>107</td>\n",
       "    </tr>\n",
       "    <tr>\n",
       "      <th>1</th>\n",
       "      <td>107</td>\n",
       "    </tr>\n",
       "    <tr>\n",
       "      <th>2</th>\n",
       "      <td>107</td>\n",
       "    </tr>\n",
       "    <tr>\n",
       "      <th>3</th>\n",
       "      <td>108</td>\n",
       "    </tr>\n",
       "    <tr>\n",
       "      <th>4</th>\n",
       "      <td>107</td>\n",
       "    </tr>\n",
       "    <tr>\n",
       "      <th>...</th>\n",
       "      <td>...</td>\n",
       "    </tr>\n",
       "    <tr>\n",
       "      <th>801</th>\n",
       "      <td>107</td>\n",
       "    </tr>\n",
       "    <tr>\n",
       "      <th>802</th>\n",
       "      <td>106</td>\n",
       "    </tr>\n",
       "    <tr>\n",
       "      <th>803</th>\n",
       "      <td>106</td>\n",
       "    </tr>\n",
       "    <tr>\n",
       "      <th>804</th>\n",
       "      <td>107</td>\n",
       "    </tr>\n",
       "    <tr>\n",
       "      <th>805</th>\n",
       "      <td>106</td>\n",
       "    </tr>\n",
       "  </tbody>\n",
       "</table>\n",
       "<p>806 rows × 1 columns</p>\n",
       "</div>"
      ],
      "text/plain": [
       "     LQI\n",
       "0    107\n",
       "1    107\n",
       "2    107\n",
       "3    108\n",
       "4    107\n",
       "..   ...\n",
       "801  107\n",
       "802  106\n",
       "803  106\n",
       "804  107\n",
       "805  106\n",
       "\n",
       "[806 rows x 1 columns]"
      ]
     },
     "execution_count": 41,
     "metadata": {},
     "output_type": "execute_result"
    }
   ],
   "source": [
    "#sacar la parte de test\n",
    "test = datas[entrenamiento2:entrenamiento3-1]\n",
    "test=test.reset_index(drop=\"true\")\n",
    "test"
   ]
  },
  {
   "cell_type": "code",
   "execution_count": 42,
   "id": "861c8b29",
   "metadata": {},
   "outputs": [
    {
     "name": "stdout",
     "output_type": "stream",
     "text": [
      "14 0\n"
     ]
    }
   ],
   "source": [
    "# Load specific evaluation tools \n",
    "from sklearn.metrics import mean_squared_error \n",
    "from statsmodels.tools.eval_measures import rmse \n",
    "\n",
    "#for para comparar todas las predicciones\n",
    "\n",
    "menor=14#el rmse mínimo a comenzar a comparar\n",
    "index=0;\n",
    "\n",
    "for i in range(0, iterations):\n",
    "    prediction = rmse(test[\"LQI\"], price_list[:, i]) \n",
    "    if prediction<menor:\n",
    "        menor=prediction\n",
    "        index=i\n",
    "        \n",
    "        \n",
    "print(menor, index)"
   ]
  },
  {
   "cell_type": "code",
   "execution_count": 43,
   "id": "9ca252ea",
   "metadata": {},
   "outputs": [
    {
     "data": {
      "text/html": [
       "<div>\n",
       "<style scoped>\n",
       "    .dataframe tbody tr th:only-of-type {\n",
       "        vertical-align: middle;\n",
       "    }\n",
       "\n",
       "    .dataframe tbody tr th {\n",
       "        vertical-align: top;\n",
       "    }\n",
       "\n",
       "    .dataframe thead th {\n",
       "        text-align: right;\n",
       "    }\n",
       "</style>\n",
       "<table border=\"1\" class=\"dataframe\">\n",
       "  <thead>\n",
       "    <tr style=\"text-align: right;\">\n",
       "      <th></th>\n",
       "      <th>0</th>\n",
       "    </tr>\n",
       "  </thead>\n",
       "  <tbody>\n",
       "    <tr>\n",
       "      <th>0</th>\n",
       "      <td>5.904505e-223</td>\n",
       "    </tr>\n",
       "    <tr>\n",
       "      <th>1</th>\n",
       "      <td>3.326132e-222</td>\n",
       "    </tr>\n",
       "    <tr>\n",
       "      <th>2</th>\n",
       "      <td>2.187158e-222</td>\n",
       "    </tr>\n",
       "    <tr>\n",
       "      <th>3</th>\n",
       "      <td>6.121929e-222</td>\n",
       "    </tr>\n",
       "    <tr>\n",
       "      <th>4</th>\n",
       "      <td>6.996989e-222</td>\n",
       "    </tr>\n",
       "    <tr>\n",
       "      <th>...</th>\n",
       "      <td>...</td>\n",
       "    </tr>\n",
       "    <tr>\n",
       "      <th>801</th>\n",
       "      <td>0.000000e+00</td>\n",
       "    </tr>\n",
       "    <tr>\n",
       "      <th>802</th>\n",
       "      <td>0.000000e+00</td>\n",
       "    </tr>\n",
       "    <tr>\n",
       "      <th>803</th>\n",
       "      <td>0.000000e+00</td>\n",
       "    </tr>\n",
       "    <tr>\n",
       "      <th>804</th>\n",
       "      <td>0.000000e+00</td>\n",
       "    </tr>\n",
       "    <tr>\n",
       "      <th>805</th>\n",
       "      <td>0.000000e+00</td>\n",
       "    </tr>\n",
       "  </tbody>\n",
       "</table>\n",
       "<p>806 rows × 1 columns</p>\n",
       "</div>"
      ],
      "text/plain": [
       "                 0\n",
       "0    5.904505e-223\n",
       "1    3.326132e-222\n",
       "2    2.187158e-222\n",
       "3    6.121929e-222\n",
       "4    6.996989e-222\n",
       "..             ...\n",
       "801   0.000000e+00\n",
       "802   0.000000e+00\n",
       "803   0.000000e+00\n",
       "804   0.000000e+00\n",
       "805   0.000000e+00\n",
       "\n",
       "[806 rows x 1 columns]"
      ]
     },
     "execution_count": 43,
     "metadata": {},
     "output_type": "execute_result"
    }
   ],
   "source": [
    "#unir el training de 0-65% con la predicción de 65-75% para volver a entrenar\n",
    "\n",
    "#convertir a dataframe las predicciones\n",
    "predictions2=pd.DataFrame(price_list[:,index])\n",
    "predictions2"
   ]
  },
  {
   "cell_type": "code",
   "execution_count": 44,
   "id": "a21eba15",
   "metadata": {},
   "outputs": [
    {
     "data": {
      "text/html": [
       "<div>\n",
       "<style scoped>\n",
       "    .dataframe tbody tr th:only-of-type {\n",
       "        vertical-align: middle;\n",
       "    }\n",
       "\n",
       "    .dataframe tbody tr th {\n",
       "        vertical-align: top;\n",
       "    }\n",
       "\n",
       "    .dataframe thead th {\n",
       "        text-align: right;\n",
       "    }\n",
       "</style>\n",
       "<table border=\"1\" class=\"dataframe\">\n",
       "  <thead>\n",
       "    <tr style=\"text-align: right;\">\n",
       "      <th></th>\n",
       "      <th>LQI</th>\n",
       "    </tr>\n",
       "  </thead>\n",
       "  <tbody>\n",
       "    <tr>\n",
       "      <th>0</th>\n",
       "      <td>5.904505e-223</td>\n",
       "    </tr>\n",
       "    <tr>\n",
       "      <th>1</th>\n",
       "      <td>3.326132e-222</td>\n",
       "    </tr>\n",
       "    <tr>\n",
       "      <th>2</th>\n",
       "      <td>2.187158e-222</td>\n",
       "    </tr>\n",
       "    <tr>\n",
       "      <th>3</th>\n",
       "      <td>6.121929e-222</td>\n",
       "    </tr>\n",
       "    <tr>\n",
       "      <th>4</th>\n",
       "      <td>6.996989e-222</td>\n",
       "    </tr>\n",
       "    <tr>\n",
       "      <th>...</th>\n",
       "      <td>...</td>\n",
       "    </tr>\n",
       "    <tr>\n",
       "      <th>801</th>\n",
       "      <td>0.000000e+00</td>\n",
       "    </tr>\n",
       "    <tr>\n",
       "      <th>802</th>\n",
       "      <td>0.000000e+00</td>\n",
       "    </tr>\n",
       "    <tr>\n",
       "      <th>803</th>\n",
       "      <td>0.000000e+00</td>\n",
       "    </tr>\n",
       "    <tr>\n",
       "      <th>804</th>\n",
       "      <td>0.000000e+00</td>\n",
       "    </tr>\n",
       "    <tr>\n",
       "      <th>805</th>\n",
       "      <td>0.000000e+00</td>\n",
       "    </tr>\n",
       "  </tbody>\n",
       "</table>\n",
       "<p>806 rows × 1 columns</p>\n",
       "</div>"
      ],
      "text/plain": [
       "               LQI\n",
       "0    5.904505e-223\n",
       "1    3.326132e-222\n",
       "2    2.187158e-222\n",
       "3    6.121929e-222\n",
       "4    6.996989e-222\n",
       "..             ...\n",
       "801   0.000000e+00\n",
       "802   0.000000e+00\n",
       "803   0.000000e+00\n",
       "804   0.000000e+00\n",
       "805   0.000000e+00\n",
       "\n",
       "[806 rows x 1 columns]"
      ]
     },
     "execution_count": 44,
     "metadata": {},
     "output_type": "execute_result"
    }
   ],
   "source": [
    "#renombrar la columna para poder concatenar\n",
    "predictions2=predictions2.rename(columns={0:'LQI'})\n",
    "predictions2"
   ]
  },
  {
   "cell_type": "code",
   "execution_count": 45,
   "id": "5fef350f",
   "metadata": {},
   "outputs": [
    {
     "data": {
      "text/html": [
       "<div>\n",
       "<style scoped>\n",
       "    .dataframe tbody tr th:only-of-type {\n",
       "        vertical-align: middle;\n",
       "    }\n",
       "\n",
       "    .dataframe tbody tr th {\n",
       "        vertical-align: top;\n",
       "    }\n",
       "\n",
       "    .dataframe thead th {\n",
       "        text-align: right;\n",
       "    }\n",
       "</style>\n",
       "<table border=\"1\" class=\"dataframe\">\n",
       "  <thead>\n",
       "    <tr style=\"text-align: right;\">\n",
       "      <th></th>\n",
       "      <th>LQI</th>\n",
       "    </tr>\n",
       "  </thead>\n",
       "  <tbody>\n",
       "    <tr>\n",
       "      <th>0</th>\n",
       "      <td>1.000000e+00</td>\n",
       "    </tr>\n",
       "    <tr>\n",
       "      <th>1</th>\n",
       "      <td>1.010000e+02</td>\n",
       "    </tr>\n",
       "    <tr>\n",
       "      <th>2</th>\n",
       "      <td>1.050000e+02</td>\n",
       "    </tr>\n",
       "    <tr>\n",
       "      <th>3</th>\n",
       "      <td>1.000000e+00</td>\n",
       "    </tr>\n",
       "    <tr>\n",
       "      <th>4</th>\n",
       "      <td>8.700000e+01</td>\n",
       "    </tr>\n",
       "    <tr>\n",
       "      <th>...</th>\n",
       "      <td>...</td>\n",
       "    </tr>\n",
       "    <tr>\n",
       "      <th>5236</th>\n",
       "      <td>1.032005e-222</td>\n",
       "    </tr>\n",
       "    <tr>\n",
       "      <th>5237</th>\n",
       "      <td>8.282702e-223</td>\n",
       "    </tr>\n",
       "    <tr>\n",
       "      <th>5238</th>\n",
       "      <td>4.937200e-223</td>\n",
       "    </tr>\n",
       "    <tr>\n",
       "      <th>5239</th>\n",
       "      <td>4.249544e-223</td>\n",
       "    </tr>\n",
       "    <tr>\n",
       "      <th>5240</th>\n",
       "      <td>5.904505e-223</td>\n",
       "    </tr>\n",
       "  </tbody>\n",
       "</table>\n",
       "<p>5241 rows × 1 columns</p>\n",
       "</div>"
      ],
      "text/plain": [
       "                LQI\n",
       "0      1.000000e+00\n",
       "1      1.010000e+02\n",
       "2      1.050000e+02\n",
       "3      1.000000e+00\n",
       "4      8.700000e+01\n",
       "...             ...\n",
       "5236  1.032005e-222\n",
       "5237  8.282702e-223\n",
       "5238  4.937200e-223\n",
       "5239  4.249544e-223\n",
       "5240  5.904505e-223\n",
       "\n",
       "[5241 rows x 1 columns]"
      ]
     },
     "execution_count": 45,
     "metadata": {},
     "output_type": "execute_result"
    }
   ],
   "source": [
    "data = datas[:entrenamiento]\n",
    "train3 = pd.concat([train2,predictions2])\n",
    "train3=train2.reset_index(drop=True)  #reseteo index\n",
    "train3"
   ]
  },
  {
   "cell_type": "code",
   "execution_count": 46,
   "id": "b636ba67",
   "metadata": {},
   "outputs": [
    {
     "data": {
      "text/plain": [
       "LQI    1.27369\n",
       "dtype: float64"
      ]
     },
     "execution_count": 46,
     "metadata": {},
     "output_type": "execute_result"
    },
    {
     "data": {
      "image/png": "[encoded data removed]",
      "text/plain": [
       "<Figure size 1080x432 with 1 Axes>"
      ]
     },
     "metadata": {
      "needs_background": "light"
     },
     "output_type": "display_data"
    },
    {
     "data": {
      "image/png": "[encoded data removed]",
      "text/plain": [
       "<Figure size 1080x432 with 1 Axes>"
      ]
     },
     "metadata": {
      "needs_background": "light"
     },
     "output_type": "display_data"
    }
   ],
   "source": [
    "#Realizo el tercer entrenamiento de 0-75 para predecir 75-100\n",
    "data=train3\n",
    "# Estimate historycal log returns\n",
    "log_returns = np.log(1+data.pct_change())\n",
    "log_returns.tail()\n",
    "# Plot stock price\n",
    "data.plot(figsize=(15,6))\n",
    "plt.ylabel('LQI')\n",
    "plt.xlabel ('Date')\n",
    "plt.title('LQI')\n",
    "plt.grid(True)\n",
    "# Plot stock return\n",
    "log_returns.plot(figsize = (15,6))\n",
    "plt.ylabel('% change')\n",
    "plt.xlabel('Date')\n",
    "plt.title('LQI change')\n",
    "plt.grid(True)\n",
    "# Calulate log return mean\n",
    "u = log_returns.mean()\n",
    "u\n",
    "# Calculate log return variance\n",
    "var = log_returns.var()\n",
    "var"
   ]
  },
  {
   "cell_type": "code",
   "execution_count": 47,
   "id": "8d4e136b",
   "metadata": {},
   "outputs": [
    {
     "data": {
      "text/plain": [
       "array([[0.86536763, 0.16591038],\n",
       "       [0.21862798, 0.17927173],\n",
       "       [0.67261268, 0.61207716],\n",
       "       ...,\n",
       "       [0.7717008 , 0.1456882 ],\n",
       "       [0.62350065, 0.74063167],\n",
       "       [0.43640268, 0.92920224]])"
      ]
     },
     "execution_count": 47,
     "metadata": {},
     "output_type": "execute_result"
    }
   ],
   "source": [
    "# Calculate drift\n",
    "# Hence we are predicting daily stock price, this number is NOT annualized. \n",
    "drift = u - (0.5*var)\n",
    "drift\n",
    "# Calculate standard deviation \n",
    "stdev = log_returns.std()\n",
    "stdev\n",
    "type(drift)\n",
    "type(stdev)\n",
    "# Convert values to arrays\n",
    "np.array(drift)\n",
    "np.array(stdev)\n",
    "# Where 0.95 : an event has 95% chance of occuring\n",
    "norm.ppf(0.95)\n",
    "# to randomize and generate a 10,2 dimension array. The array below contains randomly generated probilities\n",
    "x = np.random.rand(10000,2) \n",
    "x"
   ]
  },
  {
   "cell_type": "code",
   "execution_count": 48,
   "id": "ad2fae06",
   "metadata": {},
   "outputs": [
    {
     "data": {
      "text/plain": [
       "array([[ 0.5598499 ,  1.55023016],\n",
       "       [ 0.65442294,  1.08266693],\n",
       "       [-1.16295461,  2.43816907],\n",
       "       ...,\n",
       "       [-0.54323368,  1.10206394],\n",
       "       [ 1.07307696, -0.43436792],\n",
       "       [-0.11446958, -0.52502409]])"
      ]
     },
     "execution_count": 48,
     "metadata": {},
     "output_type": "execute_result"
    }
   ],
   "source": [
    "# Obtain the distance of these probabilites from the mean\n",
    "# The first number in the first row correspondes the first number of the first row above\n",
    "norm.ppf(x)\n",
    "# Generate a random number 'z' that corresposnds to the distance between the mean and the events, \n",
    "# expressed as the number of standard deviation\n",
    "# The new array uses the probailities generated by the random function and \n",
    "# converted them into distances from the mean 0, measured by the number of standard deviations. \n",
    "# This expression is the 'z' in our formula. \n",
    "z = norm.ppf(np.random.rand(10000,2))\n",
    "z\n"
   ]
  },
  {
   "cell_type": "code",
   "execution_count": 49,
   "id": "bec06d9e",
   "metadata": {},
   "outputs": [],
   "source": [
    "# Calucalte stock prices\n",
    "t_intervals = testing3\n",
    "iterations = 100000 # We want Python to run the loop ***** times"
   ]
  },
  {
   "cell_type": "code",
   "execution_count": 50,
   "id": "c319d2f8",
   "metadata": {},
   "outputs": [
    {
     "data": {
      "text/plain": [
       "array([[0.2782195 , 1.16409251, 0.04522788, ..., 0.28736534, 0.6195973 ,\n",
       "        1.02683588],\n",
       "       [0.57188692, 1.47898264, 0.38784116, ..., 1.68897678, 0.08346936,\n",
       "        0.15853875],\n",
       "       [2.05112514, 0.60478508, 1.78055584, ..., 0.5905919 , 1.37761184,\n",
       "        0.17388707],\n",
       "       ...,\n",
       "       [0.16812763, 0.26005319, 0.40319506, ..., 0.30993482, 0.7300784 ,\n",
       "        0.07952876],\n",
       "       [0.31321627, 0.2887899 , 1.02223602, ..., 0.46095167, 0.07685789,\n",
       "        2.26796639],\n",
       "       [0.07563459, 1.31704396, 0.53534531, ..., 1.82749695, 0.03523149,\n",
       "        0.96436181]])"
      ]
     },
     "execution_count": 50,
     "metadata": {},
     "output_type": "execute_result"
    }
   ],
   "source": [
    "daily_returns = np.exp(drift.values + stdev.values * norm.ppf(np.random.rand(t_intervals,iterations)))\n",
    "daily_returns"
   ]
  },
  {
   "cell_type": "code",
   "execution_count": 51,
   "id": "301c6c5a",
   "metadata": {},
   "outputs": [
    {
     "data": {
      "text/plain": [
       "array([[5.90450498e-223, 5.90450498e-223, 5.90450498e-223, ...,\n",
       "        5.90450498e-223, 5.90450498e-223, 5.90450498e-223],\n",
       "       [3.37670918e-223, 8.73266038e-223, 2.29001006e-223, ...,\n",
       "        9.97257179e-223, 4.92845229e-224, 9.36092845e-224],\n",
       "       [6.92605308e-223, 5.28138267e-223, 4.07749078e-223, ...,\n",
       "        5.88972011e-223, 6.78949420e-224, 1.62774445e-224],\n",
       "       ...,\n",
       "       [0.00000000e+000, 0.00000000e+000, 0.00000000e+000, ...,\n",
       "        0.00000000e+000, 0.00000000e+000, 0.00000000e+000],\n",
       "       [0.00000000e+000, 0.00000000e+000, 0.00000000e+000, ...,\n",
       "        0.00000000e+000, 0.00000000e+000, 0.00000000e+000],\n",
       "       [0.00000000e+000, 0.00000000e+000, 0.00000000e+000, ...,\n",
       "        0.00000000e+000, 0.00000000e+000, 0.00000000e+000]])"
      ]
     },
     "execution_count": 51,
     "metadata": {},
     "output_type": "execute_result"
    }
   ],
   "source": [
    "# Determining the first datapoint in the equation, which is the latest known price return in our dataset\n",
    "S0 = data.iloc[-1]\n",
    "S0\n",
    "# Creating an array, same size as the daily return filed with 0s\n",
    "price_list = np.zeros_like(daily_returns)\n",
    "price_list\n",
    "# Replace zeros with the prices by creating a loop\n",
    "# S0 is the first elemnt on each - here * - columns as we will have * iterations generated from the same\n",
    "# starting point\n",
    "price_list[0]=S0\n",
    "price_list\n",
    "# After generating all the elements of the formula, fill it\n",
    "for t in range (1, t_intervals):\n",
    "    price_list[t] = price_list[t-1]*daily_returns[t]\n",
    "\n",
    "price_list"
   ]
  },
  {
   "cell_type": "code",
   "execution_count": 52,
   "id": "f5d635aa",
   "metadata": {},
   "outputs": [
    {
     "data": {
      "image/png": "[encoded data removed]",
      "text/plain": [
       "<Figure size 1080x432 with 1 Axes>"
      ]
     },
     "metadata": {
      "needs_background": "light"
     },
     "output_type": "display_data"
    }
   ],
   "source": [
    "# Plot the last 500 out of the * simulated stock prices\n",
    "plt.figure(figsize=(15,6))\n",
    "plt.plot(price_list[:, :5000]);\n",
    "plt.ylabel('LQI')\n",
    "plt.xlabel('Date')\n",
    "plt.title ('Monte Carlo Simulation Outcome')\n",
    "plt.grid(True)"
   ]
  },
  {
   "cell_type": "code",
   "execution_count": 53,
   "id": "15ed1c75",
   "metadata": {},
   "outputs": [
    {
     "data": {
      "text/html": [
       "<div>\n",
       "<style scoped>\n",
       "    .dataframe tbody tr th:only-of-type {\n",
       "        vertical-align: middle;\n",
       "    }\n",
       "\n",
       "    .dataframe tbody tr th {\n",
       "        vertical-align: top;\n",
       "    }\n",
       "\n",
       "    .dataframe thead th {\n",
       "        text-align: right;\n",
       "    }\n",
       "</style>\n",
       "<table border=\"1\" class=\"dataframe\">\n",
       "  <thead>\n",
       "    <tr style=\"text-align: right;\">\n",
       "      <th></th>\n",
       "      <th>LQI</th>\n",
       "    </tr>\n",
       "  </thead>\n",
       "  <tbody>\n",
       "    <tr>\n",
       "      <th>0</th>\n",
       "      <td>107</td>\n",
       "    </tr>\n",
       "    <tr>\n",
       "      <th>1</th>\n",
       "      <td>106</td>\n",
       "    </tr>\n",
       "    <tr>\n",
       "      <th>2</th>\n",
       "      <td>107</td>\n",
       "    </tr>\n",
       "    <tr>\n",
       "      <th>3</th>\n",
       "      <td>108</td>\n",
       "    </tr>\n",
       "    <tr>\n",
       "      <th>4</th>\n",
       "      <td>108</td>\n",
       "    </tr>\n",
       "    <tr>\n",
       "      <th>...</th>\n",
       "      <td>...</td>\n",
       "    </tr>\n",
       "    <tr>\n",
       "      <th>2011</th>\n",
       "      <td>103</td>\n",
       "    </tr>\n",
       "    <tr>\n",
       "      <th>2012</th>\n",
       "      <td>104</td>\n",
       "    </tr>\n",
       "    <tr>\n",
       "      <th>2013</th>\n",
       "      <td>101</td>\n",
       "    </tr>\n",
       "    <tr>\n",
       "      <th>2014</th>\n",
       "      <td>102</td>\n",
       "    </tr>\n",
       "    <tr>\n",
       "      <th>2015</th>\n",
       "      <td>101</td>\n",
       "    </tr>\n",
       "  </tbody>\n",
       "</table>\n",
       "<p>2016 rows × 1 columns</p>\n",
       "</div>"
      ],
      "text/plain": [
       "      LQI\n",
       "0     107\n",
       "1     106\n",
       "2     107\n",
       "3     108\n",
       "4     108\n",
       "...   ...\n",
       "2011  103\n",
       "2012  104\n",
       "2013  101\n",
       "2014  102\n",
       "2015  101\n",
       "\n",
       "[2016 rows x 1 columns]"
      ]
     },
     "execution_count": 53,
     "metadata": {},
     "output_type": "execute_result"
    }
   ],
   "source": [
    "#sacar la parte de test\n",
    "test = datas[entrenamiento3:cantidad]\n",
    "test=test.reset_index(drop=\"true\")\n",
    "test"
   ]
  },
  {
   "cell_type": "code",
   "execution_count": null,
   "id": "e3e535f3",
   "metadata": {},
   "outputs": [],
   "source": [
    "# Load specific evaluation tools \n",
    "from sklearn.metrics import mean_squared_error \n",
    "from statsmodels.tools.eval_measures import rmse \n",
    "\n",
    "#for para comparar todas las predicciones\n",
    "\n",
    "menor=1500#el rmse mínimo a comenzar a comparar\n",
    "index=0;\n",
    "\n",
    "for i in range(0, iterations):\n",
    "    prediction = rmse(test[\"LQI\"], price_list[:, i]) \n",
    "    if prediction<menor:\n",
    "        menor=prediction\n",
    "        index=i\n",
    "        \n",
    "        \n",
    "print(menor, index)"
   ]
  },
  {
   "cell_type": "code",
   "execution_count": null,
   "id": "95212075",
   "metadata": {},
   "outputs": [],
   "source": [
    "# Load specific evaluation tools \n",
    "from sklearn.metrics import mean_squared_error \n",
    "from statsmodels.tools.eval_measures import rmse \n",
    "\n",
    "#Hallar las diferentes métricas\n",
    "\n",
    "prediction1 = price_list[:, index];\n",
    "rmse(test[\"LQI\"], prediction1) \n",
    "\n",
    "\n",
    "# Calculate mean squared error \n",
    "mse = mean_squared_error(test[\"LQI\"], prediction1)\n",
    "print(\"MSE: \")\n",
    "print(mse)\n",
    "\n",
    "# Calculate root mean squared error \n",
    "rmse = rmse(test[\"LQI\"], prediction1)\n",
    "print(\"\\nRMSE: \")\n",
    "print(rmse)\n",
    "\n",
    "# Calculate MAPE\n",
    "def mean_absolute_percentage_error(y_true, y_pred): \n",
    "    y_true, y_pred = np.array(y_true), np.array(y_pred)\n",
    "    return np.mean(np.abs((y_true - y_pred) / y_true)) * 100\n",
    "\n",
    "mape =  mean_absolute_percentage_error(test[\"LQI\"], prediction1)\n",
    "print(\"\\nMAPE (Porcentaje): \")\n",
    "print(mape)"
   ]
  },
  {
   "cell_type": "code",
   "execution_count": null,
   "id": "d73b5abe",
   "metadata": {},
   "outputs": [],
   "source": [
    "bp = price_list[:,index];\n",
    "\n",
    "test.plot(figsize = (20, 5), label=\"true\");\n",
    "plt.plot(bp, label=\"forecast\");"
   ]
  }
 ],
 "metadata": {
  "kernelspec": {
   "display_name": "Python 3",
   "language": "python",
   "name": "python3"
  },
  "language_info": {
   "codemirror_mode": {
    "name": "ipython",
    "version": 3
   },
   "file_extension": ".py",
   "mimetype": "text/x-python",
   "name": "python",
   "nbconvert_exporter": "python",
   "pygments_lexer": "ipython3",
   "version": "3.8.3"
  }
 },
 "nbformat": 4,
 "nbformat_minor": 5
}
